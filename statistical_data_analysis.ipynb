{
 "cells": [
  {
   "cell_type": "markdown",
   "id": "52aa1abd",
   "metadata": {},
   "source": [
    "# Проанализируем данные популярного сервиса аренды самокатов GoFast.\n",
    "\n",
    "Нам передали данные о некоторых пользователях из нескольких городов, а также об их поездках. Проанализируем данные и проверим некоторые гипотезы, которые могут помочь бизнесу вырасти.\n",
    "\n",
    "# План действий\n",
    "- загрузка данных;\n",
    "- предобработка данных;\n",
    "- исследовательский анализ данных;\n",
    "- объединение данных;\n",
    "- подсчет выручки;\n",
    "- проверка гипотез;\n",
    "- распределения.\n"
   ]
  },
  {
   "cell_type": "code",
   "execution_count": 1,
   "id": "e1887676",
   "metadata": {},
   "outputs": [],
   "source": [
    "import pandas as pd\n",
    "import matplotlib.pyplot as plt\n",
    "import seaborn as sns\n",
    "import numpy as np\n",
    "import statistics\n",
    "\n",
    "from scipy import stats as st\n",
    "from scipy.stats import binom, norm\n",
    "\n",
    "from math import sqrt"
   ]
  },
  {
   "cell_type": "markdown",
   "id": "06a5b3c0",
   "metadata": {},
   "source": [
    "#### Шаг 1. Загрузка данных"
   ]
  },
  {
   "cell_type": "markdown",
   "id": "377e4330",
   "metadata": {},
   "source": [
    "Загрузим информацию о пользователях, их поездках и подписках."
   ]
  },
  {
   "cell_type": "code",
   "execution_count": 2,
   "id": "120ce01e",
   "metadata": {},
   "outputs": [],
   "source": [
    "data_users = pd.read_csv('/datasets/users_go.csv')"
   ]
  },
  {
   "cell_type": "markdown",
   "id": "92c1f32b",
   "metadata": {},
   "source": [
    "Загрузим информацию о поездках пользователей."
   ]
  },
  {
   "cell_type": "code",
   "execution_count": 3,
   "id": "9cb6022f",
   "metadata": {},
   "outputs": [],
   "source": [
    "data_rides = pd.read_csv('/datasets/rides_go.csv')"
   ]
  },
  {
   "cell_type": "markdown",
   "id": "69cffd03",
   "metadata": {},
   "source": [
    "Загрузим информацию о типах подписок."
   ]
  },
  {
   "cell_type": "code",
   "execution_count": 4,
   "id": "742b278e",
   "metadata": {},
   "outputs": [],
   "source": [
    "data_subscription = pd.read_csv('/datasets/subscriptions_go.csv')"
   ]
  },
  {
   "cell_type": "markdown",
   "id": "9eaba915",
   "metadata": {},
   "source": [
    "Осмотрим данные датафреймов и изучим данные о них.\n",
    "\n",
    "Рассмотрим датафрейм пользователей."
   ]
  },
  {
   "cell_type": "code",
   "execution_count": 5,
   "id": "48296d6c",
   "metadata": {},
   "outputs": [
    {
     "data": {
      "text/html": [
       "<div>\n",
       "<style scoped>\n",
       "    .dataframe tbody tr th:only-of-type {\n",
       "        vertical-align: middle;\n",
       "    }\n",
       "\n",
       "    .dataframe tbody tr th {\n",
       "        vertical-align: top;\n",
       "    }\n",
       "\n",
       "    .dataframe thead th {\n",
       "        text-align: right;\n",
       "    }\n",
       "</style>\n",
       "<table border=\"1\" class=\"dataframe\">\n",
       "  <thead>\n",
       "    <tr style=\"text-align: right;\">\n",
       "      <th></th>\n",
       "      <th>user_id</th>\n",
       "      <th>name</th>\n",
       "      <th>age</th>\n",
       "      <th>city</th>\n",
       "      <th>subscription_type</th>\n",
       "    </tr>\n",
       "  </thead>\n",
       "  <tbody>\n",
       "    <tr>\n",
       "      <th>0</th>\n",
       "      <td>1</td>\n",
       "      <td>Кира</td>\n",
       "      <td>22</td>\n",
       "      <td>Тюмень</td>\n",
       "      <td>ultra</td>\n",
       "    </tr>\n",
       "    <tr>\n",
       "      <th>1</th>\n",
       "      <td>2</td>\n",
       "      <td>Станислав</td>\n",
       "      <td>31</td>\n",
       "      <td>Омск</td>\n",
       "      <td>ultra</td>\n",
       "    </tr>\n",
       "    <tr>\n",
       "      <th>2</th>\n",
       "      <td>3</td>\n",
       "      <td>Алексей</td>\n",
       "      <td>20</td>\n",
       "      <td>Москва</td>\n",
       "      <td>ultra</td>\n",
       "    </tr>\n",
       "    <tr>\n",
       "      <th>3</th>\n",
       "      <td>4</td>\n",
       "      <td>Константин</td>\n",
       "      <td>26</td>\n",
       "      <td>Ростов-на-Дону</td>\n",
       "      <td>ultra</td>\n",
       "    </tr>\n",
       "    <tr>\n",
       "      <th>4</th>\n",
       "      <td>5</td>\n",
       "      <td>Адель</td>\n",
       "      <td>28</td>\n",
       "      <td>Омск</td>\n",
       "      <td>ultra</td>\n",
       "    </tr>\n",
       "  </tbody>\n",
       "</table>\n",
       "</div>"
      ],
      "text/plain": [
       "   user_id        name  age            city subscription_type\n",
       "0        1        Кира   22          Тюмень             ultra\n",
       "1        2   Станислав   31            Омск             ultra\n",
       "2        3     Алексей   20          Москва             ultra\n",
       "3        4  Константин   26  Ростов-на-Дону             ultra\n",
       "4        5       Адель   28            Омск             ultra"
      ]
     },
     "execution_count": 5,
     "metadata": {},
     "output_type": "execute_result"
    }
   ],
   "source": [
    "#pd.set_option('display.max_columns', None)\n",
    "data_users.head()"
   ]
  },
  {
   "cell_type": "code",
   "execution_count": 6,
   "id": "375b592a",
   "metadata": {},
   "outputs": [
    {
     "name": "stdout",
     "output_type": "stream",
     "text": [
      "Всего строк: 1565\n",
      "\n",
      "<class 'pandas.core.frame.DataFrame'>\n",
      "RangeIndex: 1565 entries, 0 to 1564\n",
      "Data columns (total 5 columns):\n",
      " #   Column             Non-Null Count  Dtype \n",
      "---  ------             --------------  ----- \n",
      " 0   user_id            1565 non-null   int64 \n",
      " 1   name               1565 non-null   object\n",
      " 2   age                1565 non-null   int64 \n",
      " 3   city               1565 non-null   object\n",
      " 4   subscription_type  1565 non-null   object\n",
      "dtypes: int64(2), object(3)\n",
      "memory usage: 61.3+ KB\n"
     ]
    }
   ],
   "source": [
    "print(f\"Всего строк: {len(data_users)}\")\n",
    "print()\n",
    "data_users.info()"
   ]
  },
  {
   "cell_type": "code",
   "execution_count": 7,
   "id": "9275b278",
   "metadata": {},
   "outputs": [
    {
     "data": {
      "image/png": "[encoded data removed]",
      "text/plain": [
       "<Figure size 432x288 with 2 Axes>"
      ]
     },
     "metadata": {
      "needs_background": "light"
     },
     "output_type": "display_data"
    }
   ],
   "source": [
    "data_users.hist()\n",
    "plt.show()"
   ]
  },
  {
   "cell_type": "markdown",
   "id": "beb81352",
   "metadata": {},
   "source": [
    "Вывод по таблице с пользователями:\n",
    "- названия столбцов не требуют изменений;\n",
    "- во всех столбцах отсутсвуют пропуски;\n",
    "- неравномерность в столбце `user_id` может свидетельствовать и дубликатах.\n",
    "\n",
    "Рассмотрим таблицу поездок."
   ]
  },
  {
   "cell_type": "code",
   "execution_count": 8,
   "id": "4d502c8f",
   "metadata": {
    "scrolled": true
   },
   "outputs": [
    {
     "data": {
      "text/html": [
       "<div>\n",
       "<style scoped>\n",
       "    .dataframe tbody tr th:only-of-type {\n",
       "        vertical-align: middle;\n",
       "    }\n",
       "\n",
       "    .dataframe tbody tr th {\n",
       "        vertical-align: top;\n",
       "    }\n",
       "\n",
       "    .dataframe thead th {\n",
       "        text-align: right;\n",
       "    }\n",
       "</style>\n",
       "<table border=\"1\" class=\"dataframe\">\n",
       "  <thead>\n",
       "    <tr style=\"text-align: right;\">\n",
       "      <th></th>\n",
       "      <th>user_id</th>\n",
       "      <th>distance</th>\n",
       "      <th>duration</th>\n",
       "      <th>date</th>\n",
       "    </tr>\n",
       "  </thead>\n",
       "  <tbody>\n",
       "    <tr>\n",
       "      <th>0</th>\n",
       "      <td>1</td>\n",
       "      <td>4409.919140</td>\n",
       "      <td>25.599769</td>\n",
       "      <td>2021-01-01</td>\n",
       "    </tr>\n",
       "    <tr>\n",
       "      <th>1</th>\n",
       "      <td>1</td>\n",
       "      <td>2617.592153</td>\n",
       "      <td>15.816871</td>\n",
       "      <td>2021-01-18</td>\n",
       "    </tr>\n",
       "    <tr>\n",
       "      <th>2</th>\n",
       "      <td>1</td>\n",
       "      <td>754.159807</td>\n",
       "      <td>6.232113</td>\n",
       "      <td>2021-04-20</td>\n",
       "    </tr>\n",
       "    <tr>\n",
       "      <th>3</th>\n",
       "      <td>1</td>\n",
       "      <td>2694.783254</td>\n",
       "      <td>18.511000</td>\n",
       "      <td>2021-08-11</td>\n",
       "    </tr>\n",
       "    <tr>\n",
       "      <th>4</th>\n",
       "      <td>1</td>\n",
       "      <td>4028.687306</td>\n",
       "      <td>26.265803</td>\n",
       "      <td>2021-08-28</td>\n",
       "    </tr>\n",
       "  </tbody>\n",
       "</table>\n",
       "</div>"
      ],
      "text/plain": [
       "   user_id     distance   duration        date\n",
       "0        1  4409.919140  25.599769  2021-01-01\n",
       "1        1  2617.592153  15.816871  2021-01-18\n",
       "2        1   754.159807   6.232113  2021-04-20\n",
       "3        1  2694.783254  18.511000  2021-08-11\n",
       "4        1  4028.687306  26.265803  2021-08-28"
      ]
     },
     "execution_count": 8,
     "metadata": {},
     "output_type": "execute_result"
    }
   ],
   "source": [
    "data_rides.head()"
   ]
  },
  {
   "cell_type": "code",
   "execution_count": 9,
   "id": "a40a046f",
   "metadata": {},
   "outputs": [
    {
     "name": "stdout",
     "output_type": "stream",
     "text": [
      "Всего строк: 18068\n",
      "\n",
      "<class 'pandas.core.frame.DataFrame'>\n",
      "RangeIndex: 18068 entries, 0 to 18067\n",
      "Data columns (total 4 columns):\n",
      " #   Column    Non-Null Count  Dtype  \n",
      "---  ------    --------------  -----  \n",
      " 0   user_id   18068 non-null  int64  \n",
      " 1   distance  18068 non-null  float64\n",
      " 2   duration  18068 non-null  float64\n",
      " 3   date      18068 non-null  object \n",
      "dtypes: float64(2), int64(1), object(1)\n",
      "memory usage: 564.8+ KB\n"
     ]
    }
   ],
   "source": [
    "print(f\"Всего строк: {len(data_rides)}\")\n",
    "print()\n",
    "data_rides.info()"
   ]
  },
  {
   "cell_type": "code",
   "execution_count": 10,
   "id": "341b5c8e",
   "metadata": {
    "scrolled": false
   },
   "outputs": [
    {
     "data": {
      "image/png": "[encoded data removed]",
      "text/plain": [
       "<Figure size 720x720 with 4 Axes>"
      ]
     },
     "metadata": {
      "needs_background": "light"
     },
     "output_type": "display_data"
    }
   ],
   "source": [
    "data_rides.hist(bins=30, figsize=(10,10))\n",
    "plt.show()"
   ]
  },
  {
   "cell_type": "markdown",
   "id": "6dc32f3d",
   "metadata": {},
   "source": [
    "Вывод по таблице поездок:\n",
    "- названия столбцов не требуют изменений;\n",
    "- во всех столбцах отсутсвуют пропуски;\n",
    "- пользователи с id больше 700 чаще совершали повторные поездки;\n",
    "- столбец `distance` имеет нормальное распределение и 2 явных пиковых значения. Возможные причины возникновения: 2 скоростных режима у самокатов;\n",
    "- столбец `duration` имеет нормальное распределение без особо выбивающихся значений. Следует обратить внимание на значения близкие к нулю;\n",
    "- столбец `date` необходимо привести к типу даты pandas.\n",
    "\n",
    "Рассмотрим таблицу тарифов."
   ]
  },
  {
   "cell_type": "code",
   "execution_count": 11,
   "id": "669505a9",
   "metadata": {},
   "outputs": [
    {
     "data": {
      "text/html": [
       "<div>\n",
       "<style scoped>\n",
       "    .dataframe tbody tr th:only-of-type {\n",
       "        vertical-align: middle;\n",
       "    }\n",
       "\n",
       "    .dataframe tbody tr th {\n",
       "        vertical-align: top;\n",
       "    }\n",
       "\n",
       "    .dataframe thead th {\n",
       "        text-align: right;\n",
       "    }\n",
       "</style>\n",
       "<table border=\"1\" class=\"dataframe\">\n",
       "  <thead>\n",
       "    <tr style=\"text-align: right;\">\n",
       "      <th></th>\n",
       "      <th>subscription_type</th>\n",
       "      <th>minute_price</th>\n",
       "      <th>start_ride_price</th>\n",
       "      <th>subscription_fee</th>\n",
       "    </tr>\n",
       "  </thead>\n",
       "  <tbody>\n",
       "    <tr>\n",
       "      <th>0</th>\n",
       "      <td>free</td>\n",
       "      <td>8</td>\n",
       "      <td>50</td>\n",
       "      <td>0</td>\n",
       "    </tr>\n",
       "    <tr>\n",
       "      <th>1</th>\n",
       "      <td>ultra</td>\n",
       "      <td>6</td>\n",
       "      <td>0</td>\n",
       "      <td>199</td>\n",
       "    </tr>\n",
       "  </tbody>\n",
       "</table>\n",
       "</div>"
      ],
      "text/plain": [
       "  subscription_type  minute_price  start_ride_price  subscription_fee\n",
       "0              free             8                50                 0\n",
       "1             ultra             6                 0               199"
      ]
     },
     "execution_count": 11,
     "metadata": {},
     "output_type": "execute_result"
    }
   ],
   "source": [
    "data_subscription"
   ]
  },
  {
   "cell_type": "markdown",
   "id": "7d1ba6b2",
   "metadata": {},
   "source": [
    "Таблица является вспомогательной и не требует изменений."
   ]
  },
  {
   "cell_type": "markdown",
   "id": "73cd55f5",
   "metadata": {},
   "source": [
    "#### Шаг 2. Предобработка данных"
   ]
  },
  {
   "cell_type": "markdown",
   "id": "ed348e42",
   "metadata": {},
   "source": [
    "Приведем столбец `date` к типу даты pandas"
   ]
  },
  {
   "cell_type": "code",
   "execution_count": 12,
   "id": "4c933826",
   "metadata": {},
   "outputs": [],
   "source": [
    "data_rides['date'] = pd.to_datetime(\n",
    "    data_rides['date'], format='%Y-%m-%d'\n",
    ")"
   ]
  },
  {
   "cell_type": "markdown",
   "id": "57ff2d98",
   "metadata": {},
   "source": [
    "Создадим новый столбец с номером месяца на основе столбца `date`"
   ]
  },
  {
   "cell_type": "code",
   "execution_count": 13,
   "id": "5d31390b",
   "metadata": {},
   "outputs": [],
   "source": [
    "data_rides['month_of_ride'] = data_rides['date'].dt.month"
   ]
  },
  {
   "cell_type": "code",
   "execution_count": 14,
   "id": "fee862d1",
   "metadata": {},
   "outputs": [
    {
     "name": "stdout",
     "output_type": "stream",
     "text": [
      "Дата первой поездки 2021-01-01 00:00:00\n",
      "Дата последней поездки 2021-12-30 00:00:00\n"
     ]
    }
   ],
   "source": [
    "print(f\"Дата первой поездки {min(data_rides['date'])}\", f\"Дата последней поездки {max(data_rides['date'])}\", sep='\\n')"
   ]
  },
  {
   "cell_type": "markdown",
   "id": "c828fbab",
   "metadata": {},
   "source": [
    "Проверим наличие пропущенных значений и дубликатов в датафреймах. Обработаем их, если такие значения присутствуют.\n",
    "\n",
    "Рассмотрим явные дубликаты."
   ]
  },
  {
   "cell_type": "code",
   "execution_count": 15,
   "id": "43f4b0c1",
   "metadata": {},
   "outputs": [
    {
     "name": "stdout",
     "output_type": "stream",
     "text": [
      "Количество явных дубликатов датафрейма пользователей до обработки: 31\n",
      "Количество явных дубликатов датафрейма пользователей после обработки: 0\n"
     ]
    }
   ],
   "source": [
    "print(f\"Количество явных дубликатов датафрейма пользователей до обработки: \\\n",
    "{data_users.duplicated().sum()}\")\n",
    "\n",
    "data_users = data_users.drop_duplicates()\n",
    "\n",
    "print(f\"Количество явных дубликатов датафрейма пользователей после обработки: \\\n",
    "{data_users.duplicated().sum()}\")"
   ]
  },
  {
   "cell_type": "code",
   "execution_count": 16,
   "id": "1f48705f",
   "metadata": {},
   "outputs": [
    {
     "name": "stdout",
     "output_type": "stream",
     "text": [
      "Количество явных дубликатов датафрейма поездок: 0\n"
     ]
    }
   ],
   "source": [
    "print(f\"Количество явных дубликатов датафрейма поездок: {data_rides.duplicated().sum()}\")"
   ]
  },
  {
   "cell_type": "markdown",
   "id": "a1e14127",
   "metadata": {},
   "source": [
    "Рассмотрим неявные дубликаты"
   ]
  },
  {
   "cell_type": "code",
   "execution_count": 17,
   "id": "49792362",
   "metadata": {},
   "outputs": [
    {
     "data": {
      "text/plain": [
       "array(['Тюмень', 'Омск', 'Москва', 'Ростов-на-Дону', 'Краснодар',\n",
       "       'Пятигорск', 'Екатеринбург', 'Сочи'], dtype=object)"
      ]
     },
     "execution_count": 17,
     "metadata": {},
     "output_type": "execute_result"
    }
   ],
   "source": [
    "data_users['city'].unique()"
   ]
  },
  {
   "cell_type": "code",
   "execution_count": 18,
   "id": "8f9a5c81",
   "metadata": {},
   "outputs": [
    {
     "data": {
      "image/png": "[encoded data removed]",
      "text/plain": [
       "<Figure size 432x288 with 1 Axes>"
      ]
     },
     "metadata": {
      "needs_background": "light"
     },
     "output_type": "display_data"
    }
   ],
   "source": [
    "data_rides.plot.scatter(\n",
    "    x='duration',\n",
    "    y='distance',\n",
    "    alpha=0.3,\n",
    ")\n",
    "plt.show()"
   ]
  },
  {
   "cell_type": "code",
   "execution_count": 19,
   "id": "fe1dd5ba",
   "metadata": {
    "scrolled": false
   },
   "outputs": [
    {
     "data": {
      "image/png": "[encoded data removed]",
      "text/plain": [
       "<Figure size 432x288 with 1 Axes>"
      ]
     },
     "metadata": {
      "needs_background": "light"
     },
     "output_type": "display_data"
    },
    {
     "name": "stdout",
     "output_type": "stream",
     "text": [
      "Медианное значение для выброса по времени = 0.5:     5113.176548536017\n",
      "Медианное значение для отрезка времени (29; 31):     4032.3558527581467\n",
      "Медианное значение для отрезка времени (34; 36):     4495.0158461350675\n",
      "Медианное значение для отрезка времени (39; 41):     4845.801153185169\n"
     ]
    }
   ],
   "source": [
    "data_rides.hist('duration', bins=30, range=(0, 3))\n",
    "plt.show()\n",
    "\n",
    "print(f\"Медианное значение для выброса по времени = 0.5: \\\n",
    "    {data_rides.loc[(data_rides['duration'] < 2), 'distance'].mean()}\")\n",
    "print(f\"Медианное значение для отрезка времени (29; 31): \\\n",
    "    {data_rides.loc[(data_rides['duration'] > 29) & (data_rides['duration'] < 31), 'distance'].mean()}\")\n",
    "print(f\"Медианное значение для отрезка времени (34; 36): \\\n",
    "    {data_rides.loc[(data_rides['duration'] > 34) & (data_rides['duration'] < 36), 'distance'].mean()}\")\n",
    "print(f\"Медианное значение для отрезка времени (39; 41): \\\n",
    "    {data_rides.loc[(data_rides['duration'] > 39) & (data_rides['duration'] < 41), 'distance'].mean()}\")\n"
   ]
  },
  {
   "cell_type": "markdown",
   "id": "6d4de3f5",
   "metadata": {},
   "source": [
    "Наблюдаем выбросы столбца `duration` для значения 0.5. Гипотеза: время указано не в минутах, а в часах.\n",
    "\n",
    "Медианное значение дистанции поездки при ~30 минутах отличается на 1000 метров, но данные несут необходимые финансовые данные и удалять их не рекомендуется. Заменим выбивающиеся значения в зависимости от дистанции, чтобы оказать меньше влияния на исходные данные.\n",
    "\n",
    "*Преподаватель из каната проекта рекомендовал просто изучить данный вопрос (предложил гипотезу: \"0.5 указано в часах\") и предложить гипотезы, однако, я бы поступил следующим образом (код комментарием в ячейке ниже), либо удалил эти данные, поскольку их не значительное количество.*"
   ]
  },
  {
   "cell_type": "code",
   "execution_count": 20,
   "id": "d0e027ab",
   "metadata": {},
   "outputs": [],
   "source": [
    "data_rides.loc[(data_rides['duration'] == 0.5) & (data_rides['distance'] < 5000), 'duration'] = 30\n",
    "data_rides.loc[(data_rides['duration'] == 0.5) & (data_rides['distance'] >= 5000) & (data_rides['distance'] < 6000), 'duration'] = 35\n",
    "data_rides.loc[(data_rides['duration'] == 0.5) & (data_rides['distance'] >= 6000), 'duration'] = 40"
   ]
  },
  {
   "cell_type": "code",
   "execution_count": 21,
   "id": "bf4eab56",
   "metadata": {},
   "outputs": [],
   "source": [
    "# data_rides.plot.scatter(\n",
    "#     x='duration',\n",
    "#     y='distance',\n",
    "#     alpha=0.1,\n",
    "# )\n",
    "# plt.show()"
   ]
  },
  {
   "cell_type": "markdown",
   "id": "2776397d",
   "metadata": {},
   "source": [
    "Итог:\n",
    "- привели столбец `data_rides['date']` к нужному формату;\n",
    "- данные предоставлены только за 2021 год;\n",
    "- удалены дубликаты в датафрейме пользователей;\n",
    "- устранены выбивающиеся значения столбца `data_rides['duration']`;\n",
    "- проверены неявные дубликаты в столбце `data_users['city']`."
   ]
  },
  {
   "cell_type": "markdown",
   "id": "b9593a9c",
   "metadata": {},
   "source": [
    "#### Шаг 3. Исследовательский анализ данных\n",
    "\n",
    "Опишим и визуализируем общую информацию о пользователях и поездках:\n",
    "##### Частота встречаемости городов"
   ]
  },
  {
   "cell_type": "code",
   "execution_count": 22,
   "id": "c9c99822",
   "metadata": {},
   "outputs": [
    {
     "data": {
      "text/plain": [
       "city\n",
       "Пятигорск         219\n",
       "Екатеринбург      204\n",
       "Ростов-на-Дону    198\n",
       "Краснодар         193\n",
       "Сочи              189\n",
       "Омск              183\n",
       "Тюмень            180\n",
       "Москва            168\n",
       "dtype: int64"
      ]
     },
     "execution_count": 22,
     "metadata": {},
     "output_type": "execute_result"
    }
   ],
   "source": [
    "data_users.value_counts('city')"
   ]
  },
  {
   "cell_type": "markdown",
   "id": "864e5b9f",
   "metadata": {},
   "source": [
    "Что удивительно, больше всего пользователей из небольшого города Пятигорск. А из Москвы пользователей на четверть меньше."
   ]
  },
  {
   "cell_type": "code",
   "execution_count": 23,
   "id": "c9732181",
   "metadata": {
    "scrolled": false
   },
   "outputs": [
    {
     "data": {
      "text/html": [
       "<div>\n",
       "<style scoped>\n",
       "    .dataframe tbody tr th:only-of-type {\n",
       "        vertical-align: middle;\n",
       "    }\n",
       "\n",
       "    .dataframe tbody tr th {\n",
       "        vertical-align: top;\n",
       "    }\n",
       "\n",
       "    .dataframe thead th {\n",
       "        text-align: right;\n",
       "    }\n",
       "</style>\n",
       "<table border=\"1\" class=\"dataframe\">\n",
       "  <thead>\n",
       "    <tr style=\"text-align: right;\">\n",
       "      <th></th>\n",
       "      <th></th>\n",
       "      <th>user_id</th>\n",
       "    </tr>\n",
       "    <tr>\n",
       "      <th>subscription_type</th>\n",
       "      <th>city</th>\n",
       "      <th></th>\n",
       "    </tr>\n",
       "  </thead>\n",
       "  <tbody>\n",
       "    <tr>\n",
       "      <th rowspan=\"8\" valign=\"top\">ultra</th>\n",
       "      <th>Пятигорск</th>\n",
       "      <td>94</td>\n",
       "    </tr>\n",
       "    <tr>\n",
       "      <th>Екатеринбург</th>\n",
       "      <td>92</td>\n",
       "    </tr>\n",
       "    <tr>\n",
       "      <th>Омск</th>\n",
       "      <td>91</td>\n",
       "    </tr>\n",
       "    <tr>\n",
       "      <th>Ростов-на-Дону</th>\n",
       "      <td>89</td>\n",
       "    </tr>\n",
       "    <tr>\n",
       "      <th>Сочи</th>\n",
       "      <td>86</td>\n",
       "    </tr>\n",
       "    <tr>\n",
       "      <th>Москва</th>\n",
       "      <td>84</td>\n",
       "    </tr>\n",
       "    <tr>\n",
       "      <th>Тюмень</th>\n",
       "      <td>82</td>\n",
       "    </tr>\n",
       "    <tr>\n",
       "      <th>Краснодар</th>\n",
       "      <td>81</td>\n",
       "    </tr>\n",
       "    <tr>\n",
       "      <th rowspan=\"8\" valign=\"top\">free</th>\n",
       "      <th>Пятигорск</th>\n",
       "      <td>125</td>\n",
       "    </tr>\n",
       "    <tr>\n",
       "      <th>Екатеринбург</th>\n",
       "      <td>112</td>\n",
       "    </tr>\n",
       "    <tr>\n",
       "      <th>Краснодар</th>\n",
       "      <td>112</td>\n",
       "    </tr>\n",
       "    <tr>\n",
       "      <th>Ростов-на-Дону</th>\n",
       "      <td>109</td>\n",
       "    </tr>\n",
       "    <tr>\n",
       "      <th>Сочи</th>\n",
       "      <td>103</td>\n",
       "    </tr>\n",
       "    <tr>\n",
       "      <th>Тюмень</th>\n",
       "      <td>98</td>\n",
       "    </tr>\n",
       "    <tr>\n",
       "      <th>Омск</th>\n",
       "      <td>92</td>\n",
       "    </tr>\n",
       "    <tr>\n",
       "      <th>Москва</th>\n",
       "      <td>84</td>\n",
       "    </tr>\n",
       "  </tbody>\n",
       "</table>\n",
       "</div>"
      ],
      "text/plain": [
       "                                  user_id\n",
       "subscription_type city                   \n",
       "ultra             Пятигорск            94\n",
       "                  Екатеринбург         92\n",
       "                  Омск                 91\n",
       "                  Ростов-на-Дону       89\n",
       "                  Сочи                 86\n",
       "                  Москва               84\n",
       "                  Тюмень               82\n",
       "                  Краснодар            81\n",
       "free              Пятигорск           125\n",
       "                  Екатеринбург        112\n",
       "                  Краснодар           112\n",
       "                  Ростов-на-Дону      109\n",
       "                  Сочи                103\n",
       "                  Тюмень               98\n",
       "                  Омск                 92\n",
       "                  Москва               84"
      ]
     },
     "execution_count": 23,
     "metadata": {},
     "output_type": "execute_result"
    }
   ],
   "source": [
    "(data_users\n",
    " .pivot_table(index=['subscription_type', 'city'],\n",
    "              values='user_id',\n",
    "              aggfunc='count')\n",
    " .sort_values(by=['subscription_type', 'user_id'], ascending=False)\n",
    ")"
   ]
  },
  {
   "cell_type": "code",
   "execution_count": 24,
   "id": "42cb7439",
   "metadata": {},
   "outputs": [
    {
     "data": {
      "image/png": "[encoded data removed]",
      "text/plain": [
       "<Figure size 432x288 with 1 Axes>"
      ]
     },
     "metadata": {
      "needs_background": "light"
     },
     "output_type": "display_data"
    }
   ],
   "source": [
    "sub_percent = {'city':[], 'percent':[]}\n",
    "\n",
    "for city in data_users['city'].unique():\n",
    "    percent = (data_users.loc[(data_users['subscription_type'] == 'ultra') & (data_users['city'] == city), 'subscription_type'].count() / \\\n",
    "          data_users.loc[(data_users['city'] == city), 'subscription_type'].count()) * 100\n",
    "    sub_percent['city'].append(city)\n",
    "    sub_percent['percent'].append(percent)\n",
    "\n",
    "(pd.DataFrame.from_dict(sub_percent)\n",
    " .sort_values(by='percent', ascending=False)\n",
    " .plot.barh(x='city', y='percent')\n",
    ")\n",
    "\n",
    "plt.title(\"Процент пользователей с подпиской\")\n",
    "plt.xlabel(\"Процент\")\n",
    "plt.ylabel(\"Город\")\n",
    "plt.show()"
   ]
  },
  {
   "cell_type": "markdown",
   "id": "8e3e3c66",
   "metadata": {},
   "source": [
    "А вот тут уже интереснее, поскольку соотношение числа пользователей с подпиской и без явно лучше в Москве. \n",
    "##### Соотношение пользователей с подпиской и без подписки"
   ]
  },
  {
   "cell_type": "code",
   "execution_count": 25,
   "id": "ad4d5a14",
   "metadata": {},
   "outputs": [
    {
     "data": {
      "text/plain": [
       "0.4556714471968709"
      ]
     },
     "execution_count": 25,
     "metadata": {},
     "output_type": "execute_result"
    }
   ],
   "source": [
    "len(data_users.loc[data_users['subscription_type'] == 'ultra']) / \\\n",
    "    len(data_users['subscription_type'])"
   ]
  },
  {
   "cell_type": "code",
   "execution_count": 26,
   "id": "549d319d",
   "metadata": {},
   "outputs": [
    {
     "data": {
      "image/png": "[encoded data removed]",
      "text/plain": [
       "<Figure size 432x288 with 1 Axes>"
      ]
     },
     "metadata": {},
     "output_type": "display_data"
    }
   ],
   "source": [
    "# (data_users\n",
    "#  .pivot_table(index='subscription_type', values='user_id', aggfunc='count')\n",
    "#  .plot.barh()\n",
    "# )\n",
    "# plt.title(\"Соотношение количества пользователей с подпиской и без подписки\")\n",
    "# plt.xlabel(\"Количество пользователей\")\n",
    "# plt.ylabel(\"Тип подписки\")\n",
    "# plt.show()\n",
    "\n",
    "(data_users\n",
    " .pivot_table(index='subscription_type', values='user_id', aggfunc='count')\n",
    " .plot.pie(y='user_id', autopct='%1.0f%%')\n",
    ")\n",
    "plt.title(\"Соотношение количества пользователей с подпиской и без подписки\")\n",
    "plt.ylabel(\"Процент пользователей\")\n",
    "plt.show()"
   ]
  },
  {
   "cell_type": "markdown",
   "id": "5fe8771b",
   "metadata": {},
   "source": [
    "Почти половина всех пользователей (45.6%) купили подписку."
   ]
  },
  {
   "cell_type": "markdown",
   "id": "f7c1c17b",
   "metadata": {},
   "source": [
    "<!-- Разница в частоте покупки подписки почти 10% между Москвой и Краснодаром -->\n",
    "\n",
    "##### Возраст пользователей"
   ]
  },
  {
   "cell_type": "code",
   "execution_count": 27,
   "id": "8dafba6c",
   "metadata": {},
   "outputs": [
    {
     "data": {
      "image/png": "[encoded data removed]",
      "text/plain": [
       "<Figure size 432x288 with 1 Axes>"
      ]
     },
     "metadata": {
      "needs_background": "light"
     },
     "output_type": "display_data"
    },
    {
     "name": "stdout",
     "output_type": "stream",
     "text": [
      "Список характерных значений для возрастов:\n",
      "count    1534.000000\n",
      "mean       24.903520\n",
      "std         4.572367\n",
      "min        12.000000\n",
      "25%        22.000000\n",
      "50%        25.000000\n",
      "75%        28.000000\n",
      "max        43.000000\n",
      "Name: age, dtype: float64\n"
     ]
    }
   ],
   "source": [
    "data_users.boxplot('age')\n",
    "# data_users.hist('age', bins=32, range=(12, 43))\n",
    "plt.title(\"Гистограмма размаха пользователей по возрастам\")\n",
    "plt.ylabel(\"Возраст\")\n",
    "plt.show()\n",
    "\n",
    "print(\"Список характерных значений для возрастов:\")\n",
    "print(data_users['age'].describe())"
   ]
  },
  {
   "cell_type": "markdown",
   "id": "3a706fd0",
   "metadata": {},
   "source": [
    "Среднестатистическому пользователю от 22 до 28 лет. Однако, явно бросается в глаза отсутствие клиентов старше 43 лет, они не спешат пользоваться самокатами.\n",
    "\n",
    "Диаграмма размаха выглядит, как по учебнику и имеет редкие выбивающиеся значения."
   ]
  },
  {
   "cell_type": "code",
   "execution_count": 28,
   "id": "e075e772",
   "metadata": {},
   "outputs": [
    {
     "data": {
      "image/png": "[encoded data removed]",
      "text/plain": [
       "<Figure size 432x288 with 1 Axes>"
      ]
     },
     "metadata": {
      "needs_background": "light"
     },
     "output_type": "display_data"
    },
    {
     "data": {
      "image/png": "[encoded data removed]",
      "text/plain": [
       "<Figure size 432x288 with 1 Axes>"
      ]
     },
     "metadata": {
      "needs_background": "light"
     },
     "output_type": "display_data"
    }
   ],
   "source": [
    "(data_users\n",
    " .query(\"subscription_type == 'free'\")\n",
    " .pivot_table(index='age', aggfunc='count')\n",
    " ['user_id']\n",
    " .plot(title='Без подписки', xlim=(11, 44))\n",
    ")\n",
    "plt.show()\n",
    "\n",
    "(data_users\n",
    " .query(\"subscription_type == 'ultra'\")\n",
    " .pivot_table(index='age', aggfunc='count')\n",
    " ['user_id']\n",
    " .plot(title='Подписка ultra', xlim=(11, 44))\n",
    ")\n",
    "plt.show()"
   ]
  },
  {
   "cell_type": "markdown",
   "id": "a9d91ac8",
   "metadata": {},
   "source": [
    "Заметно небольшое увеличение процента пользователей с подпиской в возрасте около 30 лет.\n",
    "\n",
    "##### Расстояние, которое пользователь преодолел за одну поездку"
   ]
  },
  {
   "cell_type": "code",
   "execution_count": 29,
   "id": "e6220e86",
   "metadata": {},
   "outputs": [
    {
     "data": {
      "image/png": "[encoded data removed]",
      "text/plain": [
       "<Figure size 432x288 with 1 Axes>"
      ]
     },
     "metadata": {
      "needs_background": "light"
     },
     "output_type": "display_data"
    },
    {
     "data": {
      "text/plain": [
       "count    18068.000000\n",
       "mean      3070.659976\n",
       "std       1116.831209\n",
       "min          0.855683\n",
       "25%       2543.226360\n",
       "50%       3133.609994\n",
       "75%       3776.222735\n",
       "max       7211.007745\n",
       "Name: distance, dtype: float64"
      ]
     },
     "execution_count": 29,
     "metadata": {},
     "output_type": "execute_result"
    }
   ],
   "source": [
    "data_rides.hist('distance', bins=100)\n",
    "plt.title(\"Дальность поездок\")\n",
    "plt.xlabel(\"Расстояние, м\")\n",
    "plt.ylabel(\"Количество пользователей\")\n",
    "plt.show()\n",
    "\n",
    "data_rides['distance'].describe()"
   ]
  },
  {
   "cell_type": "markdown",
   "id": "0ce8acb9",
   "metadata": {},
   "source": [
    "- имеются околонулевые значения. Гипотезы: сбои в фиксации пройденного расстояния, ограничения запаса батареи, ошибка порядка значения (например, значения внесены не в метрах, а в километрах);\n",
    "- два явно выраженных пиковых значения. Как и было сказано, предполагаемся гипотеза: 2 режима скорости самоката (например: обычный и экономичный);\n",
    "- обычное пройденное рассотяние составляет два-четрые киллометра.\n",
    "\n",
    "##### Продолжительность поездок"
   ]
  },
  {
   "cell_type": "code",
   "execution_count": 30,
   "id": "c506dcf7",
   "metadata": {},
   "outputs": [
    {
     "data": {
      "image/png": "[encoded data removed]",
      "text/plain": [
       "<Figure size 432x288 with 1 Axes>"
      ]
     },
     "metadata": {
      "needs_background": "light"
     },
     "output_type": "display_data"
    },
    {
     "data": {
      "text/plain": [
       "count    18068.000000\n",
       "mean        17.976724\n",
       "std          6.065844\n",
       "min          2.035632\n",
       "25%         13.697117\n",
       "50%         17.750643\n",
       "75%         21.824361\n",
       "max         40.823963\n",
       "Name: duration, dtype: float64"
      ]
     },
     "execution_count": 30,
     "metadata": {},
     "output_type": "execute_result"
    }
   ],
   "source": [
    "data_rides.hist('duration',bins=100)\n",
    "plt.title(\"Продолжительность поездок\")\n",
    "plt.xlabel(\"Время, мин\")\n",
    "plt.ylabel(\"Количество пользователей\")\n",
    "plt.show()\n",
    "\n",
    "data_rides['duration'].describe()"
   ]
  },
  {
   "cell_type": "markdown",
   "id": "60d2fef1",
   "metadata": {},
   "source": [
    "- распределение нормальное без выбивающихся значений;\n",
    "- распределение симметричное, можно считать медиану (или моду) - мат. ожиданием."
   ]
  },
  {
   "cell_type": "markdown",
   "id": "86f03cf0",
   "metadata": {},
   "source": [
    "#### Шаг 4. Объединение данных\n",
    "\n",
    "##### Объединим данные о пользователях, поездках и подписках в один датафрейм."
   ]
  },
  {
   "cell_type": "code",
   "execution_count": 31,
   "id": "eee154b6",
   "metadata": {},
   "outputs": [],
   "source": [
    "data = data_users.merge(data_rides, on='user_id')"
   ]
  },
  {
   "cell_type": "code",
   "execution_count": 32,
   "id": "12a359af",
   "metadata": {},
   "outputs": [],
   "source": [
    "data = data.merge(data_subscription, on='subscription_type')"
   ]
  },
  {
   "cell_type": "code",
   "execution_count": 33,
   "id": "f5ac394b",
   "metadata": {},
   "outputs": [
    {
     "name": "stdout",
     "output_type": "stream",
     "text": [
      "Строк до объединения: 18068\n",
      "Строк после объединения: 18068\n"
     ]
    }
   ],
   "source": [
    "print(f'Строк до объединения: {len(data_rides)}')\n",
    "print(f'Строк после объединения: {len(data)}')"
   ]
  },
  {
   "cell_type": "markdown",
   "id": "1e4c462c",
   "metadata": {},
   "source": [
    "##### Создадим ещё два датафрейма из датафрейма, созданного на этапе 4.1:\n",
    "- c данными о пользователях без подписки;\n",
    "- с данными о пользователях с подпиской."
   ]
  },
  {
   "cell_type": "code",
   "execution_count": 34,
   "id": "4aa3a326",
   "metadata": {},
   "outputs": [],
   "source": [
    "data_free = data.query('subscription_type == \"free\"')"
   ]
  },
  {
   "cell_type": "code",
   "execution_count": 35,
   "id": "109d233a",
   "metadata": {},
   "outputs": [],
   "source": [
    "data_ultra = data.query('subscription_type == \"ultra\"')"
   ]
  },
  {
   "cell_type": "markdown",
   "id": "afbf9836",
   "metadata": {},
   "source": [
    "##### Визуализируем информацию о расстоянии и времени поездок для пользователей обеих категорий."
   ]
  },
  {
   "cell_type": "code",
   "execution_count": 36,
   "id": "233531a8",
   "metadata": {
    "scrolled": false
   },
   "outputs": [
    {
     "data": {
      "image/png": "[encoded data removed]",
      "text/plain": [
       "<Figure size 432x288 with 1 Axes>"
      ]
     },
     "metadata": {
      "needs_background": "light"
     },
     "output_type": "display_data"
    },
    {
     "data": {
      "image/png": "[encoded data removed]",
      "text/plain": [
       "<Figure size 432x288 with 1 Axes>"
      ]
     },
     "metadata": {
      "needs_background": "light"
     },
     "output_type": "display_data"
    }
   ],
   "source": [
    "# sns.set(rc={'figure.figsize':(15, 5)}) # Зададим размер графиков\n",
    "\n",
    "sns.histplot(data=data_free, x=\"distance\", color=\"skyblue\", label=\"free\")\n",
    "sns.histplot(data=data_ultra, x=\"distance\", color=\"red\", label=\"ultra\")\n",
    "plt.legend() \n",
    "plt.title(\"Дальность поездок\")\n",
    "plt.xlabel(\"Расстояние, м\")\n",
    "plt.ylabel(\"Количество пользователей\")\n",
    "plt.show()\n",
    "\n",
    "sns.histplot(data=data_free, x=\"duration\", color=\"skyblue\", label=\"free\")\n",
    "sns.histplot(data=data_ultra, x=\"duration\", color=\"red\", label=\"ultra\")\n",
    "plt.legend() \n",
    "plt.title(\"Продолжительность поездок\")\n",
    "plt.xlabel(\"Время, мин\")\n",
    "plt.ylabel(\"Количество пользователей\")\n",
    "plt.show()"
   ]
  },
  {
   "cell_type": "markdown",
   "id": "3a923eaa",
   "metadata": {},
   "source": [
    "Особых примечаний нет, данные пропорциональны равномерно.\n",
    "- при бесплатных поездках, гораздо сильнее выбивается первое пиковое значение дистанции. Гипотезы: разовые пользователи;\n",
    "- у пользователей с подпиской появилось третье пиковое значение ~4000 метров. Гипотезы: типизация поездок у  людей с подпиской.\n",
    "\n",
    "*Пользуюсь seaborn впервые(знал минимум о нём), поэтому раньше в проекте не использовал :`)  Использовал, чтобы было одновременно 2 графика и при этом была подписана категория на графике. Позже вспомнил про агрумент ax*"
   ]
  },
  {
   "cell_type": "markdown",
   "id": "db6cfb23",
   "metadata": {},
   "source": [
    "#### Шаг 5. Подсчёт выручки\n",
    "\n",
    "##### \n",
    "Создадим датафрейм с агрегированными данными о поездках на основе датафрейма с объединёнными данными из шага 4. Найдем суммарное расстояние, количество поездок и суммарное время для каждого пользователя за каждый месяц."
   ]
  },
  {
   "cell_type": "code",
   "execution_count": 37,
   "id": "f7201dc7",
   "metadata": {},
   "outputs": [],
   "source": [
    "# округлим значения времени\n",
    "data['duration'] = np.ceil(data['duration']) "
   ]
  },
  {
   "cell_type": "code",
   "execution_count": 38,
   "id": "cab3c059",
   "metadata": {
    "scrolled": false
   },
   "outputs": [
    {
     "data": {
      "text/html": [
       "<div>\n",
       "<style scoped>\n",
       "    .dataframe tbody tr th:only-of-type {\n",
       "        vertical-align: middle;\n",
       "    }\n",
       "\n",
       "    .dataframe tbody tr th {\n",
       "        vertical-align: top;\n",
       "    }\n",
       "\n",
       "    .dataframe thead th {\n",
       "        text-align: right;\n",
       "    }\n",
       "</style>\n",
       "<table border=\"1\" class=\"dataframe\">\n",
       "  <thead>\n",
       "    <tr style=\"text-align: right;\">\n",
       "      <th></th>\n",
       "      <th></th>\n",
       "      <th></th>\n",
       "      <th>distance</th>\n",
       "      <th>duration</th>\n",
       "      <th>minute_price</th>\n",
       "      <th>start_ride_price</th>\n",
       "      <th>subscription_fee</th>\n",
       "      <th>rides_counter</th>\n",
       "    </tr>\n",
       "    <tr>\n",
       "      <th>user_id</th>\n",
       "      <th>subscription_type</th>\n",
       "      <th>month_of_ride</th>\n",
       "      <th></th>\n",
       "      <th></th>\n",
       "      <th></th>\n",
       "      <th></th>\n",
       "      <th></th>\n",
       "      <th></th>\n",
       "    </tr>\n",
       "  </thead>\n",
       "  <tbody>\n",
       "    <tr>\n",
       "      <th rowspan=\"6\" valign=\"top\">1</th>\n",
       "      <th rowspan=\"6\" valign=\"top\">ultra</th>\n",
       "      <th>1</th>\n",
       "      <td>7027.511294</td>\n",
       "      <td>42.0</td>\n",
       "      <td>6</td>\n",
       "      <td>0</td>\n",
       "      <td>199</td>\n",
       "      <td>2</td>\n",
       "    </tr>\n",
       "    <tr>\n",
       "      <th>4</th>\n",
       "      <td>754.159807</td>\n",
       "      <td>7.0</td>\n",
       "      <td>6</td>\n",
       "      <td>0</td>\n",
       "      <td>199</td>\n",
       "      <td>1</td>\n",
       "    </tr>\n",
       "    <tr>\n",
       "      <th>8</th>\n",
       "      <td>6723.470560</td>\n",
       "      <td>46.0</td>\n",
       "      <td>6</td>\n",
       "      <td>0</td>\n",
       "      <td>199</td>\n",
       "      <td>2</td>\n",
       "    </tr>\n",
       "    <tr>\n",
       "      <th>10</th>\n",
       "      <td>5809.911100</td>\n",
       "      <td>32.0</td>\n",
       "      <td>6</td>\n",
       "      <td>0</td>\n",
       "      <td>199</td>\n",
       "      <td>2</td>\n",
       "    </tr>\n",
       "    <tr>\n",
       "      <th>11</th>\n",
       "      <td>7003.499363</td>\n",
       "      <td>56.0</td>\n",
       "      <td>6</td>\n",
       "      <td>0</td>\n",
       "      <td>199</td>\n",
       "      <td>3</td>\n",
       "    </tr>\n",
       "    <tr>\n",
       "      <th>12</th>\n",
       "      <td>6751.629942</td>\n",
       "      <td>28.0</td>\n",
       "      <td>6</td>\n",
       "      <td>0</td>\n",
       "      <td>199</td>\n",
       "      <td>2</td>\n",
       "    </tr>\n",
       "    <tr>\n",
       "      <th rowspan=\"4\" valign=\"top\">2</th>\n",
       "      <th rowspan=\"4\" valign=\"top\">ultra</th>\n",
       "      <th>3</th>\n",
       "      <td>10187.723006</td>\n",
       "      <td>63.0</td>\n",
       "      <td>6</td>\n",
       "      <td>0</td>\n",
       "      <td>199</td>\n",
       "      <td>3</td>\n",
       "    </tr>\n",
       "    <tr>\n",
       "      <th>4</th>\n",
       "      <td>6164.381824</td>\n",
       "      <td>40.0</td>\n",
       "      <td>6</td>\n",
       "      <td>0</td>\n",
       "      <td>199</td>\n",
       "      <td>2</td>\n",
       "    </tr>\n",
       "    <tr>\n",
       "      <th>6</th>\n",
       "      <td>3255.338202</td>\n",
       "      <td>14.0</td>\n",
       "      <td>6</td>\n",
       "      <td>0</td>\n",
       "      <td>199</td>\n",
       "      <td>1</td>\n",
       "    </tr>\n",
       "    <tr>\n",
       "      <th>7</th>\n",
       "      <td>6780.722964</td>\n",
       "      <td>48.0</td>\n",
       "      <td>6</td>\n",
       "      <td>0</td>\n",
       "      <td>199</td>\n",
       "      <td>2</td>\n",
       "    </tr>\n",
       "  </tbody>\n",
       "</table>\n",
       "</div>"
      ],
      "text/plain": [
       "                                             distance  duration  minute_price  \\\n",
       "user_id subscription_type month_of_ride                                         \n",
       "1       ultra             1               7027.511294      42.0             6   \n",
       "                          4                754.159807       7.0             6   \n",
       "                          8               6723.470560      46.0             6   \n",
       "                          10              5809.911100      32.0             6   \n",
       "                          11              7003.499363      56.0             6   \n",
       "                          12              6751.629942      28.0             6   \n",
       "2       ultra             3              10187.723006      63.0             6   \n",
       "                          4               6164.381824      40.0             6   \n",
       "                          6               3255.338202      14.0             6   \n",
       "                          7               6780.722964      48.0             6   \n",
       "\n",
       "                                         start_ride_price  subscription_fee  \\\n",
       "user_id subscription_type month_of_ride                                       \n",
       "1       ultra             1                             0               199   \n",
       "                          4                             0               199   \n",
       "                          8                             0               199   \n",
       "                          10                            0               199   \n",
       "                          11                            0               199   \n",
       "                          12                            0               199   \n",
       "2       ultra             3                             0               199   \n",
       "                          4                             0               199   \n",
       "                          6                             0               199   \n",
       "                          7                             0               199   \n",
       "\n",
       "                                         rides_counter  \n",
       "user_id subscription_type month_of_ride                 \n",
       "1       ultra             1                          2  \n",
       "                          4                          1  \n",
       "                          8                          2  \n",
       "                          10                         2  \n",
       "                          11                         3  \n",
       "                          12                         2  \n",
       "2       ultra             3                          3  \n",
       "                          4                          2  \n",
       "                          6                          1  \n",
       "                          7                          2  "
      ]
     },
     "execution_count": 38,
     "metadata": {},
     "output_type": "execute_result"
    }
   ],
   "source": [
    "data_by_month = (data\n",
    " .pivot_table(index=['user_id', 'subscription_type', 'month_of_ride'],\n",
    "              values=['distance', 'duration', 'minute_price', 'start_ride_price', 'subscription_fee'],\n",
    "              aggfunc={'user_id': 'count',\n",
    "                       'minute_price':'median', 'start_ride_price':'median', 'subscription_fee':'median',\n",
    "                       'distance':'sum', 'duration':'sum'})\n",
    ")\n",
    "data_by_month = data_by_month.rename(columns={'user_id':'rides_counter'})\n",
    "data_by_month.head(10)"
   ]
  },
  {
   "cell_type": "markdown",
   "id": "8452019b",
   "metadata": {},
   "source": [
    "##### \n",
    "В этот же датафрейм добавим столбец с помесячной выручкой, которую принёс каждый пользователь. Для этого обратимся к информации об условиях оплаты для подписчиков и тех, у кого нет подписки. Продолжительность каждой поездки в каждой строке исходного датафрейма для подсчёта стоимости округлим до следующего целого числа."
   ]
  },
  {
   "cell_type": "code",
   "execution_count": 39,
   "id": "80373371",
   "metadata": {},
   "outputs": [],
   "source": [
    "# функция возвращающая сумму выручки за месяц у пользователся\n",
    "def revenue(row):\n",
    "    rides_counter = row['rides_counter']\n",
    "    start_ride_price = row['start_ride_price']\n",
    "    duration = row['duration']\n",
    "    minute_price = row['minute_price']\n",
    "    subscription_fee = row['subscription_fee']\n",
    "    \n",
    "    revenue = (rides_counter * start_ride_price) + (duration * minute_price) + subscription_fee # сумма старта + сумма поездки + сумма подписки\n",
    "\n",
    "    return revenue\n",
    "\n",
    "# создадим столбец с помесячной выручкой\n",
    "data_by_month['revenue'] = data_by_month.apply(revenue, axis=1)"
   ]
  },
  {
   "cell_type": "code",
   "execution_count": 40,
   "id": "6dfc90de",
   "metadata": {},
   "outputs": [
    {
     "data": {
      "text/html": [
       "<div>\n",
       "<style scoped>\n",
       "    .dataframe tbody tr th:only-of-type {\n",
       "        vertical-align: middle;\n",
       "    }\n",
       "\n",
       "    .dataframe tbody tr th {\n",
       "        vertical-align: top;\n",
       "    }\n",
       "\n",
       "    .dataframe thead th {\n",
       "        text-align: right;\n",
       "    }\n",
       "</style>\n",
       "<table border=\"1\" class=\"dataframe\">\n",
       "  <thead>\n",
       "    <tr style=\"text-align: right;\">\n",
       "      <th></th>\n",
       "      <th></th>\n",
       "      <th></th>\n",
       "      <th>distance</th>\n",
       "      <th>duration</th>\n",
       "      <th>minute_price</th>\n",
       "      <th>start_ride_price</th>\n",
       "      <th>subscription_fee</th>\n",
       "      <th>rides_counter</th>\n",
       "      <th>revenue</th>\n",
       "    </tr>\n",
       "    <tr>\n",
       "      <th>user_id</th>\n",
       "      <th>subscription_type</th>\n",
       "      <th>month_of_ride</th>\n",
       "      <th></th>\n",
       "      <th></th>\n",
       "      <th></th>\n",
       "      <th></th>\n",
       "      <th></th>\n",
       "      <th></th>\n",
       "      <th></th>\n",
       "    </tr>\n",
       "  </thead>\n",
       "  <tbody>\n",
       "    <tr>\n",
       "      <th rowspan=\"5\" valign=\"top\">1</th>\n",
       "      <th rowspan=\"5\" valign=\"top\">ultra</th>\n",
       "      <th>1</th>\n",
       "      <td>7027.511294</td>\n",
       "      <td>42.0</td>\n",
       "      <td>6</td>\n",
       "      <td>0</td>\n",
       "      <td>199</td>\n",
       "      <td>2</td>\n",
       "      <td>451.0</td>\n",
       "    </tr>\n",
       "    <tr>\n",
       "      <th>4</th>\n",
       "      <td>754.159807</td>\n",
       "      <td>7.0</td>\n",
       "      <td>6</td>\n",
       "      <td>0</td>\n",
       "      <td>199</td>\n",
       "      <td>1</td>\n",
       "      <td>241.0</td>\n",
       "    </tr>\n",
       "    <tr>\n",
       "      <th>8</th>\n",
       "      <td>6723.470560</td>\n",
       "      <td>46.0</td>\n",
       "      <td>6</td>\n",
       "      <td>0</td>\n",
       "      <td>199</td>\n",
       "      <td>2</td>\n",
       "      <td>475.0</td>\n",
       "    </tr>\n",
       "    <tr>\n",
       "      <th>10</th>\n",
       "      <td>5809.911100</td>\n",
       "      <td>32.0</td>\n",
       "      <td>6</td>\n",
       "      <td>0</td>\n",
       "      <td>199</td>\n",
       "      <td>2</td>\n",
       "      <td>391.0</td>\n",
       "    </tr>\n",
       "    <tr>\n",
       "      <th>11</th>\n",
       "      <td>7003.499363</td>\n",
       "      <td>56.0</td>\n",
       "      <td>6</td>\n",
       "      <td>0</td>\n",
       "      <td>199</td>\n",
       "      <td>3</td>\n",
       "      <td>535.0</td>\n",
       "    </tr>\n",
       "  </tbody>\n",
       "</table>\n",
       "</div>"
      ],
      "text/plain": [
       "                                            distance  duration  minute_price  \\\n",
       "user_id subscription_type month_of_ride                                        \n",
       "1       ultra             1              7027.511294      42.0             6   \n",
       "                          4               754.159807       7.0             6   \n",
       "                          8              6723.470560      46.0             6   \n",
       "                          10             5809.911100      32.0             6   \n",
       "                          11             7003.499363      56.0             6   \n",
       "\n",
       "                                         start_ride_price  subscription_fee  \\\n",
       "user_id subscription_type month_of_ride                                       \n",
       "1       ultra             1                             0               199   \n",
       "                          4                             0               199   \n",
       "                          8                             0               199   \n",
       "                          10                            0               199   \n",
       "                          11                            0               199   \n",
       "\n",
       "                                         rides_counter  revenue  \n",
       "user_id subscription_type month_of_ride                          \n",
       "1       ultra             1                          2    451.0  \n",
       "                          4                          1    241.0  \n",
       "                          8                          2    475.0  \n",
       "                          10                         2    391.0  \n",
       "                          11                         3    535.0  "
      ]
     },
     "execution_count": 40,
     "metadata": {},
     "output_type": "execute_result"
    }
   ],
   "source": [
    "data_by_month.head()"
   ]
  },
  {
   "cell_type": "markdown",
   "id": "d2486498",
   "metadata": {},
   "source": [
    "#### Шаг 6. Проверка гипотез\n",
    "\n",
    "Продакт-менеджеры сервиса хотят увеличить количество пользователей с подпиской. Для этого они будут проводить различные акции, но сначала нужно выяснить несколько важных моментов.\n",
    "\n",
    "##### Гипотеза 1\n",
    "Важно понять, тратят ли пользователи с подпиской больше времени на поездки? Если да, то пользователи с подпиской могут быть «выгоднее» для компании. Проверим гипотезу. Используем исходные данные о продолжительности каждой сессии — отдельно для подписчиков и тех, у кого нет подписки.\n",
    "\n",
    "Как было видно на графиках ранее, значения имеют нормально распределение.\n",
    "- нулевая гипотеза - пользователи с подпиской тратят столько же времени на поездки\n",
    "- альтернативная гипотеза - пользователи с подпиской тратят больше же времени на поездки"
   ]
  },
  {
   "cell_type": "code",
   "execution_count": 41,
   "id": "01a117ba",
   "metadata": {},
   "outputs": [
    {
     "name": "stdout",
     "output_type": "stream",
     "text": [
      "p-value: 1.1594843183369864e-22\n",
      "Отвергаем нулевую гипотезу\n"
     ]
    }
   ],
   "source": [
    "alpha = 0.05 # уровень статистической значимости\n",
    "\n",
    "results = st.ttest_ind(data_ultra['duration'], data_free['duration'], alternative='greater', equal_var=False)\n",
    "# False, т.к. размеры выборок отличаются в 2 раза\n",
    "print(f'p-value: {results.pvalue}')\n",
    "\n",
    "# проверяем p-value\n",
    "if results.pvalue < alpha:\n",
    "    print('Отвергаем нулевую гипотезу')\n",
    "else:\n",
    "    print('Нет оснований отвергнуть нулевую гипотезу')"
   ]
  },
  {
   "cell_type": "code",
   "execution_count": 42,
   "id": "5e3b9fb5",
   "metadata": {},
   "outputs": [
    {
     "name": "stdout",
     "output_type": "stream",
     "text": [
      "Список характерных значений времени пользователей с подпиской:\n"
     ]
    },
    {
     "data": {
      "text/plain": [
       "count    6500.000000\n",
       "mean       18.541985\n",
       "std         5.572048\n",
       "min         3.760353\n",
       "25%        14.524654\n",
       "50%        18.178153\n",
       "75%        21.884129\n",
       "max        40.823963\n",
       "Name: duration, dtype: float64"
      ]
     },
     "execution_count": 42,
     "metadata": {},
     "output_type": "execute_result"
    }
   ],
   "source": [
    "print(\"Список характерных значений времени пользователей с подпиской:\")\n",
    "data_ultra['duration'].describe()"
   ]
  },
  {
   "cell_type": "code",
   "execution_count": 43,
   "id": "5d7de953",
   "metadata": {},
   "outputs": [
    {
     "name": "stdout",
     "output_type": "stream",
     "text": [
      "Список характерных значений времени пользователей без подписки:\n"
     ]
    },
    {
     "data": {
      "text/plain": [
       "count    11568.000000\n",
       "mean        17.659106\n",
       "std          6.304446\n",
       "min          2.035632\n",
       "25%         13.127082\n",
       "50%         17.446822\n",
       "75%         21.779484\n",
       "max         40.000000\n",
       "Name: duration, dtype: float64"
      ]
     },
     "execution_count": 43,
     "metadata": {},
     "output_type": "execute_result"
    }
   ],
   "source": [
    "print(\"Список характерных значений времени пользователей без подписки:\")\n",
    "data_free['duration'].describe()"
   ]
  },
  {
   "cell_type": "markdown",
   "id": "fd2dc4a4",
   "metadata": {},
   "source": [
    "Метод describe подтверждает, что выдвинутую нулевую гипотезу следует отвергнуть. По списку характерный значений видно, что имеет место альтернативная гипотеза о том, что пользователи с подпиской тратят больше времени на поездки.\n",
    "\n",
    "Стоит заметить, что разница не столь велика."
   ]
  },
  {
   "cell_type": "markdown",
   "id": "272a9901",
   "metadata": {},
   "source": [
    "##### Гипотеза 2\n",
    "Расстояние одной поездки в 3130 метров — оптимальное с точки зрения износа самоката.\n",
    "Проверим, можно ли сказать, что расстояние, которое проезжают пользователи с подпиской за одну поездку, не превышает 3130 метров?\n",
    "Проверим гипотезу и сделайте выводы.\n",
    "\n",
    "- нулевая гипотеза - расстояние, которое проезжают пользователи с подпиской за одну поездку составляет 3130 метров.\n",
    "- альтернативная гипотеза - расстояние, которое проезжают пользователи с подпиской за одну поездку более 3130 метров."
   ]
  },
  {
   "cell_type": "code",
   "execution_count": 44,
   "id": "95509af4",
   "metadata": {},
   "outputs": [
    {
     "name": "stdout",
     "output_type": "stream",
     "text": [
      "p-значение: 0.9195368847849785\n",
      "Не получилось отвергнуть нулевую гипотезу\n"
     ]
    }
   ],
   "source": [
    "optimal_value = 3130 # желаемый предел расстояния\n",
    "alpha = 0.05 # уровень статистической значимости\n",
    "\n",
    "results = st.ttest_1samp(\n",
    "    data_ultra['distance'], \n",
    "    optimal_value,\n",
    "    alternative = 'greater'\n",
    ")\n",
    "\n",
    "print('p-значение:', results.pvalue)\n",
    "\n",
    "if results.pvalue < alpha:\n",
    "    print('Отвергаем нулевую гипотезу')\n",
    "else:\n",
    "    print('Не получилось отвергнуть нулевую гипотезу')\n"
   ]
  },
  {
   "cell_type": "code",
   "execution_count": 45,
   "id": "696eabee",
   "metadata": {},
   "outputs": [
    {
     "data": {
      "image/png": "[encoded data removed]",
      "text/plain": [
       "<Figure size 432x288 with 1 Axes>"
      ]
     },
     "metadata": {
      "needs_background": "light"
     },
     "output_type": "display_data"
    },
    {
     "name": "stdout",
     "output_type": "stream",
     "text": [
      "Список характерных значений пройденного расстояния с подпиской:\n"
     ]
    },
    {
     "data": {
      "text/plain": [
       "count    6500.000000\n",
       "mean     3115.445388\n",
       "std       836.895330\n",
       "min       244.210438\n",
       "25%      2785.444017\n",
       "50%      3148.637229\n",
       "75%      3560.574425\n",
       "max      5699.769662\n",
       "Name: distance, dtype: float64"
      ]
     },
     "execution_count": 45,
     "metadata": {},
     "output_type": "execute_result"
    }
   ],
   "source": [
    "data_ultra['distance'].hist(bins=100)\n",
    "plt.title(\"Дальность поездок\")\n",
    "plt.xlabel(\"Расстояние, м\")\n",
    "plt.ylabel(\"Количество пользователей\")\n",
    "plt.show()\n",
    "\n",
    "print(\"Список характерных значений пройденного расстояния с подпиской:\")\n",
    "data_ultra['distance'].describe()"
   ]
  },
  {
   "cell_type": "markdown",
   "id": "8ceb45fe",
   "metadata": {},
   "source": [
    "Выдвинутая гипотеза о близости значений к 3130 метрам усиливается гистограммой и общей информацией о столбце.\n",
    "\n",
    "Можно сказать, что расстояние, которое проезжает часть пользователей с подпиской за одну поездку, не превышает 3130 метров.\n",
    "\n",
    "Однако, довольно много пользователей проезжает и большее расстояние.\n",
    "\n",
    "##### Гипотеза 3\n",
    "Проверим гипотезу о том, будет ли помесячная выручка от пользователей с подпиской по месяцам выше, чем выручка от пользователей без подписки. \n",
    "\n",
    "- нулевая гипотеза - помесячная выручка от пользователей с подпиской `равна` выручке пользователей без подписки;\n",
    "- альтернативная гипотеза - помесячная выручка от пользователей с подпиской `больше` выручкы пользователей без подписки."
   ]
  },
  {
   "cell_type": "code",
   "execution_count": 46,
   "id": "fd89e194",
   "metadata": {},
   "outputs": [
    {
     "data": {
      "text/html": [
       "<div>\n",
       "<style scoped>\n",
       "    .dataframe tbody tr th:only-of-type {\n",
       "        vertical-align: middle;\n",
       "    }\n",
       "\n",
       "    .dataframe tbody tr th {\n",
       "        vertical-align: top;\n",
       "    }\n",
       "\n",
       "    .dataframe thead th {\n",
       "        text-align: right;\n",
       "    }\n",
       "</style>\n",
       "<table border=\"1\" class=\"dataframe\">\n",
       "  <thead>\n",
       "    <tr style=\"text-align: right;\">\n",
       "      <th></th>\n",
       "      <th></th>\n",
       "      <th></th>\n",
       "      <th>distance</th>\n",
       "      <th>duration</th>\n",
       "      <th>minute_price</th>\n",
       "      <th>start_ride_price</th>\n",
       "      <th>subscription_fee</th>\n",
       "      <th>rides_counter</th>\n",
       "      <th>revenue</th>\n",
       "    </tr>\n",
       "    <tr>\n",
       "      <th>user_id</th>\n",
       "      <th>subscription_type</th>\n",
       "      <th>month_of_ride</th>\n",
       "      <th></th>\n",
       "      <th></th>\n",
       "      <th></th>\n",
       "      <th></th>\n",
       "      <th></th>\n",
       "      <th></th>\n",
       "      <th></th>\n",
       "    </tr>\n",
       "  </thead>\n",
       "  <tbody>\n",
       "    <tr>\n",
       "      <th rowspan=\"5\" valign=\"top\">700</th>\n",
       "      <th rowspan=\"5\" valign=\"top\">free</th>\n",
       "      <th>1</th>\n",
       "      <td>2515.690719</td>\n",
       "      <td>15.0</td>\n",
       "      <td>8</td>\n",
       "      <td>50</td>\n",
       "      <td>0</td>\n",
       "      <td>1</td>\n",
       "      <td>170.0</td>\n",
       "    </tr>\n",
       "    <tr>\n",
       "      <th>2</th>\n",
       "      <td>13446.659764</td>\n",
       "      <td>89.0</td>\n",
       "      <td>8</td>\n",
       "      <td>50</td>\n",
       "      <td>0</td>\n",
       "      <td>5</td>\n",
       "      <td>962.0</td>\n",
       "    </tr>\n",
       "    <tr>\n",
       "      <th>3</th>\n",
       "      <td>3798.334905</td>\n",
       "      <td>19.0</td>\n",
       "      <td>8</td>\n",
       "      <td>50</td>\n",
       "      <td>0</td>\n",
       "      <td>1</td>\n",
       "      <td>202.0</td>\n",
       "    </tr>\n",
       "    <tr>\n",
       "      <th>4</th>\n",
       "      <td>2984.551206</td>\n",
       "      <td>16.0</td>\n",
       "      <td>8</td>\n",
       "      <td>50</td>\n",
       "      <td>0</td>\n",
       "      <td>1</td>\n",
       "      <td>178.0</td>\n",
       "    </tr>\n",
       "    <tr>\n",
       "      <th>6</th>\n",
       "      <td>5927.650988</td>\n",
       "      <td>29.0</td>\n",
       "      <td>8</td>\n",
       "      <td>50</td>\n",
       "      <td>0</td>\n",
       "      <td>2</td>\n",
       "      <td>332.0</td>\n",
       "    </tr>\n",
       "    <tr>\n",
       "      <th>...</th>\n",
       "      <th>...</th>\n",
       "      <th>...</th>\n",
       "      <td>...</td>\n",
       "      <td>...</td>\n",
       "      <td>...</td>\n",
       "      <td>...</td>\n",
       "      <td>...</td>\n",
       "      <td>...</td>\n",
       "      <td>...</td>\n",
       "    </tr>\n",
       "    <tr>\n",
       "      <th rowspan=\"5\" valign=\"top\">1534</th>\n",
       "      <th rowspan=\"5\" valign=\"top\">free</th>\n",
       "      <th>6</th>\n",
       "      <td>3409.468534</td>\n",
       "      <td>26.0</td>\n",
       "      <td>8</td>\n",
       "      <td>50</td>\n",
       "      <td>0</td>\n",
       "      <td>2</td>\n",
       "      <td>308.0</td>\n",
       "    </tr>\n",
       "    <tr>\n",
       "      <th>8</th>\n",
       "      <td>7622.453034</td>\n",
       "      <td>48.0</td>\n",
       "      <td>8</td>\n",
       "      <td>50</td>\n",
       "      <td>0</td>\n",
       "      <td>2</td>\n",
       "      <td>484.0</td>\n",
       "    </tr>\n",
       "    <tr>\n",
       "      <th>9</th>\n",
       "      <td>4928.173852</td>\n",
       "      <td>23.0</td>\n",
       "      <td>8</td>\n",
       "      <td>50</td>\n",
       "      <td>0</td>\n",
       "      <td>1</td>\n",
       "      <td>234.0</td>\n",
       "    </tr>\n",
       "    <tr>\n",
       "      <th>11</th>\n",
       "      <td>13350.015305</td>\n",
       "      <td>78.0</td>\n",
       "      <td>8</td>\n",
       "      <td>50</td>\n",
       "      <td>0</td>\n",
       "      <td>4</td>\n",
       "      <td>824.0</td>\n",
       "    </tr>\n",
       "    <tr>\n",
       "      <th>12</th>\n",
       "      <td>2371.711192</td>\n",
       "      <td>16.0</td>\n",
       "      <td>8</td>\n",
       "      <td>50</td>\n",
       "      <td>0</td>\n",
       "      <td>1</td>\n",
       "      <td>178.0</td>\n",
       "    </tr>\n",
       "  </tbody>\n",
       "</table>\n",
       "<p>6798 rows × 7 columns</p>\n",
       "</div>"
      ],
      "text/plain": [
       "                                             distance  duration  minute_price  \\\n",
       "user_id subscription_type month_of_ride                                         \n",
       "700     free              1               2515.690719      15.0             8   \n",
       "                          2              13446.659764      89.0             8   \n",
       "                          3               3798.334905      19.0             8   \n",
       "                          4               2984.551206      16.0             8   \n",
       "                          6               5927.650988      29.0             8   \n",
       "...                                               ...       ...           ...   \n",
       "1534    free              6               3409.468534      26.0             8   \n",
       "                          8               7622.453034      48.0             8   \n",
       "                          9               4928.173852      23.0             8   \n",
       "                          11             13350.015305      78.0             8   \n",
       "                          12              2371.711192      16.0             8   \n",
       "\n",
       "                                         start_ride_price  subscription_fee  \\\n",
       "user_id subscription_type month_of_ride                                       \n",
       "700     free              1                            50                 0   \n",
       "                          2                            50                 0   \n",
       "                          3                            50                 0   \n",
       "                          4                            50                 0   \n",
       "                          6                            50                 0   \n",
       "...                                                   ...               ...   \n",
       "1534    free              6                            50                 0   \n",
       "                          8                            50                 0   \n",
       "                          9                            50                 0   \n",
       "                          11                           50                 0   \n",
       "                          12                           50                 0   \n",
       "\n",
       "                                         rides_counter  revenue  \n",
       "user_id subscription_type month_of_ride                          \n",
       "700     free              1                          1    170.0  \n",
       "                          2                          5    962.0  \n",
       "                          3                          1    202.0  \n",
       "                          4                          1    178.0  \n",
       "                          6                          2    332.0  \n",
       "...                                                ...      ...  \n",
       "1534    free              6                          2    308.0  \n",
       "                          8                          2    484.0  \n",
       "                          9                          1    234.0  \n",
       "                          11                         4    824.0  \n",
       "                          12                         1    178.0  \n",
       "\n",
       "[6798 rows x 7 columns]"
      ]
     },
     "execution_count": 46,
     "metadata": {},
     "output_type": "execute_result"
    }
   ],
   "source": [
    "data_by_month.query(\"subscription_type == 'free'\")"
   ]
  },
  {
   "cell_type": "code",
   "execution_count": 47,
   "id": "9c433880",
   "metadata": {},
   "outputs": [
    {
     "name": "stdout",
     "output_type": "stream",
     "text": [
      "p-value: 7.108915382913362e-32\n",
      "Отвергаем нулевую гипотезу\n"
     ]
    }
   ],
   "source": [
    "data1 = data_by_month.query(\"subscription_type == 'ultra'\") # пользователи с подпиской\n",
    "data2 = data_by_month.query(\"subscription_type == 'free'\") # пользователи без подписки\n",
    "\n",
    "alpha = 0.05 # уровень статистической значимости\n",
    "\n",
    "results = st.ttest_ind(data1['revenue'], data2['revenue'], alternative='greater', equal_var=False)\n",
    "# False, т.к. размеры выборок отличаются в 2 раза\n",
    "print(f'p-value: {results.pvalue}')\n",
    "\n",
    "# проверяем p-value\n",
    "if results.pvalue < alpha:\n",
    "    print('Отвергаем нулевую гипотезу')\n",
    "else:\n",
    "    print('Нет оснований отвергнуть нулевую гипотезу')"
   ]
  },
  {
   "cell_type": "code",
   "execution_count": 48,
   "id": "9e772f18",
   "metadata": {},
   "outputs": [
    {
     "data": {
      "image/png": "[encoded data removed]",
      "text/plain": [
       "<Figure size 432x288 with 1 Axes>"
      ]
     },
     "metadata": {
      "needs_background": "light"
     },
     "output_type": "display_data"
    }
   ],
   "source": [
    "sns.histplot(data=data2, x=\"revenue\", color=\"skyblue\", label=\"free\")\n",
    "sns.histplot(data=data1, x=\"revenue\", color=\"red\", label=\"ultra\")\n",
    "plt.legend() \n",
    "plt.title(\"Соотношение выручки пользователей с подпиской и без подписки\")\n",
    "plt.xlabel(\"Выручка\")\n",
    "plt.ylabel(\"Количество оплат\")\n",
    "plt.show()\n"
   ]
  },
  {
   "cell_type": "markdown",
   "id": "4751e6ae",
   "metadata": {},
   "source": [
    "Выдвинутая гипотеза о том, что выручка равна отвергается явно. Графики усиливают гипотезу, что \"выгоднее\" пользователи с подпиской. Средняя выручка за месяц за пользователей с подпиской выше."
   ]
  },
  {
   "cell_type": "markdown",
   "id": "ca6eaead",
   "metadata": {},
   "source": [
    "##### Вопрос\n",
    "Представим такую ситуацию: техническая команда сервиса обновила сервера, с которыми взаимодействует мобильное приложение. Она надеется, что из-за этого количество обращений в техподдержку значимо снизилось. Некоторый файл содержит для каждого пользователя данные о количестве обращений до обновления и после него. Какой тест вам понадобился бы для проверки этой гипотезы?\n",
    "\n",
    "scipy.stats.ttest_rel(before, after)\n",
    "\n",
    "В данному случае необходимо проверить гипотезу о равенстве средних двух генеральных совокупностей для зависимых (парных) выборок."
   ]
  },
  {
   "cell_type": "markdown",
   "id": "fcc4c35f",
   "metadata": {},
   "source": [
    "#### Шаг 7. Распределения"
   ]
  },
  {
   "cell_type": "markdown",
   "id": "5812cd2d",
   "metadata": {},
   "source": [
    "##### Распределение 1\n",
    "\n",
    "Отделу маркетинга GoFast поставили задачу: нужно провести акцию с раздачей промокодов на один бесплатный месяц подписки, в рамках которой как минимум 100 существующих клиентов должны продлить эту подписку. То есть по завершении периода действия подписки пользователь может либо отказаться от неё, либо продлить, совершив соотвествующий платёж. \n",
    "\n",
    "Эта акция уже проводилась ранее и по итогу выяснилось, что после бесплатного пробного периода подписку продлевают 10 % пользователей. Выясните, какое минимальное количество промокодов нужно разослать, чтобы вероятность не выполнить план была примерно 5 %.\n",
    "\n",
    "Подберем параметры распределения, описывающего эту ситуацию, построим график распределения и сформулируйте ответ на вопрос о количестве промокодов."
   ]
  },
  {
   "cell_type": "code",
   "execution_count": 49,
   "id": "21c8e949",
   "metadata": {
    "scrolled": false
   },
   "outputs": [
    {
     "name": "stderr",
     "output_type": "stream",
     "text": [
      "/opt/conda/lib/python3.9/site-packages/scipy/stats/_discrete_distns.py:78: RuntimeWarning: divide by zero encountered in _binom_pdf\n",
      "  return _boost._binom_pdf(x, n, p)\n"
     ]
    }
   ],
   "source": [
    "n = 1170 # количество попыток\n",
    "p = 0.1 # вероятность успеха\n",
    "\n",
    "distr = []\n",
    "\n",
    "for k in range(0, n + 1):\n",
    "    current_value = binom.pmf(k, n, p)\n",
    "    distr.append(current_value)"
   ]
  },
  {
   "cell_type": "code",
   "execution_count": 50,
   "id": "42eb83c9",
   "metadata": {},
   "outputs": [
    {
     "name": "stdout",
     "output_type": "stream",
     "text": [
      "Вероятности биномиального распределения:\n"
     ]
    },
    {
     "data": {
      "image/png": "[encoded data removed]",
      "text/plain": [
       "<Figure size 432x288 with 1 Axes>"
      ]
     },
     "metadata": {
      "needs_background": "light"
     },
     "output_type": "display_data"
    }
   ],
   "source": [
    "print('Вероятности биномиального распределения:')\n",
    "distr = pd.Series(distr)\n",
    "distr.plot(xlim=(80,150))\n",
    "plt.show()"
   ]
  },
  {
   "cell_type": "code",
   "execution_count": 51,
   "id": "378b6185",
   "metadata": {},
   "outputs": [
    {
     "name": "stdout",
     "output_type": "stream",
     "text": [
      "Вероятность не выполнить план = 4.879359652776027\n"
     ]
    }
   ],
   "source": [
    "# математическое ожидание биномиального распределения\n",
    "mu = n * p\n",
    "# стандартное отклонение биномиального распределения\n",
    "sigma = sqrt(n * p * (1 - p))\n",
    "# задаём нормальное распределение с математическим ожиданием 1000 \n",
    "# и стандартным отклонением 100\n",
    "distr_norm = st.norm(mu, sigma) \n",
    "\n",
    "# значение, для которого хотим найти вероятность\n",
    "x = 100\n",
    "\n",
    "# считаем вероятность получить значение, равное x или меньше \n",
    "result = distr_norm.cdf(x)\n",
    "print('Вероятность не выполнить план =', result*100)"
   ]
  },
  {
   "cell_type": "markdown",
   "id": "3263bcb0",
   "metadata": {},
   "source": [
    "Чтобы вероятность не выполнить план (100 подписок) была примерно 5 %, необходимо раздать около 1170 промокодов.\n",
    "\n",
    "##### Распределение 2\n",
    "\n",
    "Отдел маркетинга рассылает клиентам push-уведомления в мобильном приложении. Клиенты могут открыть его или не открывать. Известно, что уведомления открывают около 40 % получивших клиентов. Отдел планирует разослать 1 млн уведомлений. С помощью аппроксимации постройте примерный график распределения и оцените вероятность того, что уведомление откроют не более 399,5 тыс. пользователей."
   ]
  },
  {
   "cell_type": "code",
   "execution_count": 52,
   "id": "3f2c96af",
   "metadata": {},
   "outputs": [
    {
     "data": {
      "image/png": "[encoded data removed]",
      "text/plain": [
       "<Figure size 432x288 with 1 Axes>"
      ]
     },
     "metadata": {
      "needs_background": "light"
     },
     "output_type": "display_data"
    },
    {
     "name": "stdout",
     "output_type": "stream",
     "text": [
      "Условие аппроксимации не выполняется\n"
     ]
    }
   ],
   "source": [
    "# зададим функцию, которая выдаёт <num> чисел,\n",
    "# равномерно распределённых от <start> до <stop>\n",
    "# (понадобится для визуализации нормального распределения)\n",
    "def linspace(start, stop, num):\n",
    "    step = (stop - start) / (num - 1)\n",
    "    result = []\n",
    "    for i in range(num):\n",
    "        result.append(start + step * i)\n",
    "    return result\n",
    " \n",
    "# задаём параметры биномиального распределения\n",
    "n_2 = 1000000\n",
    "p_2 = 0.4\n",
    "\n",
    "# границы промежутка, в котором будем строить аппроксимацию\n",
    "left = int(n_2 * p_2 - 4 * sqrt(n_2 * p_2 * (1 - p_2)))\n",
    "right = int(n_2 * p_2 + 4 * sqrt(n_2 * p_2 * (1 - p_2)))\n",
    " \n",
    "# зададим набор значений биномиальной величины на выбранном промежутке:\n",
    "# все неотрицательные целые числа от left до right\n",
    "x = list(range(max(0, left), right))\n",
    "# рисуем график биномиального распределения\n",
    "ax = plt.subplot()\n",
    "# используем синие о-образные маркеры и размер маркера 5\n",
    "ax.plot(x, binom.pmf(x, n_2, p_2), 'bo', ms=5,\n",
    "        label='вероятности биномиального распределения')\n",
    "\n",
    "# мат.ожидание и дисперсия биномиального распределения\n",
    "mu_2 = n_2 * p_2\n",
    "sigma_2 = sqrt(n_2 * p_2 * (1 - p_2))\n",
    " \n",
    "# # рисуем график нормального распределения:\n",
    "# # получим список из 100 чисел от left до right\n",
    "# x = linspace(left, right, 100)\n",
    "# # используем красную линию ширины 3 и прозрачности 0.3\n",
    "# ax.plot(x, norm.pdf(x, mu_2, sigma_2), 'r-', lw=3, alpha=0.3, label='плотность вероятности нормального распределения')\n",
    "\n",
    "# настраиваем оптимальное расположение легенды и выводим график\n",
    "ax.legend(loc='best')\n",
    "plt.show()\n",
    "\n",
    "\n",
    "\n",
    "# выводим, выполняется ли наше условие аппроксимации:\n",
    "# лежит ли mu ± 3 sigma в промежутке от 0 до n:\n",
    "if (mu_2 - (3 * sigma_2) >= 0) and ((mu_2 + (3 * sigma_2) <= n)):\n",
    "    print('Условие аппроксимации выполняется')\n",
    "else:\n",
    "    print('Условие аппроксимации не выполняется')\n"
   ]
  },
  {
   "cell_type": "code",
   "execution_count": 53,
   "id": "a9f33923",
   "metadata": {
    "scrolled": true
   },
   "outputs": [
    {
     "name": "stdout",
     "output_type": "stream",
     "text": [
      "Вероятность, что уведомления откроют не более 399.5 тыс. пользователей = 15.371708296369768\n"
     ]
    }
   ],
   "source": [
    "distr_norm_2 = st.norm(mu_2, sigma_2) \n",
    "\n",
    "# значение, для которого хотим найти вероятность\n",
    "x_2 = 399500\n",
    "\n",
    "# считаем вероятность получить значение, равное x или меньше \n",
    "result_2 = distr_norm_2.cdf(x_2)\n",
    "print('Вероятность, что уведомления откроют не более 399.5 тыс. пользователей =', result_2*100)"
   ]
  },
  {
   "cell_type": "markdown",
   "id": "3cd74efd",
   "metadata": {},
   "source": [
    "# Итоговый вывод\n",
    "\n",
    "1 Предобработка данных.\n",
    "- устранены явные дубликаты;\n",
    "- проверено наличие неявных дубликатов;\n",
    "- устанены основные выбивающиеся значения;\n",
    "- проверены пустные значения.\n",
    "\n",
    "2 исследовательский анализ данных.\n",
    "- самым популярным городом среди пользователей является Пятигорск;\n",
    "- подписку купили 45,6 % пользователей;\n",
    "- средний возраст пользователся от 22 до 28 лет. Самому возрастному пользователю 43 года;\n",
    "- в среднем пользователи проезжают от 2000 до 4000 метров;\n",
    "- средняя продолжительность по времени от 13 до 30 минут.\n",
    "\n",
    "3 Объединение данных\n",
    "- проведено объединение данных о пользователях и подписках в один датафрейм;\n",
    "- визуализирована информация о расстоянии и времени поездок для пользователей без подписки и с подпиской.\n",
    "\n",
    "4 Подсчет выручки\n",
    "- создадин датафрейм с агрегированными данными о поездках на основе датафрейма с объединёнными данными;\n",
    "- найдено суммарное расстояние, количество поездок и суммарное время для каждого пользователя за каждый месяц;\n",
    "- добавлена информация с помесячной выручкой каждого клиента.\n",
    "\n",
    "5 Проверка гипотез\n",
    "- не опровергнута гипотеза о том, что пользователи с подпиской тратят времени на поездки. Статистические данные усиливают данную гипотезу;\n",
    "- нельзя сказать, что пользователи проезжают менее 3130 метров за поездку. Данное значения является близким к серднему;\n",
    "- не опровергнута гипотеза о том, что пользователи с подпиской приносят больше выручки в месяц, чем пользователи без подписки. Представленные графики усиливают данную гипотезу.\n",
    "\n",
    "6 Распределения\n",
    "- чтобы вероятность не выполнить план (100 подписок после раздачи промокодов) была примерно 5 %, необходимо раздать около 1170 промокодов.\n",
    "- если разослать 1 млн. уведомлений, то вероятность, что уведомления откроют не более 399.5 тыс. пользователей ~= 15.37 %"
   ]
  },
  {
   "cell_type": "code",
   "execution_count": null,
   "id": "325f7bca",
   "metadata": {},
   "outputs": [],
   "source": []
  }
 ],
 "metadata": {
  "ExecuteTimeLog": [
   {
    "duration": 395,
    "start_time": "2023-06-01T14:30:10.106Z"
   },
   {
    "duration": 114,
    "start_time": "2023-06-01T14:30:10.941Z"
   },
   {
    "duration": 70,
    "start_time": "2023-06-01T14:30:11.251Z"
   },
   {
    "duration": 97,
    "start_time": "2023-06-01T14:30:41.685Z"
   },
   {
    "duration": 40,
    "start_time": "2023-06-01T14:33:26.510Z"
   },
   {
    "duration": 38,
    "start_time": "2023-06-01T14:34:39.979Z"
   },
   {
    "duration": 16,
    "start_time": "2023-06-01T14:34:40.991Z"
   },
   {
    "duration": 14,
    "start_time": "2023-06-01T14:36:28.797Z"
   },
   {
    "duration": 8,
    "start_time": "2023-06-01T14:36:39.928Z"
   },
   {
    "duration": 7,
    "start_time": "2023-06-01T14:37:07.992Z"
   },
   {
    "duration": 7,
    "start_time": "2023-06-01T14:37:11.322Z"
   },
   {
    "duration": 6,
    "start_time": "2023-06-01T14:37:21.109Z"
   },
   {
    "duration": 5,
    "start_time": "2023-06-01T14:37:31.495Z"
   },
   {
    "duration": 11,
    "start_time": "2023-06-01T14:39:21.567Z"
   },
   {
    "duration": 7,
    "start_time": "2023-06-01T14:46:50.241Z"
   },
   {
    "duration": 63,
    "start_time": "2023-06-01T14:47:07.208Z"
   },
   {
    "duration": 10,
    "start_time": "2023-06-01T14:47:14.750Z"
   },
   {
    "duration": 10,
    "start_time": "2023-06-01T14:47:35.585Z"
   },
   {
    "duration": 11,
    "start_time": "2023-06-01T14:48:00.097Z"
   },
   {
    "duration": 10,
    "start_time": "2023-06-01T14:48:09.867Z"
   },
   {
    "duration": 11,
    "start_time": "2023-06-01T14:48:24.668Z"
   },
   {
    "duration": 11,
    "start_time": "2023-06-01T14:48:44.321Z"
   },
   {
    "duration": 737,
    "start_time": "2023-06-01T14:49:58.458Z"
   },
   {
    "duration": 2,
    "start_time": "2023-06-01T14:50:03.063Z"
   },
   {
    "duration": 303,
    "start_time": "2023-06-01T14:50:05.958Z"
   },
   {
    "duration": 228,
    "start_time": "2023-06-01T14:50:10.376Z"
   },
   {
    "duration": 10,
    "start_time": "2023-06-01T14:51:43.982Z"
   },
   {
    "duration": 7,
    "start_time": "2023-06-01T14:51:48.551Z"
   },
   {
    "duration": 9,
    "start_time": "2023-06-01T14:52:03.297Z"
   },
   {
    "duration": 7,
    "start_time": "2023-06-01T14:57:26.166Z"
   },
   {
    "duration": 5,
    "start_time": "2023-06-01T14:57:30.358Z"
   },
   {
    "duration": 5,
    "start_time": "2023-06-01T14:58:09.575Z"
   },
   {
    "duration": 7,
    "start_time": "2023-06-01T14:58:19.372Z"
   },
   {
    "duration": 222,
    "start_time": "2023-06-01T15:01:33.465Z"
   },
   {
    "duration": 380,
    "start_time": "2023-06-01T15:01:54.488Z"
   },
   {
    "duration": 239,
    "start_time": "2023-06-01T15:02:03.857Z"
   },
   {
    "duration": 274,
    "start_time": "2023-06-01T15:02:11.314Z"
   },
   {
    "duration": 267,
    "start_time": "2023-06-01T15:02:18.424Z"
   },
   {
    "duration": 343,
    "start_time": "2023-06-01T15:02:24.791Z"
   },
   {
    "duration": 225,
    "start_time": "2023-06-01T15:02:39.457Z"
   },
   {
    "duration": 198,
    "start_time": "2023-06-01T15:02:46.328Z"
   },
   {
    "duration": 195,
    "start_time": "2023-06-01T15:02:51.856Z"
   },
   {
    "duration": 6,
    "start_time": "2023-06-01T15:09:32.572Z"
   },
   {
    "duration": 3,
    "start_time": "2023-06-01T15:14:12.661Z"
   },
   {
    "duration": 8,
    "start_time": "2023-06-01T15:14:14.963Z"
   },
   {
    "duration": 5,
    "start_time": "2023-06-01T15:17:53.354Z"
   },
   {
    "duration": 6,
    "start_time": "2023-06-01T15:17:59.362Z"
   },
   {
    "duration": 4,
    "start_time": "2023-06-01T15:18:14.488Z"
   },
   {
    "duration": 10,
    "start_time": "2023-06-01T15:18:18.395Z"
   },
   {
    "duration": 7,
    "start_time": "2023-06-01T15:18:23.349Z"
   },
   {
    "duration": 8,
    "start_time": "2023-06-01T15:18:25.182Z"
   },
   {
    "duration": 9,
    "start_time": "2023-06-01T15:18:38.082Z"
   },
   {
    "duration": 13,
    "start_time": "2023-06-01T15:18:41.571Z"
   },
   {
    "duration": 4,
    "start_time": "2023-06-01T15:23:37.588Z"
   },
   {
    "duration": 7,
    "start_time": "2023-06-01T15:23:39.579Z"
   },
   {
    "duration": 6,
    "start_time": "2023-06-01T15:25:52.925Z"
   },
   {
    "duration": 6,
    "start_time": "2023-06-01T15:25:59.382Z"
   },
   {
    "duration": 6,
    "start_time": "2023-06-01T15:26:08.977Z"
   },
   {
    "duration": 7,
    "start_time": "2023-06-01T15:26:20.114Z"
   },
   {
    "duration": 6,
    "start_time": "2023-06-01T15:26:49.712Z"
   },
   {
    "duration": 11,
    "start_time": "2023-06-01T15:27:32.007Z"
   },
   {
    "duration": 12,
    "start_time": "2023-06-01T15:27:52.807Z"
   },
   {
    "duration": 11,
    "start_time": "2023-06-01T15:28:12.292Z"
   },
   {
    "duration": 12,
    "start_time": "2023-06-01T15:28:30.361Z"
   },
   {
    "duration": 9,
    "start_time": "2023-06-01T15:28:59.359Z"
   },
   {
    "duration": 12,
    "start_time": "2023-06-01T15:29:07.580Z"
   },
   {
    "duration": 13,
    "start_time": "2023-06-01T15:29:12.005Z"
   },
   {
    "duration": 6,
    "start_time": "2023-06-01T15:29:36.528Z"
   },
   {
    "duration": 5,
    "start_time": "2023-06-01T15:29:45.281Z"
   },
   {
    "duration": 4,
    "start_time": "2023-06-01T15:30:51.440Z"
   },
   {
    "duration": 8,
    "start_time": "2023-06-01T15:31:41.564Z"
   },
   {
    "duration": 12,
    "start_time": "2023-06-01T15:32:01.408Z"
   },
   {
    "duration": 17,
    "start_time": "2023-06-01T15:32:05.809Z"
   },
   {
    "duration": 9,
    "start_time": "2023-06-01T15:32:20.290Z"
   },
   {
    "duration": 8,
    "start_time": "2023-06-01T15:32:51.017Z"
   },
   {
    "duration": 11,
    "start_time": "2023-06-01T15:32:54.424Z"
   },
   {
    "duration": 13,
    "start_time": "2023-06-01T15:33:28.317Z"
   },
   {
    "duration": 7,
    "start_time": "2023-06-01T15:33:37.331Z"
   },
   {
    "duration": 8,
    "start_time": "2023-06-01T15:37:27.591Z"
   },
   {
    "duration": 6,
    "start_time": "2023-06-01T15:37:43.154Z"
   },
   {
    "duration": 5,
    "start_time": "2023-06-01T15:47:14.850Z"
   },
   {
    "duration": 8,
    "start_time": "2023-06-01T15:50:01.058Z"
   },
   {
    "duration": 4,
    "start_time": "2023-06-01T15:51:19.123Z"
   },
   {
    "duration": 4,
    "start_time": "2023-06-01T15:52:33.174Z"
   },
   {
    "duration": 5,
    "start_time": "2023-06-01T15:52:45.453Z"
   },
   {
    "duration": 5,
    "start_time": "2023-06-01T15:52:51.550Z"
   },
   {
    "duration": 10,
    "start_time": "2023-06-01T15:57:45.887Z"
   },
   {
    "duration": 6,
    "start_time": "2023-06-01T15:57:58.486Z"
   },
   {
    "duration": 4,
    "start_time": "2023-06-01T15:58:02.673Z"
   },
   {
    "duration": 4,
    "start_time": "2023-06-01T15:58:04.642Z"
   },
   {
    "duration": 5,
    "start_time": "2023-06-01T15:58:21.295Z"
   },
   {
    "duration": 4,
    "start_time": "2023-06-01T15:58:26.216Z"
   },
   {
    "duration": 5,
    "start_time": "2023-06-01T15:58:44.678Z"
   },
   {
    "duration": 9,
    "start_time": "2023-06-01T16:00:37.358Z"
   },
   {
    "duration": 10,
    "start_time": "2023-06-01T16:00:42.885Z"
   },
   {
    "duration": 10,
    "start_time": "2023-06-01T16:00:49.991Z"
   },
   {
    "duration": 7,
    "start_time": "2023-06-01T16:01:00.490Z"
   },
   {
    "duration": 628,
    "start_time": "2023-06-01T16:02:33.511Z"
   },
   {
    "duration": 598,
    "start_time": "2023-06-01T16:03:17.982Z"
   },
   {
    "duration": 1001,
    "start_time": "2023-06-01T16:03:24.697Z"
   },
   {
    "duration": 925,
    "start_time": "2023-06-01T16:03:32.490Z"
   },
   {
    "duration": 811,
    "start_time": "2023-06-01T16:04:10.082Z"
   },
   {
    "duration": 761,
    "start_time": "2023-06-01T16:04:18.316Z"
   },
   {
    "duration": 298,
    "start_time": "2023-06-01T16:04:38.472Z"
   },
   {
    "duration": 227,
    "start_time": "2023-06-01T16:04:46.384Z"
   },
   {
    "duration": 187,
    "start_time": "2023-06-01T16:04:50.706Z"
   },
   {
    "duration": 196,
    "start_time": "2023-06-01T16:04:55.574Z"
   },
   {
    "duration": 652,
    "start_time": "2023-06-01T16:08:21.805Z"
   },
   {
    "duration": 28,
    "start_time": "2023-06-01T16:08:22.459Z"
   },
   {
    "duration": 27,
    "start_time": "2023-06-01T16:08:22.489Z"
   },
   {
    "duration": 15,
    "start_time": "2023-06-01T16:08:22.518Z"
   },
   {
    "duration": 11,
    "start_time": "2023-06-01T16:08:22.534Z"
   },
   {
    "duration": 14,
    "start_time": "2023-06-01T16:08:22.547Z"
   },
   {
    "duration": 205,
    "start_time": "2023-06-01T16:08:22.563Z"
   },
   {
    "duration": 8,
    "start_time": "2023-06-01T16:08:22.770Z"
   },
   {
    "duration": 14,
    "start_time": "2023-06-01T16:08:22.780Z"
   },
   {
    "duration": 433,
    "start_time": "2023-06-01T16:08:22.796Z"
   },
   {
    "duration": 9,
    "start_time": "2023-06-01T16:32:55.382Z"
   },
   {
    "duration": 6,
    "start_time": "2023-06-01T16:32:58.062Z"
   },
   {
    "duration": 5,
    "start_time": "2023-06-01T16:32:58.850Z"
   },
   {
    "duration": 9,
    "start_time": "2023-06-01T16:33:01.718Z"
   },
   {
    "duration": 8,
    "start_time": "2023-06-01T16:33:03.105Z"
   },
   {
    "duration": 5,
    "start_time": "2023-06-01T16:33:06.422Z"
   },
   {
    "duration": 962,
    "start_time": "2023-06-01T16:33:14.024Z"
   },
   {
    "duration": 779,
    "start_time": "2023-06-01T16:33:48.949Z"
   },
   {
    "duration": 527,
    "start_time": "2023-06-01T16:34:16.477Z"
   },
   {
    "duration": 300,
    "start_time": "2023-06-01T16:34:29.416Z"
   },
   {
    "duration": 276,
    "start_time": "2023-06-01T16:34:52.666Z"
   },
   {
    "duration": 286,
    "start_time": "2023-06-01T16:35:00.105Z"
   },
   {
    "duration": 261,
    "start_time": "2023-06-01T16:35:08.750Z"
   },
   {
    "duration": 260,
    "start_time": "2023-06-01T16:36:53.685Z"
   },
   {
    "duration": 191,
    "start_time": "2023-06-01T16:37:01.179Z"
   },
   {
    "duration": 270,
    "start_time": "2023-06-01T16:37:23.585Z"
   },
   {
    "duration": 285,
    "start_time": "2023-06-01T16:37:46.819Z"
   },
   {
    "duration": 259,
    "start_time": "2023-06-01T16:38:00.258Z"
   },
   {
    "duration": 386,
    "start_time": "2023-06-01T16:38:16.662Z"
   },
   {
    "duration": 312,
    "start_time": "2023-06-01T16:45:36.807Z"
   },
   {
    "duration": 346,
    "start_time": "2023-06-01T16:46:32.179Z"
   },
   {
    "duration": 911,
    "start_time": "2023-06-02T13:39:30.015Z"
   },
   {
    "duration": 114,
    "start_time": "2023-06-02T13:39:30.928Z"
   },
   {
    "duration": 505,
    "start_time": "2023-06-02T13:39:31.044Z"
   },
   {
    "duration": 73,
    "start_time": "2023-06-02T13:39:31.551Z"
   },
   {
    "duration": 13,
    "start_time": "2023-06-02T13:39:31.626Z"
   },
   {
    "duration": 38,
    "start_time": "2023-06-02T13:39:31.641Z"
   },
   {
    "duration": 299,
    "start_time": "2023-06-02T13:39:31.685Z"
   },
   {
    "duration": 10,
    "start_time": "2023-06-02T13:39:31.986Z"
   },
   {
    "duration": 19,
    "start_time": "2023-06-02T13:39:31.998Z"
   },
   {
    "duration": 567,
    "start_time": "2023-06-02T13:39:32.025Z"
   },
   {
    "duration": 13,
    "start_time": "2023-06-02T13:39:32.602Z"
   },
   {
    "duration": 28,
    "start_time": "2023-06-02T13:39:32.617Z"
   },
   {
    "duration": 9,
    "start_time": "2023-06-02T13:39:32.647Z"
   },
   {
    "duration": 9,
    "start_time": "2023-06-02T13:39:32.658Z"
   },
   {
    "duration": 12,
    "start_time": "2023-06-02T13:39:32.669Z"
   },
   {
    "duration": 8,
    "start_time": "2023-06-02T13:39:32.685Z"
   },
   {
    "duration": 461,
    "start_time": "2023-06-02T13:39:32.696Z"
   },
   {
    "duration": 708,
    "start_time": "2023-06-02T13:39:48.057Z"
   },
   {
    "duration": 56,
    "start_time": "2023-06-02T13:39:48.767Z"
   },
   {
    "duration": 26,
    "start_time": "2023-06-02T13:39:48.825Z"
   },
   {
    "duration": 15,
    "start_time": "2023-06-02T13:39:48.852Z"
   },
   {
    "duration": 18,
    "start_time": "2023-06-02T13:39:48.869Z"
   },
   {
    "duration": 28,
    "start_time": "2023-06-02T13:39:48.889Z"
   },
   {
    "duration": 289,
    "start_time": "2023-06-02T13:39:48.921Z"
   },
   {
    "duration": 12,
    "start_time": "2023-06-02T13:39:49.212Z"
   },
   {
    "duration": 16,
    "start_time": "2023-06-02T13:39:49.226Z"
   },
   {
    "duration": 612,
    "start_time": "2023-06-02T13:39:49.244Z"
   },
   {
    "duration": 7,
    "start_time": "2023-06-02T13:39:49.858Z"
   },
   {
    "duration": 10,
    "start_time": "2023-06-02T13:39:49.876Z"
   },
   {
    "duration": 7,
    "start_time": "2023-06-02T13:39:49.887Z"
   },
   {
    "duration": 22,
    "start_time": "2023-06-02T13:39:49.897Z"
   },
   {
    "duration": 10,
    "start_time": "2023-06-02T13:39:49.921Z"
   },
   {
    "duration": 4,
    "start_time": "2023-06-02T13:39:49.934Z"
   },
   {
    "duration": 461,
    "start_time": "2023-06-02T13:39:49.940Z"
   },
   {
    "duration": 13,
    "start_time": "2023-06-02T13:39:50.403Z"
   },
   {
    "duration": 349,
    "start_time": "2023-06-02T13:40:05.526Z"
   },
   {
    "duration": 392,
    "start_time": "2023-06-02T13:40:46.199Z"
   },
   {
    "duration": 406,
    "start_time": "2023-06-02T13:40:57.293Z"
   },
   {
    "duration": 379,
    "start_time": "2023-06-02T13:41:33.171Z"
   },
   {
    "duration": 443,
    "start_time": "2023-06-02T13:41:49.701Z"
   },
   {
    "duration": 355,
    "start_time": "2023-06-02T13:41:56.522Z"
   },
   {
    "duration": 362,
    "start_time": "2023-06-02T13:42:12.400Z"
   },
   {
    "duration": 359,
    "start_time": "2023-06-02T13:43:07.672Z"
   },
   {
    "duration": 365,
    "start_time": "2023-06-02T13:43:21.468Z"
   },
   {
    "duration": 339,
    "start_time": "2023-06-02T13:43:37.213Z"
   },
   {
    "duration": 463,
    "start_time": "2023-06-02T13:44:22.437Z"
   },
   {
    "duration": 359,
    "start_time": "2023-06-02T13:44:25.704Z"
   },
   {
    "duration": 448,
    "start_time": "2023-06-02T13:44:37.193Z"
   },
   {
    "duration": 412,
    "start_time": "2023-06-02T13:45:31.309Z"
   },
   {
    "duration": 328,
    "start_time": "2023-06-02T13:45:40.392Z"
   },
   {
    "duration": 416,
    "start_time": "2023-06-02T13:45:42.614Z"
   },
   {
    "duration": 331,
    "start_time": "2023-06-02T13:45:56.700Z"
   },
   {
    "duration": 338,
    "start_time": "2023-06-02T13:46:30.804Z"
   },
   {
    "duration": 374,
    "start_time": "2023-06-02T13:46:43.251Z"
   },
   {
    "duration": 344,
    "start_time": "2023-06-02T13:46:47.505Z"
   },
   {
    "duration": 397,
    "start_time": "2023-06-02T13:48:05.641Z"
   },
   {
    "duration": 497,
    "start_time": "2023-06-02T13:48:14.570Z"
   },
   {
    "duration": 149,
    "start_time": "2023-06-02T13:51:02.210Z"
   },
   {
    "duration": 181,
    "start_time": "2023-06-02T13:51:19.950Z"
   },
   {
    "duration": 400,
    "start_time": "2023-06-02T13:51:25.726Z"
   },
   {
    "duration": 148,
    "start_time": "2023-06-02T13:51:33.503Z"
   },
   {
    "duration": 347,
    "start_time": "2023-06-02T13:51:48.254Z"
   },
   {
    "duration": 347,
    "start_time": "2023-06-02T13:52:09.849Z"
   },
   {
    "duration": 360,
    "start_time": "2023-06-02T13:52:41.804Z"
   },
   {
    "duration": 188,
    "start_time": "2023-06-02T13:54:11.174Z"
   },
   {
    "duration": 9,
    "start_time": "2023-06-02T14:11:42.014Z"
   },
   {
    "duration": 426,
    "start_time": "2023-06-02T14:11:47.920Z"
   },
   {
    "duration": 213,
    "start_time": "2023-06-02T14:12:22.271Z"
   },
   {
    "duration": 212,
    "start_time": "2023-06-02T14:12:32.928Z"
   },
   {
    "duration": 11,
    "start_time": "2023-06-02T14:12:38.914Z"
   },
   {
    "duration": 710,
    "start_time": "2023-06-02T14:12:49.736Z"
   },
   {
    "duration": 33,
    "start_time": "2023-06-02T14:12:50.448Z"
   },
   {
    "duration": 46,
    "start_time": "2023-06-02T14:12:50.483Z"
   },
   {
    "duration": 16,
    "start_time": "2023-06-02T14:12:50.534Z"
   },
   {
    "duration": 14,
    "start_time": "2023-06-02T14:12:50.552Z"
   },
   {
    "duration": 25,
    "start_time": "2023-06-02T14:12:50.568Z"
   },
   {
    "duration": 297,
    "start_time": "2023-06-02T14:12:50.596Z"
   },
   {
    "duration": 19,
    "start_time": "2023-06-02T14:12:50.899Z"
   },
   {
    "duration": 16,
    "start_time": "2023-06-02T14:12:50.924Z"
   },
   {
    "duration": 651,
    "start_time": "2023-06-02T14:12:50.943Z"
   },
   {
    "duration": 27,
    "start_time": "2023-06-02T14:12:51.597Z"
   },
   {
    "duration": 10,
    "start_time": "2023-06-02T14:12:51.632Z"
   },
   {
    "duration": 5,
    "start_time": "2023-06-02T14:12:51.645Z"
   },
   {
    "duration": 11,
    "start_time": "2023-06-02T14:12:51.652Z"
   },
   {
    "duration": 19,
    "start_time": "2023-06-02T14:12:51.665Z"
   },
   {
    "duration": 6,
    "start_time": "2023-06-02T14:12:51.686Z"
   },
   {
    "duration": 270,
    "start_time": "2023-06-02T14:12:51.694Z"
   },
   {
    "duration": 24,
    "start_time": "2023-06-02T14:12:51.966Z"
   },
   {
    "duration": 33,
    "start_time": "2023-06-02T14:12:51.991Z"
   },
   {
    "duration": 8,
    "start_time": "2023-06-02T14:13:23.148Z"
   },
   {
    "duration": 252,
    "start_time": "2023-06-02T14:18:39.899Z"
   },
   {
    "duration": 218,
    "start_time": "2023-06-02T14:18:50.816Z"
   },
   {
    "duration": 736,
    "start_time": "2023-06-02T14:19:38.120Z"
   },
   {
    "duration": 49,
    "start_time": "2023-06-02T14:19:38.858Z"
   },
   {
    "duration": 29,
    "start_time": "2023-06-02T14:19:38.909Z"
   },
   {
    "duration": 16,
    "start_time": "2023-06-02T14:19:38.940Z"
   },
   {
    "duration": 13,
    "start_time": "2023-06-02T14:19:38.957Z"
   },
   {
    "duration": 31,
    "start_time": "2023-06-02T14:19:38.972Z"
   },
   {
    "duration": 286,
    "start_time": "2023-06-02T14:19:39.004Z"
   },
   {
    "duration": 10,
    "start_time": "2023-06-02T14:19:39.291Z"
   },
   {
    "duration": 15,
    "start_time": "2023-06-02T14:19:39.303Z"
   },
   {
    "duration": 621,
    "start_time": "2023-06-02T14:19:39.321Z"
   },
   {
    "duration": 8,
    "start_time": "2023-06-02T14:19:39.944Z"
   },
   {
    "duration": 23,
    "start_time": "2023-06-02T14:19:39.954Z"
   },
   {
    "duration": 22,
    "start_time": "2023-06-02T14:19:39.978Z"
   },
   {
    "duration": 15,
    "start_time": "2023-06-02T14:19:40.002Z"
   },
   {
    "duration": 20,
    "start_time": "2023-06-02T14:19:40.021Z"
   },
   {
    "duration": 14,
    "start_time": "2023-06-02T14:19:40.043Z"
   },
   {
    "duration": 305,
    "start_time": "2023-06-02T14:19:40.059Z"
   },
   {
    "duration": 199,
    "start_time": "2023-06-02T14:19:40.366Z"
   },
   {
    "duration": 19,
    "start_time": "2023-06-02T14:19:40.567Z"
   },
   {
    "duration": 213,
    "start_time": "2023-06-02T14:19:40.588Z"
   },
   {
    "duration": 27,
    "start_time": "2023-06-02T14:19:40.803Z"
   },
   {
    "duration": 252,
    "start_time": "2023-06-02T14:21:39.295Z"
   },
   {
    "duration": 779,
    "start_time": "2023-06-02T14:23:55.842Z"
   },
   {
    "duration": 29,
    "start_time": "2023-06-02T14:23:56.629Z"
   },
   {
    "duration": 36,
    "start_time": "2023-06-02T14:23:56.660Z"
   },
   {
    "duration": 29,
    "start_time": "2023-06-02T14:23:56.698Z"
   },
   {
    "duration": 14,
    "start_time": "2023-06-02T14:23:56.730Z"
   },
   {
    "duration": 19,
    "start_time": "2023-06-02T14:23:56.746Z"
   },
   {
    "duration": 315,
    "start_time": "2023-06-02T14:23:56.767Z"
   },
   {
    "duration": 24,
    "start_time": "2023-06-02T14:23:57.087Z"
   },
   {
    "duration": 25,
    "start_time": "2023-06-02T14:23:57.112Z"
   },
   {
    "duration": 621,
    "start_time": "2023-06-02T14:23:57.140Z"
   },
   {
    "duration": 8,
    "start_time": "2023-06-02T14:23:57.763Z"
   },
   {
    "duration": 29,
    "start_time": "2023-06-02T14:23:57.776Z"
   },
   {
    "duration": 7,
    "start_time": "2023-06-02T14:23:57.816Z"
   },
   {
    "duration": 16,
    "start_time": "2023-06-02T14:23:57.825Z"
   },
   {
    "duration": 22,
    "start_time": "2023-06-02T14:23:57.843Z"
   },
   {
    "duration": 5,
    "start_time": "2023-06-02T14:23:57.867Z"
   },
   {
    "duration": 302,
    "start_time": "2023-06-02T14:23:57.873Z"
   },
   {
    "duration": 343,
    "start_time": "2023-06-02T14:26:08.710Z"
   },
   {
    "duration": 226,
    "start_time": "2023-06-02T14:26:49.899Z"
   },
   {
    "duration": 207,
    "start_time": "2023-06-02T14:27:28.657Z"
   },
   {
    "duration": 210,
    "start_time": "2023-06-02T14:27:36.344Z"
   },
   {
    "duration": 233,
    "start_time": "2023-06-02T14:27:51.169Z"
   },
   {
    "duration": 190,
    "start_time": "2023-06-02T14:27:58.618Z"
   },
   {
    "duration": 159,
    "start_time": "2023-06-02T14:37:49.712Z"
   },
   {
    "duration": 178,
    "start_time": "2023-06-02T14:38:00.911Z"
   },
   {
    "duration": 174,
    "start_time": "2023-06-02T14:38:41.448Z"
   },
   {
    "duration": 244,
    "start_time": "2023-06-02T14:40:35.618Z"
   },
   {
    "duration": 200,
    "start_time": "2023-06-02T14:41:03.228Z"
   },
   {
    "duration": 287,
    "start_time": "2023-06-02T14:41:14.992Z"
   },
   {
    "duration": 5,
    "start_time": "2023-06-02T14:43:17.127Z"
   },
   {
    "duration": 216,
    "start_time": "2023-06-02T14:43:24.100Z"
   },
   {
    "duration": 185,
    "start_time": "2023-06-02T14:43:35.551Z"
   },
   {
    "duration": 205,
    "start_time": "2023-06-02T14:43:58.404Z"
   },
   {
    "duration": 14,
    "start_time": "2023-06-02T14:44:12.122Z"
   },
   {
    "duration": 705,
    "start_time": "2023-06-02T14:44:23.162Z"
   },
   {
    "duration": 37,
    "start_time": "2023-06-02T14:44:23.868Z"
   },
   {
    "duration": 50,
    "start_time": "2023-06-02T14:44:23.907Z"
   },
   {
    "duration": 35,
    "start_time": "2023-06-02T14:44:23.960Z"
   },
   {
    "duration": 17,
    "start_time": "2023-06-02T14:44:23.997Z"
   },
   {
    "duration": 18,
    "start_time": "2023-06-02T14:44:24.019Z"
   },
   {
    "duration": 315,
    "start_time": "2023-06-02T14:44:24.040Z"
   },
   {
    "duration": 12,
    "start_time": "2023-06-02T14:44:24.357Z"
   },
   {
    "duration": 35,
    "start_time": "2023-06-02T14:44:24.370Z"
   },
   {
    "duration": 636,
    "start_time": "2023-06-02T14:44:24.414Z"
   },
   {
    "duration": 8,
    "start_time": "2023-06-02T14:44:25.059Z"
   },
   {
    "duration": 31,
    "start_time": "2023-06-02T14:44:25.072Z"
   },
   {
    "duration": 9,
    "start_time": "2023-06-02T14:44:25.106Z"
   },
   {
    "duration": 39,
    "start_time": "2023-06-02T14:44:25.120Z"
   },
   {
    "duration": 31,
    "start_time": "2023-06-02T14:44:25.160Z"
   },
   {
    "duration": 29,
    "start_time": "2023-06-02T14:44:25.205Z"
   },
   {
    "duration": 318,
    "start_time": "2023-06-02T14:44:25.238Z"
   },
   {
    "duration": 209,
    "start_time": "2023-06-02T14:44:25.558Z"
   },
   {
    "duration": 26,
    "start_time": "2023-06-02T14:44:25.769Z"
   },
   {
    "duration": 248,
    "start_time": "2023-06-02T14:44:25.805Z"
   },
   {
    "duration": 13,
    "start_time": "2023-06-02T14:44:26.055Z"
   },
   {
    "duration": 20,
    "start_time": "2023-06-02T14:44:43.470Z"
   },
   {
    "duration": 743,
    "start_time": "2023-06-02T14:44:51.426Z"
   },
   {
    "duration": 55,
    "start_time": "2023-06-02T14:44:52.171Z"
   },
   {
    "duration": 28,
    "start_time": "2023-06-02T14:44:52.228Z"
   },
   {
    "duration": 15,
    "start_time": "2023-06-02T14:44:52.257Z"
   },
   {
    "duration": 39,
    "start_time": "2023-06-02T14:44:52.274Z"
   },
   {
    "duration": 16,
    "start_time": "2023-06-02T14:44:52.315Z"
   },
   {
    "duration": 299,
    "start_time": "2023-06-02T14:44:52.333Z"
   },
   {
    "duration": 8,
    "start_time": "2023-06-02T14:44:52.635Z"
   },
   {
    "duration": 15,
    "start_time": "2023-06-02T14:44:52.645Z"
   },
   {
    "duration": 576,
    "start_time": "2023-06-02T14:44:52.662Z"
   },
   {
    "duration": 6,
    "start_time": "2023-06-02T14:44:53.240Z"
   },
   {
    "duration": 10,
    "start_time": "2023-06-02T14:44:53.248Z"
   },
   {
    "duration": 23,
    "start_time": "2023-06-02T14:44:53.260Z"
   },
   {
    "duration": 24,
    "start_time": "2023-06-02T14:44:53.285Z"
   },
   {
    "duration": 16,
    "start_time": "2023-06-02T14:44:53.311Z"
   },
   {
    "duration": 7,
    "start_time": "2023-06-02T14:44:53.332Z"
   },
   {
    "duration": 274,
    "start_time": "2023-06-02T14:44:53.340Z"
   },
   {
    "duration": 181,
    "start_time": "2023-06-02T14:44:53.616Z"
   },
   {
    "duration": 10,
    "start_time": "2023-06-02T14:44:53.799Z"
   },
   {
    "duration": 270,
    "start_time": "2023-06-02T14:44:53.810Z"
   },
   {
    "duration": 26,
    "start_time": "2023-06-02T14:44:54.087Z"
   },
   {
    "duration": 20,
    "start_time": "2023-06-02T15:00:33.298Z"
   },
   {
    "duration": 725,
    "start_time": "2023-06-02T15:00:43.229Z"
   },
   {
    "duration": 55,
    "start_time": "2023-06-02T15:00:43.957Z"
   },
   {
    "duration": 33,
    "start_time": "2023-06-02T15:00:44.019Z"
   },
   {
    "duration": 32,
    "start_time": "2023-06-02T15:00:44.055Z"
   },
   {
    "duration": 18,
    "start_time": "2023-06-02T15:00:44.091Z"
   },
   {
    "duration": 17,
    "start_time": "2023-06-02T15:00:44.114Z"
   },
   {
    "duration": 320,
    "start_time": "2023-06-02T15:00:44.136Z"
   },
   {
    "duration": 10,
    "start_time": "2023-06-02T15:00:44.458Z"
   },
   {
    "duration": 40,
    "start_time": "2023-06-02T15:00:44.483Z"
   },
   {
    "duration": 596,
    "start_time": "2023-06-02T15:00:44.526Z"
   },
   {
    "duration": 9,
    "start_time": "2023-06-02T15:00:45.123Z"
   },
   {
    "duration": 8,
    "start_time": "2023-06-02T15:00:45.133Z"
   },
   {
    "duration": 11,
    "start_time": "2023-06-02T15:00:45.142Z"
   },
   {
    "duration": 11,
    "start_time": "2023-06-02T15:00:45.155Z"
   },
   {
    "duration": 28,
    "start_time": "2023-06-02T15:00:45.167Z"
   },
   {
    "duration": 9,
    "start_time": "2023-06-02T15:00:45.203Z"
   },
   {
    "duration": 296,
    "start_time": "2023-06-02T15:00:45.215Z"
   },
   {
    "duration": 189,
    "start_time": "2023-06-02T15:00:45.514Z"
   },
   {
    "duration": 15,
    "start_time": "2023-06-02T15:00:45.705Z"
   },
   {
    "duration": 231,
    "start_time": "2023-06-02T15:00:45.732Z"
   },
   {
    "duration": 9,
    "start_time": "2023-06-02T15:00:45.964Z"
   },
   {
    "duration": 202,
    "start_time": "2023-06-02T15:04:34.973Z"
   },
   {
    "duration": 219,
    "start_time": "2023-06-02T15:05:13.862Z"
   },
   {
    "duration": 710,
    "start_time": "2023-06-02T15:05:36.356Z"
   },
   {
    "duration": 62,
    "start_time": "2023-06-02T15:05:37.068Z"
   },
   {
    "duration": 26,
    "start_time": "2023-06-02T15:05:37.132Z"
   },
   {
    "duration": 16,
    "start_time": "2023-06-02T15:05:37.160Z"
   },
   {
    "duration": 20,
    "start_time": "2023-06-02T15:05:37.188Z"
   },
   {
    "duration": 14,
    "start_time": "2023-06-02T15:05:37.212Z"
   },
   {
    "duration": 302,
    "start_time": "2023-06-02T15:05:37.228Z"
   },
   {
    "duration": 8,
    "start_time": "2023-06-02T15:05:37.532Z"
   },
   {
    "duration": 13,
    "start_time": "2023-06-02T15:05:37.541Z"
   },
   {
    "duration": 583,
    "start_time": "2023-06-02T15:05:37.556Z"
   },
   {
    "duration": 7,
    "start_time": "2023-06-02T15:05:38.141Z"
   },
   {
    "duration": 22,
    "start_time": "2023-06-02T15:05:38.150Z"
   },
   {
    "duration": 28,
    "start_time": "2023-06-02T15:05:38.173Z"
   },
   {
    "duration": 16,
    "start_time": "2023-06-02T15:05:38.203Z"
   },
   {
    "duration": 17,
    "start_time": "2023-06-02T15:05:38.221Z"
   },
   {
    "duration": 4,
    "start_time": "2023-06-02T15:05:38.240Z"
   },
   {
    "duration": 301,
    "start_time": "2023-06-02T15:05:38.246Z"
   },
   {
    "duration": 190,
    "start_time": "2023-06-02T15:05:38.549Z"
   },
   {
    "duration": 7,
    "start_time": "2023-06-02T15:05:38.740Z"
   },
   {
    "duration": 229,
    "start_time": "2023-06-02T15:05:38.748Z"
   },
   {
    "duration": 15,
    "start_time": "2023-06-02T15:05:38.981Z"
   },
   {
    "duration": 188,
    "start_time": "2023-06-02T15:06:48.112Z"
   },
   {
    "duration": 200,
    "start_time": "2023-06-02T15:07:04.950Z"
   },
   {
    "duration": 761,
    "start_time": "2023-06-02T15:07:16.380Z"
   },
   {
    "duration": 28,
    "start_time": "2023-06-02T15:07:17.143Z"
   },
   {
    "duration": 53,
    "start_time": "2023-06-02T15:07:17.172Z"
   },
   {
    "duration": 15,
    "start_time": "2023-06-02T15:07:17.227Z"
   },
   {
    "duration": 11,
    "start_time": "2023-06-02T15:07:17.243Z"
   },
   {
    "duration": 11,
    "start_time": "2023-06-02T15:07:17.255Z"
   },
   {
    "duration": 280,
    "start_time": "2023-06-02T15:07:17.268Z"
   },
   {
    "duration": 10,
    "start_time": "2023-06-02T15:07:17.549Z"
   },
   {
    "duration": 42,
    "start_time": "2023-06-02T15:07:17.561Z"
   },
   {
    "duration": 547,
    "start_time": "2023-06-02T15:07:17.605Z"
   },
   {
    "duration": 6,
    "start_time": "2023-06-02T15:07:18.154Z"
   },
   {
    "duration": 22,
    "start_time": "2023-06-02T15:07:18.162Z"
   },
   {
    "duration": 14,
    "start_time": "2023-06-02T15:07:18.187Z"
   },
   {
    "duration": 28,
    "start_time": "2023-06-02T15:07:18.203Z"
   },
   {
    "duration": 7,
    "start_time": "2023-06-02T15:07:18.233Z"
   },
   {
    "duration": 10,
    "start_time": "2023-06-02T15:07:18.242Z"
   },
   {
    "duration": 270,
    "start_time": "2023-06-02T15:07:18.254Z"
   },
   {
    "duration": 181,
    "start_time": "2023-06-02T15:07:18.526Z"
   },
   {
    "duration": 10,
    "start_time": "2023-06-02T15:07:18.709Z"
   },
   {
    "duration": 224,
    "start_time": "2023-06-02T15:07:18.722Z"
   },
   {
    "duration": 9,
    "start_time": "2023-06-02T15:07:18.948Z"
   },
   {
    "duration": 23,
    "start_time": "2023-06-02T15:12:20.774Z"
   },
   {
    "duration": 222,
    "start_time": "2023-06-02T15:16:26.503Z"
   },
   {
    "duration": 287,
    "start_time": "2023-06-02T15:17:32.602Z"
   },
   {
    "duration": 810,
    "start_time": "2023-06-02T15:17:47.057Z"
   },
   {
    "duration": 52,
    "start_time": "2023-06-02T15:17:47.869Z"
   },
   {
    "duration": 28,
    "start_time": "2023-06-02T15:17:47.923Z"
   },
   {
    "duration": 15,
    "start_time": "2023-06-02T15:17:47.953Z"
   },
   {
    "duration": 39,
    "start_time": "2023-06-02T15:17:47.969Z"
   },
   {
    "duration": 21,
    "start_time": "2023-06-02T15:17:48.020Z"
   },
   {
    "duration": 308,
    "start_time": "2023-06-02T15:17:48.043Z"
   },
   {
    "duration": 10,
    "start_time": "2023-06-02T15:17:48.352Z"
   },
   {
    "duration": 46,
    "start_time": "2023-06-02T15:17:48.363Z"
   },
   {
    "duration": 662,
    "start_time": "2023-06-02T15:17:48.415Z"
   },
   {
    "duration": 11,
    "start_time": "2023-06-02T15:17:49.094Z"
   },
   {
    "duration": 9,
    "start_time": "2023-06-02T15:17:49.107Z"
   },
   {
    "duration": 7,
    "start_time": "2023-06-02T15:17:49.119Z"
   },
   {
    "duration": 14,
    "start_time": "2023-06-02T15:17:49.127Z"
   },
   {
    "duration": 7,
    "start_time": "2023-06-02T15:17:49.148Z"
   },
   {
    "duration": 3,
    "start_time": "2023-06-02T15:17:49.157Z"
   },
   {
    "duration": 343,
    "start_time": "2023-06-02T15:17:49.162Z"
   },
   {
    "duration": 228,
    "start_time": "2023-06-02T15:17:49.515Z"
   },
   {
    "duration": 3,
    "start_time": "2023-06-02T15:17:49.745Z"
   },
   {
    "duration": 5,
    "start_time": "2023-06-02T15:17:49.749Z"
   },
   {
    "duration": 101,
    "start_time": "2023-06-02T15:33:40.126Z"
   },
   {
    "duration": 12,
    "start_time": "2023-06-02T15:34:05.518Z"
   },
   {
    "duration": 17,
    "start_time": "2023-06-02T15:41:37.521Z"
   },
   {
    "duration": 25,
    "start_time": "2023-06-02T15:42:13.677Z"
   },
   {
    "duration": 8,
    "start_time": "2023-06-02T15:42:21.445Z"
   },
   {
    "duration": 19,
    "start_time": "2023-06-02T15:42:28.342Z"
   },
   {
    "duration": 18,
    "start_time": "2023-06-02T15:43:45.434Z"
   },
   {
    "duration": 21,
    "start_time": "2023-06-02T15:44:04.047Z"
   },
   {
    "duration": 18,
    "start_time": "2023-06-02T15:44:38.903Z"
   },
   {
    "duration": 7,
    "start_time": "2023-06-02T15:44:42.026Z"
   },
   {
    "duration": 8,
    "start_time": "2023-06-02T15:44:52.052Z"
   },
   {
    "duration": 18,
    "start_time": "2023-06-02T15:44:57.407Z"
   },
   {
    "duration": 23,
    "start_time": "2023-06-02T15:45:01.004Z"
   },
   {
    "duration": 18,
    "start_time": "2023-06-02T15:45:04.591Z"
   },
   {
    "duration": 15,
    "start_time": "2023-06-02T15:45:08.352Z"
   },
   {
    "duration": 15,
    "start_time": "2023-06-02T15:45:28.026Z"
   },
   {
    "duration": 19,
    "start_time": "2023-06-02T15:45:39.125Z"
   },
   {
    "duration": 23,
    "start_time": "2023-06-02T15:45:47.902Z"
   },
   {
    "duration": 33,
    "start_time": "2023-06-02T15:46:24.799Z"
   },
   {
    "duration": 15,
    "start_time": "2023-06-02T15:46:37.452Z"
   },
   {
    "duration": 16,
    "start_time": "2023-06-02T15:47:43.524Z"
   },
   {
    "duration": 15,
    "start_time": "2023-06-02T15:47:50.627Z"
   },
   {
    "duration": 15,
    "start_time": "2023-06-02T15:49:36.929Z"
   },
   {
    "duration": 25,
    "start_time": "2023-06-02T15:49:55.806Z"
   },
   {
    "duration": 21,
    "start_time": "2023-06-02T15:49:59.716Z"
   },
   {
    "duration": 37,
    "start_time": "2023-06-02T15:50:02.007Z"
   },
   {
    "duration": 15,
    "start_time": "2023-06-02T15:54:38.046Z"
   },
   {
    "duration": 30,
    "start_time": "2023-06-02T15:55:03.726Z"
   },
   {
    "duration": 17,
    "start_time": "2023-06-02T15:55:16.559Z"
   },
   {
    "duration": 29,
    "start_time": "2023-06-02T15:55:26.595Z"
   },
   {
    "duration": 19,
    "start_time": "2023-06-02T15:56:12.714Z"
   },
   {
    "duration": 13,
    "start_time": "2023-06-02T15:56:24.027Z"
   },
   {
    "duration": 13,
    "start_time": "2023-06-02T15:56:30.290Z"
   },
   {
    "duration": 7,
    "start_time": "2023-06-02T15:56:36.256Z"
   },
   {
    "duration": 45,
    "start_time": "2023-06-02T15:57:49.998Z"
   },
   {
    "duration": 31,
    "start_time": "2023-06-02T15:57:59.102Z"
   },
   {
    "duration": 5,
    "start_time": "2023-06-02T16:13:23.952Z"
   },
   {
    "duration": 4,
    "start_time": "2023-06-02T16:13:31.857Z"
   },
   {
    "duration": 6,
    "start_time": "2023-06-02T16:13:57.612Z"
   },
   {
    "duration": 181,
    "start_time": "2023-06-02T16:14:33.966Z"
   },
   {
    "duration": 10,
    "start_time": "2023-06-02T16:17:31.636Z"
   },
   {
    "duration": 194,
    "start_time": "2023-06-02T16:17:54.932Z"
   },
   {
    "duration": 204,
    "start_time": "2023-06-02T16:19:13.532Z"
   },
   {
    "duration": 8,
    "start_time": "2023-06-02T16:22:20.704Z"
   },
   {
    "duration": 6,
    "start_time": "2023-06-02T16:24:31.570Z"
   },
   {
    "duration": 5,
    "start_time": "2023-06-02T16:27:06.434Z"
   },
   {
    "duration": 18,
    "start_time": "2023-06-02T16:28:22.574Z"
   },
   {
    "duration": 27,
    "start_time": "2023-06-02T16:29:36.245Z"
   },
   {
    "duration": 152,
    "start_time": "2023-06-02T16:31:37.043Z"
   },
   {
    "duration": 41,
    "start_time": "2023-06-02T16:31:47.607Z"
   },
   {
    "duration": 66,
    "start_time": "2023-06-02T16:32:08.874Z"
   },
   {
    "duration": 61,
    "start_time": "2023-06-02T16:33:00.094Z"
   },
   {
    "duration": 49,
    "start_time": "2023-06-02T16:33:14.894Z"
   },
   {
    "duration": 54,
    "start_time": "2023-06-02T16:33:27.316Z"
   },
   {
    "duration": 60,
    "start_time": "2023-06-02T16:33:33.311Z"
   },
   {
    "duration": 219,
    "start_time": "2023-06-02T16:33:47.745Z"
   },
   {
    "duration": 95,
    "start_time": "2023-06-02T16:34:03.465Z"
   },
   {
    "duration": 181,
    "start_time": "2023-06-02T16:34:20.647Z"
   },
   {
    "duration": 200,
    "start_time": "2023-06-02T16:34:32.196Z"
   },
   {
    "duration": 64,
    "start_time": "2023-06-02T16:34:34.353Z"
   },
   {
    "duration": 73,
    "start_time": "2023-06-02T16:48:45.199Z"
   },
   {
    "duration": 18,
    "start_time": "2023-06-02T16:49:00.661Z"
   },
   {
    "duration": 92,
    "start_time": "2023-06-02T16:49:04.234Z"
   },
   {
    "duration": 0,
    "start_time": "2023-06-02T16:49:33.146Z"
   },
   {
    "duration": 57,
    "start_time": "2023-06-02T16:49:36.299Z"
   },
   {
    "duration": 34,
    "start_time": "2023-06-02T16:49:47.962Z"
   },
   {
    "duration": 40,
    "start_time": "2023-06-02T16:50:00.293Z"
   },
   {
    "duration": 39,
    "start_time": "2023-06-02T16:57:52.563Z"
   },
   {
    "duration": 213,
    "start_time": "2023-06-02T16:58:12.928Z"
   },
   {
    "duration": 31,
    "start_time": "2023-06-02T16:59:18.650Z"
   },
   {
    "duration": 47,
    "start_time": "2023-06-02T16:59:29.399Z"
   },
   {
    "duration": 50,
    "start_time": "2023-06-02T17:00:18.369Z"
   },
   {
    "duration": 70,
    "start_time": "2023-06-02T17:00:26.892Z"
   },
   {
    "duration": 79,
    "start_time": "2023-06-02T17:00:35.001Z"
   },
   {
    "duration": 24,
    "start_time": "2023-06-02T17:08:53.635Z"
   },
   {
    "duration": 41,
    "start_time": "2023-06-02T17:09:22.808Z"
   },
   {
    "duration": 36,
    "start_time": "2023-06-02T17:09:52.562Z"
   },
   {
    "duration": 53,
    "start_time": "2023-06-02T17:10:06.971Z"
   },
   {
    "duration": 47,
    "start_time": "2023-06-02T17:10:15.220Z"
   },
   {
    "duration": 33,
    "start_time": "2023-06-02T17:10:17.809Z"
   },
   {
    "duration": 29,
    "start_time": "2023-06-02T17:12:00.942Z"
   },
   {
    "duration": 54,
    "start_time": "2023-06-02T19:30:01.067Z"
   },
   {
    "duration": 1605,
    "start_time": "2023-06-02T19:30:06.979Z"
   },
   {
    "duration": 86,
    "start_time": "2023-06-02T19:30:08.586Z"
   },
   {
    "duration": 69,
    "start_time": "2023-06-02T19:30:08.674Z"
   },
   {
    "duration": 52,
    "start_time": "2023-06-02T19:30:08.745Z"
   },
   {
    "duration": 14,
    "start_time": "2023-06-02T19:30:08.799Z"
   },
   {
    "duration": 48,
    "start_time": "2023-06-02T19:30:08.815Z"
   },
   {
    "duration": 272,
    "start_time": "2023-06-02T19:30:08.865Z"
   },
   {
    "duration": 14,
    "start_time": "2023-06-02T19:30:09.138Z"
   },
   {
    "duration": 41,
    "start_time": "2023-06-02T19:30:09.154Z"
   },
   {
    "duration": 515,
    "start_time": "2023-06-02T19:30:09.198Z"
   },
   {
    "duration": 8,
    "start_time": "2023-06-02T19:30:09.715Z"
   },
   {
    "duration": 24,
    "start_time": "2023-06-02T19:30:09.724Z"
   },
   {
    "duration": 11,
    "start_time": "2023-06-02T19:30:09.750Z"
   },
   {
    "duration": 32,
    "start_time": "2023-06-02T19:30:09.763Z"
   },
   {
    "duration": 17,
    "start_time": "2023-06-02T19:30:09.798Z"
   },
   {
    "duration": 22,
    "start_time": "2023-06-02T19:30:09.817Z"
   },
   {
    "duration": 261,
    "start_time": "2023-06-02T19:30:09.840Z"
   },
   {
    "duration": 170,
    "start_time": "2023-06-02T19:30:10.103Z"
   },
   {
    "duration": 3,
    "start_time": "2023-06-02T19:30:10.274Z"
   },
   {
    "duration": 26,
    "start_time": "2023-06-02T19:30:10.279Z"
   },
   {
    "duration": 11,
    "start_time": "2023-06-02T19:30:10.307Z"
   },
   {
    "duration": 28,
    "start_time": "2023-06-02T19:30:10.320Z"
   },
   {
    "duration": 22,
    "start_time": "2023-06-02T19:30:10.350Z"
   },
   {
    "duration": 12,
    "start_time": "2023-06-02T19:30:10.374Z"
   },
   {
    "duration": 39,
    "start_time": "2023-06-02T19:30:10.387Z"
   },
   {
    "duration": 38,
    "start_time": "2023-06-02T19:30:10.427Z"
   },
   {
    "duration": 18719,
    "start_time": "2023-06-02T19:33:33.703Z"
   },
   {
    "duration": 159,
    "start_time": "2023-06-02T19:34:16.001Z"
   },
   {
    "duration": 256,
    "start_time": "2023-06-02T19:34:28.873Z"
   },
   {
    "duration": 199,
    "start_time": "2023-06-02T19:34:35.372Z"
   },
   {
    "duration": 7,
    "start_time": "2023-06-02T19:35:03.055Z"
   },
   {
    "duration": 5,
    "start_time": "2023-06-02T19:35:06.300Z"
   },
   {
    "duration": 4,
    "start_time": "2023-06-02T19:35:11.696Z"
   },
   {
    "duration": 203,
    "start_time": "2023-06-02T19:35:27.432Z"
   },
   {
    "duration": 188,
    "start_time": "2023-06-02T19:35:44.799Z"
   },
   {
    "duration": 226,
    "start_time": "2023-06-02T19:36:28.437Z"
   },
   {
    "duration": 201,
    "start_time": "2023-06-02T19:37:36.180Z"
   },
   {
    "duration": 153,
    "start_time": "2023-06-02T19:38:31.525Z"
   },
   {
    "duration": 121,
    "start_time": "2023-06-02T19:38:40.366Z"
   },
   {
    "duration": 9,
    "start_time": "2023-06-02T19:45:02.179Z"
   },
   {
    "duration": 18,
    "start_time": "2023-06-02T19:45:25.625Z"
   },
   {
    "duration": 21,
    "start_time": "2023-06-02T19:45:47.686Z"
   },
   {
    "duration": 181,
    "start_time": "2023-06-02T19:45:58.994Z"
   },
   {
    "duration": 169,
    "start_time": "2023-06-02T19:46:16.341Z"
   },
   {
    "duration": 153,
    "start_time": "2023-06-02T19:46:27.964Z"
   },
   {
    "duration": 201,
    "start_time": "2023-06-02T19:46:32.317Z"
   },
   {
    "duration": 246,
    "start_time": "2023-06-02T19:47:18.274Z"
   },
   {
    "duration": 395,
    "start_time": "2023-06-02T19:47:32.178Z"
   },
   {
    "duration": 365,
    "start_time": "2023-06-02T19:47:54.971Z"
   },
   {
    "duration": 358,
    "start_time": "2023-06-02T19:48:25.667Z"
   },
   {
    "duration": 363,
    "start_time": "2023-06-02T19:48:39.729Z"
   },
   {
    "duration": 327,
    "start_time": "2023-06-02T19:48:59.872Z"
   },
   {
    "duration": 209,
    "start_time": "2023-06-02T19:49:31.796Z"
   },
   {
    "duration": 642,
    "start_time": "2023-06-02T19:49:50.437Z"
   },
   {
    "duration": 2915,
    "start_time": "2023-06-02T19:50:00.767Z"
   },
   {
    "duration": 587,
    "start_time": "2023-06-02T19:50:11.532Z"
   },
   {
    "duration": 607,
    "start_time": "2023-06-02T19:50:28.078Z"
   },
   {
    "duration": 632,
    "start_time": "2023-06-02T19:50:45.308Z"
   },
   {
    "duration": 316,
    "start_time": "2023-06-02T19:51:11.205Z"
   },
   {
    "duration": 265,
    "start_time": "2023-06-02T19:51:34.853Z"
   },
   {
    "duration": 337,
    "start_time": "2023-06-02T19:51:49.437Z"
   },
   {
    "duration": 284,
    "start_time": "2023-06-02T19:51:57.431Z"
   },
   {
    "duration": 282,
    "start_time": "2023-06-02T19:52:26.891Z"
   },
   {
    "duration": 317,
    "start_time": "2023-06-02T19:52:47.146Z"
   },
   {
    "duration": 268,
    "start_time": "2023-06-02T19:52:58.403Z"
   },
   {
    "duration": 280,
    "start_time": "2023-06-02T19:54:07.772Z"
   },
   {
    "duration": 287,
    "start_time": "2023-06-02T19:55:00.734Z"
   },
   {
    "duration": 294,
    "start_time": "2023-06-02T19:55:17.295Z"
   },
   {
    "duration": 268,
    "start_time": "2023-06-02T19:55:30.195Z"
   },
   {
    "duration": 146,
    "start_time": "2023-06-02T20:00:33.229Z"
   },
   {
    "duration": 185,
    "start_time": "2023-06-02T20:00:46.027Z"
   },
   {
    "duration": 192,
    "start_time": "2023-06-02T20:01:23.494Z"
   },
   {
    "duration": 168,
    "start_time": "2023-06-02T20:01:47.259Z"
   },
   {
    "duration": 399,
    "start_time": "2023-06-02T20:01:54.535Z"
   },
   {
    "duration": 84,
    "start_time": "2023-06-02T20:08:24.256Z"
   },
   {
    "duration": 9,
    "start_time": "2023-06-02T20:08:48.994Z"
   },
   {
    "duration": 142,
    "start_time": "2023-06-02T20:08:58.816Z"
   },
   {
    "duration": 178,
    "start_time": "2023-06-02T20:09:14.593Z"
   },
   {
    "duration": 229,
    "start_time": "2023-06-02T20:09:34.857Z"
   },
   {
    "duration": 14,
    "start_time": "2023-06-02T20:25:20.267Z"
   },
   {
    "duration": 12,
    "start_time": "2023-06-02T20:25:26.277Z"
   },
   {
    "duration": 27,
    "start_time": "2023-06-02T20:25:42.781Z"
   },
   {
    "duration": 12,
    "start_time": "2023-06-02T20:26:22.884Z"
   },
   {
    "duration": 14,
    "start_time": "2023-06-02T20:26:31.444Z"
   },
   {
    "duration": 62,
    "start_time": "2023-06-02T20:30:15.936Z"
   },
   {
    "duration": 27,
    "start_time": "2023-06-02T20:30:39.073Z"
   },
   {
    "duration": 17,
    "start_time": "2023-06-02T20:30:54.415Z"
   },
   {
    "duration": 17,
    "start_time": "2023-06-02T20:31:17.248Z"
   },
   {
    "duration": 25,
    "start_time": "2023-06-02T20:31:25.571Z"
   },
   {
    "duration": 6,
    "start_time": "2023-06-02T20:31:54.906Z"
   },
   {
    "duration": 8,
    "start_time": "2023-06-02T20:32:01.068Z"
   },
   {
    "duration": 10,
    "start_time": "2023-06-02T20:32:01.278Z"
   },
   {
    "duration": 186,
    "start_time": "2023-06-02T20:35:59.915Z"
   },
   {
    "duration": 152,
    "start_time": "2023-06-02T20:36:09.771Z"
   },
   {
    "duration": 194,
    "start_time": "2023-06-02T20:36:19.132Z"
   },
   {
    "duration": 18,
    "start_time": "2023-06-02T20:36:48.661Z"
   },
   {
    "duration": 360,
    "start_time": "2023-06-02T20:36:54.724Z"
   },
   {
    "duration": 327,
    "start_time": "2023-06-02T20:37:11.300Z"
   },
   {
    "duration": 438,
    "start_time": "2023-06-02T20:37:16.573Z"
   },
   {
    "duration": 426,
    "start_time": "2023-06-02T20:37:22.074Z"
   },
   {
    "duration": 361,
    "start_time": "2023-06-02T20:37:27.479Z"
   },
   {
    "duration": 443,
    "start_time": "2023-06-02T20:37:31.673Z"
   },
   {
    "duration": 385,
    "start_time": "2023-06-02T20:37:35.588Z"
   },
   {
    "duration": 741,
    "start_time": "2023-06-02T20:37:46.744Z"
   },
   {
    "duration": 689,
    "start_time": "2023-06-02T20:43:00.071Z"
   },
   {
    "duration": 725,
    "start_time": "2023-06-02T20:43:10.674Z"
   },
   {
    "duration": 449,
    "start_time": "2023-06-02T20:44:51.655Z"
   },
   {
    "duration": 405,
    "start_time": "2023-06-02T20:50:29.279Z"
   },
   {
    "duration": 772,
    "start_time": "2023-06-02T20:50:36.423Z"
   },
   {
    "duration": 721,
    "start_time": "2023-06-02T20:50:43.276Z"
   },
   {
    "duration": 744,
    "start_time": "2023-06-02T20:50:49.630Z"
   },
   {
    "duration": 789,
    "start_time": "2023-06-02T20:50:55.662Z"
   },
   {
    "duration": 727,
    "start_time": "2023-06-02T20:53:15.806Z"
   },
   {
    "duration": 97,
    "start_time": "2023-06-02T20:53:37.070Z"
   },
   {
    "duration": 392,
    "start_time": "2023-06-02T20:53:41.107Z"
   },
   {
    "duration": 728,
    "start_time": "2023-06-02T20:53:51.190Z"
   },
   {
    "duration": 726,
    "start_time": "2023-06-02T20:53:59.600Z"
   },
   {
    "duration": 13,
    "start_time": "2023-06-02T20:56:51.363Z"
   },
   {
    "duration": 13,
    "start_time": "2023-06-02T20:56:57.681Z"
   },
   {
    "duration": 26,
    "start_time": "2023-06-02T20:58:11.600Z"
   },
   {
    "duration": 8,
    "start_time": "2023-06-02T21:05:09.616Z"
   },
   {
    "duration": 14,
    "start_time": "2023-06-02T21:05:35.436Z"
   },
   {
    "duration": 470,
    "start_time": "2023-06-02T21:06:00.116Z"
   },
   {
    "duration": 349,
    "start_time": "2023-06-02T21:06:17.445Z"
   },
   {
    "duration": 191,
    "start_time": "2023-06-02T21:06:37.575Z"
   },
   {
    "duration": 1769,
    "start_time": "2023-06-02T21:07:23.405Z"
   },
   {
    "duration": 176,
    "start_time": "2023-06-02T21:07:33.995Z"
   },
   {
    "duration": 263,
    "start_time": "2023-06-02T21:07:52.289Z"
   },
   {
    "duration": 219,
    "start_time": "2023-06-02T21:08:16.915Z"
   },
   {
    "duration": 410,
    "start_time": "2023-06-02T21:08:28.935Z"
   },
   {
    "duration": 1811,
    "start_time": "2023-06-02T21:08:43.370Z"
   },
   {
    "duration": 379,
    "start_time": "2023-06-02T21:08:51.214Z"
   },
   {
    "duration": 423,
    "start_time": "2023-06-02T21:09:14.796Z"
   },
   {
    "duration": 541,
    "start_time": "2023-06-02T21:09:21.185Z"
   },
   {
    "duration": 760,
    "start_time": "2023-06-02T21:13:24.195Z"
   },
   {
    "duration": 0,
    "start_time": "2023-06-02T21:14:38.397Z"
   },
   {
    "duration": 644,
    "start_time": "2023-06-02T21:14:43.968Z"
   },
   {
    "duration": 822,
    "start_time": "2023-06-02T21:15:43.240Z"
   },
   {
    "duration": 107,
    "start_time": "2023-06-02T21:15:55.413Z"
   },
   {
    "duration": 115,
    "start_time": "2023-06-02T21:16:27.630Z"
   },
   {
    "duration": 124,
    "start_time": "2023-06-02T21:16:35.076Z"
   },
   {
    "duration": 16,
    "start_time": "2023-06-02T21:16:41.199Z"
   },
   {
    "duration": 752,
    "start_time": "2023-06-02T21:16:47.720Z"
   },
   {
    "duration": 178,
    "start_time": "2023-06-02T21:16:52.924Z"
   },
   {
    "duration": 751,
    "start_time": "2023-06-02T21:16:55.575Z"
   },
   {
    "duration": 744,
    "start_time": "2023-06-02T21:17:55.495Z"
   },
   {
    "duration": 880,
    "start_time": "2023-06-02T21:18:01.530Z"
   },
   {
    "duration": 533,
    "start_time": "2023-06-02T21:18:58.631Z"
   },
   {
    "duration": 815,
    "start_time": "2023-06-02T21:21:07.883Z"
   },
   {
    "duration": 513,
    "start_time": "2023-06-02T21:22:10.381Z"
   },
   {
    "duration": 517,
    "start_time": "2023-06-02T21:22:28.880Z"
   },
   {
    "duration": 616,
    "start_time": "2023-06-02T21:23:27.760Z"
   },
   {
    "duration": 37,
    "start_time": "2023-06-02T21:29:18.086Z"
   },
   {
    "duration": 748,
    "start_time": "2023-06-02T21:30:06.585Z"
   },
   {
    "duration": 784,
    "start_time": "2023-06-02T21:30:16.542Z"
   },
   {
    "duration": 350,
    "start_time": "2023-06-02T21:30:26.671Z"
   },
   {
    "duration": 699,
    "start_time": "2023-06-02T21:31:23.158Z"
   },
   {
    "duration": 625,
    "start_time": "2023-06-02T21:31:43.095Z"
   },
   {
    "duration": 1298,
    "start_time": "2023-06-02T21:32:22.516Z"
   },
   {
    "duration": 310,
    "start_time": "2023-06-02T21:33:13.654Z"
   },
   {
    "duration": 292,
    "start_time": "2023-06-02T21:33:27.294Z"
   },
   {
    "duration": 1317,
    "start_time": "2023-06-02T21:34:29.677Z"
   },
   {
    "duration": 35,
    "start_time": "2023-06-02T21:34:30.996Z"
   },
   {
    "duration": 105,
    "start_time": "2023-06-02T21:34:31.033Z"
   },
   {
    "duration": 78,
    "start_time": "2023-06-02T21:34:31.140Z"
   },
   {
    "duration": 75,
    "start_time": "2023-06-02T21:34:31.221Z"
   },
   {
    "duration": 135,
    "start_time": "2023-06-02T21:34:31.297Z"
   },
   {
    "duration": 389,
    "start_time": "2023-06-02T21:34:31.434Z"
   },
   {
    "duration": 30,
    "start_time": "2023-06-02T21:34:31.825Z"
   },
   {
    "duration": 130,
    "start_time": "2023-06-02T21:34:31.858Z"
   },
   {
    "duration": 703,
    "start_time": "2023-06-02T21:34:31.990Z"
   },
   {
    "duration": 8,
    "start_time": "2023-06-02T21:34:32.695Z"
   },
   {
    "duration": 33,
    "start_time": "2023-06-02T21:34:32.705Z"
   },
   {
    "duration": 104,
    "start_time": "2023-06-02T21:34:32.740Z"
   },
   {
    "duration": 90,
    "start_time": "2023-06-02T21:34:32.851Z"
   },
   {
    "duration": 71,
    "start_time": "2023-06-02T21:34:32.944Z"
   },
   {
    "duration": 23,
    "start_time": "2023-06-02T21:34:33.017Z"
   },
   {
    "duration": 260,
    "start_time": "2023-06-02T21:34:33.042Z"
   },
   {
    "duration": 187,
    "start_time": "2023-06-02T21:34:33.304Z"
   },
   {
    "duration": 8,
    "start_time": "2023-06-02T21:34:33.493Z"
   },
   {
    "duration": 21,
    "start_time": "2023-06-02T21:34:33.502Z"
   },
   {
    "duration": 28,
    "start_time": "2023-06-02T21:34:33.524Z"
   },
   {
    "duration": 60,
    "start_time": "2023-06-02T21:34:33.553Z"
   },
   {
    "duration": 5,
    "start_time": "2023-06-02T21:34:33.615Z"
   },
   {
    "duration": 46,
    "start_time": "2023-06-02T21:34:33.622Z"
   },
   {
    "duration": 133,
    "start_time": "2023-06-02T21:34:33.672Z"
   },
   {
    "duration": 415,
    "start_time": "2023-06-02T21:34:33.807Z"
   },
   {
    "duration": 341,
    "start_time": "2023-06-02T21:34:34.224Z"
   },
   {
    "duration": 331,
    "start_time": "2023-06-02T21:34:34.567Z"
   },
   {
    "duration": 12,
    "start_time": "2023-06-02T21:34:34.900Z"
   },
   {
    "duration": 16,
    "start_time": "2023-06-02T21:34:34.914Z"
   },
   {
    "duration": 52,
    "start_time": "2023-06-02T21:34:34.932Z"
   },
   {
    "duration": 35,
    "start_time": "2023-06-02T21:34:34.986Z"
   },
   {
    "duration": 1348,
    "start_time": "2023-06-02T21:34:35.023Z"
   },
   {
    "duration": 20,
    "start_time": "2023-06-02T21:34:36.381Z"
   },
   {
    "duration": 130,
    "start_time": "2023-06-02T21:57:18.530Z"
   },
   {
    "duration": 103,
    "start_time": "2023-06-02T21:58:33.136Z"
   },
   {
    "duration": 378,
    "start_time": "2023-06-02T21:58:43.735Z"
   },
   {
    "duration": 1447,
    "start_time": "2023-06-02T22:00:04.464Z"
   },
   {
    "duration": 1374,
    "start_time": "2023-06-02T22:00:23.330Z"
   },
   {
    "duration": 1621,
    "start_time": "2023-06-02T22:00:30.920Z"
   },
   {
    "duration": 1413,
    "start_time": "2023-06-02T22:01:01.031Z"
   },
   {
    "duration": 1322,
    "start_time": "2023-06-02T22:01:34.078Z"
   },
   {
    "duration": 1501,
    "start_time": "2023-06-02T22:01:37.611Z"
   },
   {
    "duration": 1240,
    "start_time": "2023-06-02T22:06:11.484Z"
   },
   {
    "duration": 1299,
    "start_time": "2023-06-02T22:06:16.201Z"
   },
   {
    "duration": 31,
    "start_time": "2023-06-02T22:06:51.111Z"
   },
   {
    "duration": 1831,
    "start_time": "2023-06-02T22:07:02.990Z"
   },
   {
    "duration": 1631,
    "start_time": "2023-06-02T22:07:16.681Z"
   },
   {
    "duration": 1275,
    "start_time": "2023-06-02T22:09:54.249Z"
   },
   {
    "duration": 58,
    "start_time": "2023-06-02T22:09:55.526Z"
   },
   {
    "duration": 29,
    "start_time": "2023-06-02T22:09:55.585Z"
   },
   {
    "duration": 15,
    "start_time": "2023-06-02T22:09:55.616Z"
   },
   {
    "duration": 19,
    "start_time": "2023-06-02T22:09:55.633Z"
   },
   {
    "duration": 54,
    "start_time": "2023-06-02T22:09:55.654Z"
   },
   {
    "duration": 304,
    "start_time": "2023-06-02T22:09:55.709Z"
   },
   {
    "duration": 9,
    "start_time": "2023-06-02T22:09:56.015Z"
   },
   {
    "duration": 45,
    "start_time": "2023-06-02T22:09:56.025Z"
   },
   {
    "duration": 602,
    "start_time": "2023-06-02T22:09:56.079Z"
   },
   {
    "duration": 9,
    "start_time": "2023-06-02T22:09:56.685Z"
   },
   {
    "duration": 14,
    "start_time": "2023-06-02T22:09:56.696Z"
   },
   {
    "duration": 5,
    "start_time": "2023-06-02T22:09:56.712Z"
   },
   {
    "duration": 43,
    "start_time": "2023-06-02T22:09:56.720Z"
   },
   {
    "duration": 46,
    "start_time": "2023-06-02T22:09:56.765Z"
   },
   {
    "duration": 7,
    "start_time": "2023-06-02T22:09:56.813Z"
   },
   {
    "duration": 223,
    "start_time": "2023-06-02T22:09:56.821Z"
   },
   {
    "duration": 192,
    "start_time": "2023-06-02T22:09:57.050Z"
   },
   {
    "duration": 17,
    "start_time": "2023-06-02T22:09:57.249Z"
   },
   {
    "duration": 38,
    "start_time": "2023-06-02T22:09:57.267Z"
   },
   {
    "duration": 15,
    "start_time": "2023-06-02T22:09:57.307Z"
   },
   {
    "duration": 18,
    "start_time": "2023-06-02T22:09:57.323Z"
   },
   {
    "duration": 49,
    "start_time": "2023-06-02T22:09:57.344Z"
   },
   {
    "duration": 21,
    "start_time": "2023-06-02T22:09:57.395Z"
   },
   {
    "duration": 118,
    "start_time": "2023-06-02T22:09:57.417Z"
   },
   {
    "duration": 378,
    "start_time": "2023-06-02T22:09:57.536Z"
   },
   {
    "duration": 297,
    "start_time": "2023-06-02T22:09:57.915Z"
   },
   {
    "duration": 292,
    "start_time": "2023-06-02T22:09:58.213Z"
   },
   {
    "duration": 10,
    "start_time": "2023-06-02T22:09:58.507Z"
   },
   {
    "duration": 41,
    "start_time": "2023-06-02T22:09:58.518Z"
   },
   {
    "duration": 33,
    "start_time": "2023-06-02T22:09:58.569Z"
   },
   {
    "duration": 17,
    "start_time": "2023-06-02T22:09:58.604Z"
   },
   {
    "duration": 1370,
    "start_time": "2023-06-02T22:09:58.622Z"
   },
   {
    "duration": 14,
    "start_time": "2023-06-02T22:09:59.993Z"
   },
   {
    "duration": 1218,
    "start_time": "2023-06-03T10:04:23.772Z"
   },
   {
    "duration": 76,
    "start_time": "2023-06-03T10:04:24.992Z"
   },
   {
    "duration": 64,
    "start_time": "2023-06-03T10:04:25.069Z"
   },
   {
    "duration": 51,
    "start_time": "2023-06-03T10:04:25.135Z"
   },
   {
    "duration": 12,
    "start_time": "2023-06-03T10:04:25.189Z"
   },
   {
    "duration": 15,
    "start_time": "2023-06-03T10:04:25.204Z"
   },
   {
    "duration": 223,
    "start_time": "2023-06-03T10:04:25.221Z"
   },
   {
    "duration": 8,
    "start_time": "2023-06-03T10:04:25.445Z"
   },
   {
    "duration": 11,
    "start_time": "2023-06-03T10:04:25.454Z"
   },
   {
    "duration": 416,
    "start_time": "2023-06-03T10:04:25.468Z"
   },
   {
    "duration": 7,
    "start_time": "2023-06-03T10:04:25.885Z"
   },
   {
    "duration": 15,
    "start_time": "2023-06-03T10:04:25.893Z"
   },
   {
    "duration": 7,
    "start_time": "2023-06-03T10:04:25.909Z"
   },
   {
    "duration": 20,
    "start_time": "2023-06-03T10:04:25.917Z"
   },
   {
    "duration": 7,
    "start_time": "2023-06-03T10:04:25.939Z"
   },
   {
    "duration": 4,
    "start_time": "2023-06-03T10:04:25.947Z"
   },
   {
    "duration": 166,
    "start_time": "2023-06-03T10:04:25.952Z"
   },
   {
    "duration": 135,
    "start_time": "2023-06-03T10:04:26.119Z"
   },
   {
    "duration": 7,
    "start_time": "2023-06-03T10:04:26.255Z"
   },
   {
    "duration": 5,
    "start_time": "2023-06-03T10:04:26.263Z"
   },
   {
    "duration": 16,
    "start_time": "2023-06-03T10:04:26.269Z"
   },
   {
    "duration": 14,
    "start_time": "2023-06-03T10:04:26.286Z"
   },
   {
    "duration": 17,
    "start_time": "2023-06-03T10:04:26.301Z"
   },
   {
    "duration": 17,
    "start_time": "2023-06-03T10:04:26.319Z"
   },
   {
    "duration": 104,
    "start_time": "2023-06-03T10:04:26.337Z"
   },
   {
    "duration": 268,
    "start_time": "2023-06-03T10:04:26.443Z"
   },
   {
    "duration": 232,
    "start_time": "2023-06-03T10:04:26.712Z"
   },
   {
    "duration": 206,
    "start_time": "2023-06-03T10:04:26.946Z"
   },
   {
    "duration": 9,
    "start_time": "2023-06-03T10:04:27.153Z"
   },
   {
    "duration": 9,
    "start_time": "2023-06-03T10:04:27.164Z"
   },
   {
    "duration": 9,
    "start_time": "2023-06-03T10:04:27.175Z"
   },
   {
    "duration": 5,
    "start_time": "2023-06-03T10:04:27.186Z"
   },
   {
    "duration": 1148,
    "start_time": "2023-06-03T10:04:27.192Z"
   },
   {
    "duration": 12,
    "start_time": "2023-06-03T10:04:28.342Z"
   },
   {
    "duration": 13,
    "start_time": "2023-06-03T10:08:53.519Z"
   },
   {
    "duration": 9,
    "start_time": "2023-06-03T10:14:04.717Z"
   },
   {
    "duration": 16,
    "start_time": "2023-06-03T10:14:51.827Z"
   },
   {
    "duration": 10,
    "start_time": "2023-06-03T10:14:56.485Z"
   },
   {
    "duration": 111,
    "start_time": "2023-06-03T10:15:25.157Z"
   },
   {
    "duration": 10,
    "start_time": "2023-06-03T10:15:31.377Z"
   },
   {
    "duration": 9,
    "start_time": "2023-06-03T10:16:20.768Z"
   },
   {
    "duration": 12,
    "start_time": "2023-06-03T10:22:32.002Z"
   },
   {
    "duration": 16,
    "start_time": "2023-06-03T10:22:50.245Z"
   },
   {
    "duration": 26,
    "start_time": "2023-06-03T10:23:19.724Z"
   },
   {
    "duration": 19,
    "start_time": "2023-06-03T10:23:50.443Z"
   },
   {
    "duration": 20,
    "start_time": "2023-06-03T10:23:56.250Z"
   },
   {
    "duration": 19,
    "start_time": "2023-06-03T10:24:57.238Z"
   },
   {
    "duration": 21,
    "start_time": "2023-06-03T10:25:02.466Z"
   },
   {
    "duration": 15,
    "start_time": "2023-06-03T10:25:27.627Z"
   },
   {
    "duration": 19,
    "start_time": "2023-06-03T10:25:37.134Z"
   },
   {
    "duration": 18,
    "start_time": "2023-06-03T10:25:43.527Z"
   },
   {
    "duration": 13,
    "start_time": "2023-06-03T10:25:49.946Z"
   },
   {
    "duration": 24,
    "start_time": "2023-06-03T10:27:39.191Z"
   },
   {
    "duration": 8,
    "start_time": "2023-06-03T10:30:07.986Z"
   },
   {
    "duration": 21,
    "start_time": "2023-06-03T10:30:17.717Z"
   },
   {
    "duration": 45,
    "start_time": "2023-06-03T10:31:36.475Z"
   },
   {
    "duration": 16,
    "start_time": "2023-06-03T10:32:38.249Z"
   },
   {
    "duration": 29,
    "start_time": "2023-06-03T10:32:44.037Z"
   },
   {
    "duration": 46,
    "start_time": "2023-06-03T11:58:15.211Z"
   },
   {
    "duration": 1209,
    "start_time": "2023-06-03T11:58:21.640Z"
   },
   {
    "duration": 85,
    "start_time": "2023-06-03T11:58:22.851Z"
   },
   {
    "duration": 63,
    "start_time": "2023-06-03T11:58:22.937Z"
   },
   {
    "duration": 61,
    "start_time": "2023-06-03T11:58:23.002Z"
   },
   {
    "duration": 12,
    "start_time": "2023-06-03T11:58:23.065Z"
   },
   {
    "duration": 11,
    "start_time": "2023-06-03T11:58:23.078Z"
   },
   {
    "duration": 201,
    "start_time": "2023-06-03T11:58:23.090Z"
   },
   {
    "duration": 7,
    "start_time": "2023-06-03T11:58:23.293Z"
   },
   {
    "duration": 13,
    "start_time": "2023-06-03T11:58:23.301Z"
   },
   {
    "duration": 451,
    "start_time": "2023-06-03T11:58:23.315Z"
   },
   {
    "duration": 6,
    "start_time": "2023-06-03T11:58:23.767Z"
   },
   {
    "duration": 7,
    "start_time": "2023-06-03T11:58:23.784Z"
   },
   {
    "duration": 13,
    "start_time": "2023-06-03T11:58:23.792Z"
   },
   {
    "duration": 24,
    "start_time": "2023-06-03T11:58:23.808Z"
   },
   {
    "duration": 13,
    "start_time": "2023-06-03T11:58:23.833Z"
   },
   {
    "duration": 12,
    "start_time": "2023-06-03T11:58:23.848Z"
   },
   {
    "duration": 160,
    "start_time": "2023-06-03T11:58:23.862Z"
   },
   {
    "duration": 130,
    "start_time": "2023-06-03T11:58:24.023Z"
   },
   {
    "duration": 7,
    "start_time": "2023-06-03T11:58:24.155Z"
   },
   {
    "duration": 4,
    "start_time": "2023-06-03T11:58:24.163Z"
   },
   {
    "duration": 5,
    "start_time": "2023-06-03T11:58:24.184Z"
   },
   {
    "duration": 15,
    "start_time": "2023-06-03T11:58:24.190Z"
   },
   {
    "duration": 4,
    "start_time": "2023-06-03T11:58:24.207Z"
   },
   {
    "duration": 23,
    "start_time": "2023-06-03T11:58:24.213Z"
   },
   {
    "duration": 100,
    "start_time": "2023-06-03T11:58:24.238Z"
   },
   {
    "duration": 273,
    "start_time": "2023-06-03T11:58:24.340Z"
   },
   {
    "duration": 205,
    "start_time": "2023-06-03T11:58:24.615Z"
   },
   {
    "duration": 200,
    "start_time": "2023-06-03T11:58:24.821Z"
   },
   {
    "duration": 8,
    "start_time": "2023-06-03T11:58:25.022Z"
   },
   {
    "duration": 8,
    "start_time": "2023-06-03T11:58:25.031Z"
   },
   {
    "duration": 12,
    "start_time": "2023-06-03T11:58:25.040Z"
   },
   {
    "duration": 9,
    "start_time": "2023-06-03T11:58:25.054Z"
   },
   {
    "duration": 1024,
    "start_time": "2023-06-03T11:58:25.064Z"
   },
   {
    "duration": 23,
    "start_time": "2023-06-03T11:58:26.090Z"
   },
   {
    "duration": 47,
    "start_time": "2023-06-03T11:59:34.169Z"
   },
   {
    "duration": 7,
    "start_time": "2023-06-03T11:59:38.731Z"
   },
   {
    "duration": 32,
    "start_time": "2023-06-03T11:59:38.740Z"
   },
   {
    "duration": 25,
    "start_time": "2023-06-03T11:59:38.773Z"
   },
   {
    "duration": 15,
    "start_time": "2023-06-03T11:59:38.799Z"
   },
   {
    "duration": 7,
    "start_time": "2023-06-03T11:59:38.815Z"
   },
   {
    "duration": 12,
    "start_time": "2023-06-03T11:59:38.823Z"
   },
   {
    "duration": 339,
    "start_time": "2023-06-03T11:59:38.836Z"
   },
   {
    "duration": 8,
    "start_time": "2023-06-03T11:59:39.177Z"
   },
   {
    "duration": 10,
    "start_time": "2023-06-03T11:59:39.187Z"
   },
   {
    "duration": 445,
    "start_time": "2023-06-03T11:59:39.199Z"
   },
   {
    "duration": 6,
    "start_time": "2023-06-03T11:59:39.646Z"
   },
   {
    "duration": 10,
    "start_time": "2023-06-03T11:59:39.653Z"
   },
   {
    "duration": 7,
    "start_time": "2023-06-03T11:59:39.664Z"
   },
   {
    "duration": 16,
    "start_time": "2023-06-03T11:59:39.672Z"
   },
   {
    "duration": 6,
    "start_time": "2023-06-03T11:59:39.689Z"
   },
   {
    "duration": 3,
    "start_time": "2023-06-03T11:59:39.696Z"
   },
   {
    "duration": 266,
    "start_time": "2023-06-03T11:59:39.701Z"
   },
   {
    "duration": 164,
    "start_time": "2023-06-03T11:59:39.968Z"
   },
   {
    "duration": 6,
    "start_time": "2023-06-03T11:59:40.133Z"
   },
   {
    "duration": 12,
    "start_time": "2023-06-03T11:59:40.140Z"
   },
   {
    "duration": 7,
    "start_time": "2023-06-03T11:59:40.153Z"
   },
   {
    "duration": 16,
    "start_time": "2023-06-03T11:59:40.161Z"
   },
   {
    "duration": 7,
    "start_time": "2023-06-03T11:59:40.178Z"
   },
   {
    "duration": 18,
    "start_time": "2023-06-03T11:59:40.186Z"
   },
   {
    "duration": 112,
    "start_time": "2023-06-03T11:59:40.205Z"
   },
   {
    "duration": 302,
    "start_time": "2023-06-03T11:59:40.318Z"
   },
   {
    "duration": 243,
    "start_time": "2023-06-03T11:59:40.622Z"
   },
   {
    "duration": 296,
    "start_time": "2023-06-03T11:59:40.866Z"
   },
   {
    "duration": 8,
    "start_time": "2023-06-03T11:59:41.163Z"
   },
   {
    "duration": 18,
    "start_time": "2023-06-03T11:59:41.172Z"
   },
   {
    "duration": 7,
    "start_time": "2023-06-03T11:59:41.192Z"
   },
   {
    "duration": 11,
    "start_time": "2023-06-03T11:59:41.200Z"
   },
   {
    "duration": 980,
    "start_time": "2023-06-03T11:59:41.212Z"
   },
   {
    "duration": 24,
    "start_time": "2023-06-03T11:59:42.194Z"
   },
   {
    "duration": 3,
    "start_time": "2023-06-03T11:59:42.220Z"
   },
   {
    "duration": 64,
    "start_time": "2023-06-03T12:00:09.943Z"
   },
   {
    "duration": 13,
    "start_time": "2023-06-03T12:00:44.090Z"
   },
   {
    "duration": 13,
    "start_time": "2023-06-03T12:00:57.410Z"
   },
   {
    "duration": 15,
    "start_time": "2023-06-03T12:01:01.600Z"
   },
   {
    "duration": 16,
    "start_time": "2023-06-03T12:01:08.399Z"
   },
   {
    "duration": 12,
    "start_time": "2023-06-03T12:17:47.812Z"
   },
   {
    "duration": 3,
    "start_time": "2023-06-03T12:21:40.442Z"
   },
   {
    "duration": 21,
    "start_time": "2023-06-03T12:22:36.664Z"
   },
   {
    "duration": 14,
    "start_time": "2023-06-03T12:22:57.973Z"
   },
   {
    "duration": 7,
    "start_time": "2023-06-03T12:23:08.625Z"
   },
   {
    "duration": 8,
    "start_time": "2023-06-03T12:24:11.213Z"
   },
   {
    "duration": 3,
    "start_time": "2023-06-03T12:24:23.271Z"
   },
   {
    "duration": 15,
    "start_time": "2023-06-03T12:24:27.883Z"
   },
   {
    "duration": 15,
    "start_time": "2023-06-03T12:27:17.094Z"
   },
   {
    "duration": 9,
    "start_time": "2023-06-03T12:28:38.333Z"
   },
   {
    "duration": 3,
    "start_time": "2023-06-03T12:29:32.062Z"
   },
   {
    "duration": 3,
    "start_time": "2023-06-03T12:29:38.580Z"
   },
   {
    "duration": 8,
    "start_time": "2023-06-03T12:29:49.235Z"
   },
   {
    "duration": 28,
    "start_time": "2023-06-03T12:42:29.914Z"
   },
   {
    "duration": 4,
    "start_time": "2023-06-03T12:42:34.762Z"
   },
   {
    "duration": 16,
    "start_time": "2023-06-03T12:42:38.490Z"
   },
   {
    "duration": 8,
    "start_time": "2023-06-03T12:48:17.313Z"
   },
   {
    "duration": 25,
    "start_time": "2023-06-03T12:53:02.883Z"
   },
   {
    "duration": 20,
    "start_time": "2023-06-03T12:53:05.094Z"
   },
   {
    "duration": 40,
    "start_time": "2023-06-03T12:53:57.583Z"
   },
   {
    "duration": 28,
    "start_time": "2023-06-03T12:55:58.141Z"
   },
   {
    "duration": 32,
    "start_time": "2023-06-03T12:56:08.408Z"
   },
   {
    "duration": 37,
    "start_time": "2023-06-03T12:57:43.173Z"
   },
   {
    "duration": 27,
    "start_time": "2023-06-03T12:57:54.823Z"
   },
   {
    "duration": 46,
    "start_time": "2023-06-03T12:58:07.969Z"
   },
   {
    "duration": 31,
    "start_time": "2023-06-03T12:58:22.422Z"
   },
   {
    "duration": 61,
    "start_time": "2023-06-03T12:59:10.852Z"
   },
   {
    "duration": 12,
    "start_time": "2023-06-03T12:59:46.263Z"
   },
   {
    "duration": 2249,
    "start_time": "2023-06-03T13:07:29.319Z"
   },
   {
    "duration": 1767,
    "start_time": "2023-06-03T13:08:13.721Z"
   },
   {
    "duration": 1222,
    "start_time": "2023-06-03T13:09:16.926Z"
   },
   {
    "duration": 1853,
    "start_time": "2023-06-03T13:10:07.260Z"
   },
   {
    "duration": 28,
    "start_time": "2023-06-03T13:11:47.811Z"
   },
   {
    "duration": 36,
    "start_time": "2023-06-03T13:11:55.762Z"
   },
   {
    "duration": 29,
    "start_time": "2023-06-03T13:13:15.942Z"
   },
   {
    "duration": 17,
    "start_time": "2023-06-03T13:14:03.882Z"
   },
   {
    "duration": 11,
    "start_time": "2023-06-03T13:14:16.065Z"
   },
   {
    "duration": 31,
    "start_time": "2023-06-03T13:14:35.033Z"
   },
   {
    "duration": 223,
    "start_time": "2023-06-03T13:16:58.652Z"
   },
   {
    "duration": 22,
    "start_time": "2023-06-03T13:17:02.800Z"
   },
   {
    "duration": 38,
    "start_time": "2023-06-03T13:17:34.330Z"
   },
   {
    "duration": 4,
    "start_time": "2023-06-03T13:17:41.843Z"
   },
   {
    "duration": 263,
    "start_time": "2023-06-03T13:17:43.009Z"
   },
   {
    "duration": 7,
    "start_time": "2023-06-03T13:17:45.028Z"
   },
   {
    "duration": 14,
    "start_time": "2023-06-03T13:17:46.534Z"
   },
   {
    "duration": 1132,
    "start_time": "2023-06-03T13:20:09.182Z"
   },
   {
    "duration": 32,
    "start_time": "2023-06-03T13:20:10.316Z"
   },
   {
    "duration": 81,
    "start_time": "2023-06-03T13:20:10.349Z"
   },
   {
    "duration": 20,
    "start_time": "2023-06-03T13:20:10.433Z"
   },
   {
    "duration": 11,
    "start_time": "2023-06-03T13:20:10.454Z"
   },
   {
    "duration": 11,
    "start_time": "2023-06-03T13:20:10.467Z"
   },
   {
    "duration": 298,
    "start_time": "2023-06-03T13:20:10.480Z"
   },
   {
    "duration": 49,
    "start_time": "2023-06-03T13:20:10.780Z"
   },
   {
    "duration": 23,
    "start_time": "2023-06-03T13:20:10.832Z"
   },
   {
    "duration": 472,
    "start_time": "2023-06-03T13:20:10.858Z"
   },
   {
    "duration": 7,
    "start_time": "2023-06-03T13:20:11.331Z"
   },
   {
    "duration": 16,
    "start_time": "2023-06-03T13:20:11.339Z"
   },
   {
    "duration": 19,
    "start_time": "2023-06-03T13:20:11.357Z"
   },
   {
    "duration": 56,
    "start_time": "2023-06-03T13:20:11.378Z"
   },
   {
    "duration": 25,
    "start_time": "2023-06-03T13:20:11.435Z"
   },
   {
    "duration": 36,
    "start_time": "2023-06-03T13:20:11.461Z"
   },
   {
    "duration": 228,
    "start_time": "2023-06-03T13:20:11.506Z"
   },
   {
    "duration": 187,
    "start_time": "2023-06-03T13:20:11.735Z"
   },
   {
    "duration": 16,
    "start_time": "2023-06-03T13:20:11.923Z"
   },
   {
    "duration": 18,
    "start_time": "2023-06-03T13:20:11.941Z"
   },
   {
    "duration": 15,
    "start_time": "2023-06-03T13:20:11.961Z"
   },
   {
    "duration": 80,
    "start_time": "2023-06-03T13:20:11.978Z"
   },
   {
    "duration": 6,
    "start_time": "2023-06-03T13:20:12.059Z"
   },
   {
    "duration": 67,
    "start_time": "2023-06-03T13:20:12.067Z"
   },
   {
    "duration": 97,
    "start_time": "2023-06-03T13:20:12.136Z"
   },
   {
    "duration": 370,
    "start_time": "2023-06-03T13:20:12.237Z"
   },
   {
    "duration": 243,
    "start_time": "2023-06-03T13:20:12.608Z"
   },
   {
    "duration": 230,
    "start_time": "2023-06-03T13:20:12.853Z"
   },
   {
    "duration": 30,
    "start_time": "2023-06-03T13:20:13.084Z"
   },
   {
    "duration": 22,
    "start_time": "2023-06-03T13:20:13.126Z"
   },
   {
    "duration": 32,
    "start_time": "2023-06-03T13:20:13.149Z"
   },
   {
    "duration": 53,
    "start_time": "2023-06-03T13:20:13.183Z"
   },
   {
    "duration": 1222,
    "start_time": "2023-06-03T13:20:13.238Z"
   },
   {
    "duration": 54,
    "start_time": "2023-06-03T13:20:14.462Z"
   },
   {
    "duration": 16,
    "start_time": "2023-06-03T13:20:14.519Z"
   },
   {
    "duration": 373,
    "start_time": "2023-06-03T13:20:14.537Z"
   },
   {
    "duration": 18,
    "start_time": "2023-06-03T13:20:14.911Z"
   },
   {
    "duration": 1210,
    "start_time": "2023-06-03T13:20:38.153Z"
   },
   {
    "duration": 57,
    "start_time": "2023-06-03T13:20:39.365Z"
   },
   {
    "duration": 30,
    "start_time": "2023-06-03T13:20:39.428Z"
   },
   {
    "duration": 16,
    "start_time": "2023-06-03T13:20:39.460Z"
   },
   {
    "duration": 35,
    "start_time": "2023-06-03T13:20:39.479Z"
   },
   {
    "duration": 42,
    "start_time": "2023-06-03T13:20:39.515Z"
   },
   {
    "duration": 267,
    "start_time": "2023-06-03T13:20:39.559Z"
   },
   {
    "duration": 11,
    "start_time": "2023-06-03T13:20:39.831Z"
   },
   {
    "duration": 15,
    "start_time": "2023-06-03T13:20:39.843Z"
   },
   {
    "duration": 465,
    "start_time": "2023-06-03T13:20:39.859Z"
   },
   {
    "duration": 11,
    "start_time": "2023-06-03T13:20:40.325Z"
   },
   {
    "duration": 8,
    "start_time": "2023-06-03T13:20:40.337Z"
   },
   {
    "duration": 5,
    "start_time": "2023-06-03T13:20:40.346Z"
   },
   {
    "duration": 11,
    "start_time": "2023-06-03T13:20:40.353Z"
   },
   {
    "duration": 49,
    "start_time": "2023-06-03T13:20:40.365Z"
   },
   {
    "duration": 5,
    "start_time": "2023-06-03T13:20:40.430Z"
   },
   {
    "duration": 195,
    "start_time": "2023-06-03T13:20:40.436Z"
   },
   {
    "duration": 142,
    "start_time": "2023-06-03T13:20:40.632Z"
   },
   {
    "duration": 47,
    "start_time": "2023-06-03T13:20:40.775Z"
   },
   {
    "duration": 3,
    "start_time": "2023-06-03T13:20:40.831Z"
   },
   {
    "duration": 10,
    "start_time": "2023-06-03T13:20:40.835Z"
   },
   {
    "duration": 35,
    "start_time": "2023-06-03T13:20:40.846Z"
   },
   {
    "duration": 60,
    "start_time": "2023-06-03T13:20:40.883Z"
   },
   {
    "duration": 21,
    "start_time": "2023-06-03T13:20:40.944Z"
   },
   {
    "duration": 114,
    "start_time": "2023-06-03T13:20:40.967Z"
   },
   {
    "duration": 291,
    "start_time": "2023-06-03T13:20:41.083Z"
   },
   {
    "duration": 259,
    "start_time": "2023-06-03T13:20:41.376Z"
   },
   {
    "duration": 219,
    "start_time": "2023-06-03T13:20:41.637Z"
   },
   {
    "duration": 9,
    "start_time": "2023-06-03T13:20:41.858Z"
   },
   {
    "duration": 26,
    "start_time": "2023-06-03T13:20:41.869Z"
   },
   {
    "duration": 48,
    "start_time": "2023-06-03T13:20:41.896Z"
   },
   {
    "duration": 8,
    "start_time": "2023-06-03T13:20:41.946Z"
   },
   {
    "duration": 1183,
    "start_time": "2023-06-03T13:20:41.955Z"
   },
   {
    "duration": 30,
    "start_time": "2023-06-03T13:20:43.140Z"
   },
   {
    "duration": 4,
    "start_time": "2023-06-03T13:20:43.172Z"
   },
   {
    "duration": 318,
    "start_time": "2023-06-03T13:20:43.192Z"
   },
   {
    "duration": 11,
    "start_time": "2023-06-03T13:20:43.511Z"
   },
   {
    "duration": 27,
    "start_time": "2023-06-03T13:22:55.515Z"
   },
   {
    "duration": 315,
    "start_time": "2023-06-03T13:33:04.431Z"
   },
   {
    "duration": 632,
    "start_time": "2023-06-03T13:33:49.715Z"
   },
   {
    "duration": 742,
    "start_time": "2023-06-03T13:34:06.376Z"
   },
   {
    "duration": 687,
    "start_time": "2023-06-03T13:34:15.327Z"
   },
   {
    "duration": 556,
    "start_time": "2023-06-03T13:35:20.474Z"
   },
   {
    "duration": 538,
    "start_time": "2023-06-03T13:35:25.760Z"
   },
   {
    "duration": 497,
    "start_time": "2023-06-03T13:37:47.523Z"
   },
   {
    "duration": 654,
    "start_time": "2023-06-03T13:37:56.066Z"
   },
   {
    "duration": 1721,
    "start_time": "2023-06-03T13:39:28.856Z"
   },
   {
    "duration": 23,
    "start_time": "2023-06-03T13:40:07.979Z"
   },
   {
    "duration": 1090,
    "start_time": "2023-06-03T13:40:26.678Z"
   },
   {
    "duration": 1151,
    "start_time": "2023-06-03T13:40:40.447Z"
   },
   {
    "duration": 1310,
    "start_time": "2023-06-03T13:41:15.457Z"
   },
   {
    "duration": 81,
    "start_time": "2023-06-03T13:41:16.769Z"
   },
   {
    "duration": 51,
    "start_time": "2023-06-03T13:41:16.859Z"
   },
   {
    "duration": 29,
    "start_time": "2023-06-03T13:41:16.912Z"
   },
   {
    "duration": 76,
    "start_time": "2023-06-03T13:41:16.946Z"
   },
   {
    "duration": 120,
    "start_time": "2023-06-03T13:41:17.023Z"
   },
   {
    "duration": 343,
    "start_time": "2023-06-03T13:41:17.149Z"
   },
   {
    "duration": 8,
    "start_time": "2023-06-03T13:41:17.494Z"
   },
   {
    "duration": 71,
    "start_time": "2023-06-03T13:41:17.503Z"
   },
   {
    "duration": 574,
    "start_time": "2023-06-03T13:41:17.576Z"
   },
   {
    "duration": 7,
    "start_time": "2023-06-03T13:41:18.160Z"
   },
   {
    "duration": 11,
    "start_time": "2023-06-03T13:41:18.168Z"
   },
   {
    "duration": 25,
    "start_time": "2023-06-03T13:41:18.181Z"
   },
   {
    "duration": 54,
    "start_time": "2023-06-03T13:41:18.208Z"
   },
   {
    "duration": 11,
    "start_time": "2023-06-03T13:41:18.263Z"
   },
   {
    "duration": 6,
    "start_time": "2023-06-03T13:41:18.276Z"
   },
   {
    "duration": 283,
    "start_time": "2023-06-03T13:41:18.283Z"
   },
   {
    "duration": 276,
    "start_time": "2023-06-03T13:41:18.571Z"
   },
   {
    "duration": 11,
    "start_time": "2023-06-03T13:41:18.854Z"
   },
   {
    "duration": 8,
    "start_time": "2023-06-03T13:41:18.867Z"
   },
   {
    "duration": 25,
    "start_time": "2023-06-03T13:41:18.877Z"
   },
   {
    "duration": 58,
    "start_time": "2023-06-03T13:41:18.903Z"
   },
   {
    "duration": 6,
    "start_time": "2023-06-03T13:41:18.962Z"
   },
   {
    "duration": 37,
    "start_time": "2023-06-03T13:41:18.970Z"
   },
   {
    "duration": 168,
    "start_time": "2023-06-03T13:41:19.008Z"
   },
   {
    "duration": 372,
    "start_time": "2023-06-03T13:41:19.178Z"
   },
   {
    "duration": 322,
    "start_time": "2023-06-03T13:41:19.554Z"
   },
   {
    "duration": 335,
    "start_time": "2023-06-03T13:41:19.877Z"
   },
   {
    "duration": 10,
    "start_time": "2023-06-03T13:41:20.216Z"
   },
   {
    "duration": 30,
    "start_time": "2023-06-03T13:41:20.232Z"
   },
   {
    "duration": 9,
    "start_time": "2023-06-03T13:41:20.264Z"
   },
   {
    "duration": 6,
    "start_time": "2023-06-03T13:41:20.275Z"
   },
   {
    "duration": 876,
    "start_time": "2023-06-03T13:41:20.282Z"
   },
   {
    "duration": 87,
    "start_time": "2023-06-03T13:41:21.159Z"
   },
   {
    "duration": 4,
    "start_time": "2023-06-03T13:41:21.255Z"
   },
   {
    "duration": 361,
    "start_time": "2023-06-03T13:41:21.260Z"
   },
   {
    "duration": 15,
    "start_time": "2023-06-03T13:41:21.623Z"
   },
   {
    "duration": 39,
    "start_time": "2023-06-03T13:41:21.639Z"
   },
   {
    "duration": 569,
    "start_time": "2023-06-03T13:46:31.613Z"
   },
   {
    "duration": 479,
    "start_time": "2023-06-03T13:46:46.972Z"
   },
   {
    "duration": 430,
    "start_time": "2023-06-03T13:46:58.327Z"
   },
   {
    "duration": 128,
    "start_time": "2023-06-03T13:47:34.022Z"
   },
   {
    "duration": 527,
    "start_time": "2023-06-03T13:47:40.999Z"
   },
   {
    "duration": 182,
    "start_time": "2023-06-03T13:48:00.955Z"
   },
   {
    "duration": 196,
    "start_time": "2023-06-03T13:48:20.232Z"
   },
   {
    "duration": 34,
    "start_time": "2023-06-03T13:50:11.180Z"
   },
   {
    "duration": 169,
    "start_time": "2023-06-03T13:50:19.773Z"
   },
   {
    "duration": 124,
    "start_time": "2023-06-03T13:54:09.777Z"
   },
   {
    "duration": 19,
    "start_time": "2023-06-03T13:55:30.724Z"
   },
   {
    "duration": 46,
    "start_time": "2023-06-03T13:55:47.274Z"
   },
   {
    "duration": 23,
    "start_time": "2023-06-03T13:56:10.699Z"
   },
   {
    "duration": 0,
    "start_time": "2023-06-03T13:57:17.895Z"
   },
   {
    "duration": 10001,
    "start_time": "2023-06-03T13:57:22.468Z"
   },
   {
    "duration": 10,
    "start_time": "2023-06-03T13:57:43.928Z"
   },
   {
    "duration": 8,
    "start_time": "2023-06-03T13:57:52.624Z"
   },
   {
    "duration": 8,
    "start_time": "2023-06-03T13:58:08.864Z"
   },
   {
    "duration": 7,
    "start_time": "2023-06-03T13:58:15.243Z"
   },
   {
    "duration": 11,
    "start_time": "2023-06-03T13:59:03.272Z"
   },
   {
    "duration": 206,
    "start_time": "2023-06-03T13:59:21.923Z"
   },
   {
    "duration": 131,
    "start_time": "2023-06-03T13:59:28.681Z"
   },
   {
    "duration": 7,
    "start_time": "2023-06-03T14:00:39.121Z"
   },
   {
    "duration": 5,
    "start_time": "2023-06-03T14:04:32.026Z"
   },
   {
    "duration": 187,
    "start_time": "2023-06-03T14:10:29.554Z"
   },
   {
    "duration": 12,
    "start_time": "2023-06-03T14:11:27.840Z"
   },
   {
    "duration": 5,
    "start_time": "2023-06-03T14:11:47.076Z"
   },
   {
    "duration": 7,
    "start_time": "2023-06-03T14:12:27.827Z"
   },
   {
    "duration": 20,
    "start_time": "2023-06-03T14:12:32.706Z"
   },
   {
    "duration": 12,
    "start_time": "2023-06-03T14:14:44.333Z"
   },
   {
    "duration": 10,
    "start_time": "2023-06-03T14:14:50.442Z"
   },
   {
    "duration": 94,
    "start_time": "2023-06-03T15:21:38.319Z"
   },
   {
    "duration": 5,
    "start_time": "2023-06-03T15:26:07.116Z"
   },
   {
    "duration": 8,
    "start_time": "2023-06-03T15:27:06.779Z"
   },
   {
    "duration": 8,
    "start_time": "2023-06-03T15:28:37.250Z"
   },
   {
    "duration": 19,
    "start_time": "2023-06-03T15:32:24.582Z"
   },
   {
    "duration": 4,
    "start_time": "2023-06-03T15:32:27.638Z"
   },
   {
    "duration": 6,
    "start_time": "2023-06-03T15:38:54.063Z"
   },
   {
    "duration": 113,
    "start_time": "2023-06-03T15:40:02.748Z"
   },
   {
    "duration": 209,
    "start_time": "2023-06-03T15:40:33.928Z"
   },
   {
    "duration": 224,
    "start_time": "2023-06-03T15:41:03.176Z"
   },
   {
    "duration": 342,
    "start_time": "2023-06-03T15:42:10.362Z"
   },
   {
    "duration": 245,
    "start_time": "2023-06-03T15:42:16.175Z"
   },
   {
    "duration": 202,
    "start_time": "2023-06-03T15:42:34.648Z"
   },
   {
    "duration": 203,
    "start_time": "2023-06-03T15:43:10.042Z"
   },
   {
    "duration": 24,
    "start_time": "2023-06-03T15:55:24.282Z"
   },
   {
    "duration": 5,
    "start_time": "2023-06-03T15:56:15.826Z"
   },
   {
    "duration": 7,
    "start_time": "2023-06-03T15:56:21.752Z"
   },
   {
    "duration": 13,
    "start_time": "2023-06-03T15:57:48.810Z"
   },
   {
    "duration": 6,
    "start_time": "2023-06-03T15:58:37.435Z"
   },
   {
    "duration": 16,
    "start_time": "2023-06-03T15:58:40.438Z"
   },
   {
    "duration": 6,
    "start_time": "2023-06-03T15:58:46.556Z"
   },
   {
    "duration": 6,
    "start_time": "2023-06-03T15:58:52.074Z"
   },
   {
    "duration": 11,
    "start_time": "2023-06-03T15:59:25.719Z"
   },
   {
    "duration": 14,
    "start_time": "2023-06-03T16:06:21.407Z"
   },
   {
    "duration": 11,
    "start_time": "2023-06-03T16:06:27.413Z"
   },
   {
    "duration": 13,
    "start_time": "2023-06-03T16:07:32.905Z"
   },
   {
    "duration": 20,
    "start_time": "2023-06-03T16:07:37.726Z"
   },
   {
    "duration": 8,
    "start_time": "2023-06-03T16:08:06.902Z"
   },
   {
    "duration": 1217,
    "start_time": "2023-06-03T16:09:07.937Z"
   },
   {
    "duration": 8,
    "start_time": "2023-06-03T16:09:10.755Z"
   },
   {
    "duration": 63,
    "start_time": "2023-06-03T18:32:11.130Z"
   },
   {
    "duration": 1384,
    "start_time": "2023-06-03T18:32:19.827Z"
   },
   {
    "duration": 108,
    "start_time": "2023-06-03T18:32:21.213Z"
   },
   {
    "duration": 471,
    "start_time": "2023-06-03T18:32:21.323Z"
   },
   {
    "duration": 59,
    "start_time": "2023-06-03T18:32:21.795Z"
   },
   {
    "duration": 16,
    "start_time": "2023-06-03T18:32:21.857Z"
   },
   {
    "duration": 15,
    "start_time": "2023-06-03T18:32:21.875Z"
   },
   {
    "duration": 288,
    "start_time": "2023-06-03T18:32:21.892Z"
   },
   {
    "duration": 9,
    "start_time": "2023-06-03T18:32:22.183Z"
   },
   {
    "duration": 20,
    "start_time": "2023-06-03T18:32:22.194Z"
   },
   {
    "duration": 573,
    "start_time": "2023-06-03T18:32:22.216Z"
   },
   {
    "duration": 8,
    "start_time": "2023-06-03T18:32:22.792Z"
   },
   {
    "duration": 25,
    "start_time": "2023-06-03T18:32:22.801Z"
   },
   {
    "duration": 9,
    "start_time": "2023-06-03T18:32:22.828Z"
   },
   {
    "duration": 16,
    "start_time": "2023-06-03T18:32:22.842Z"
   },
   {
    "duration": 24,
    "start_time": "2023-06-03T18:32:22.859Z"
   },
   {
    "duration": 8,
    "start_time": "2023-06-03T18:32:22.885Z"
   },
   {
    "duration": 212,
    "start_time": "2023-06-03T18:32:22.895Z"
   },
   {
    "duration": 283,
    "start_time": "2023-06-03T18:32:23.109Z"
   },
   {
    "duration": 8,
    "start_time": "2023-06-03T18:32:23.393Z"
   },
   {
    "duration": 3,
    "start_time": "2023-06-03T18:32:23.403Z"
   },
   {
    "duration": 8,
    "start_time": "2023-06-03T18:32:23.408Z"
   },
   {
    "duration": 49,
    "start_time": "2023-06-03T18:32:23.418Z"
   },
   {
    "duration": 6,
    "start_time": "2023-06-03T18:32:23.468Z"
   },
   {
    "duration": 31,
    "start_time": "2023-06-03T18:32:23.475Z"
   },
   {
    "duration": 119,
    "start_time": "2023-06-03T18:32:23.508Z"
   },
   {
    "duration": 371,
    "start_time": "2023-06-03T18:32:23.628Z"
   },
   {
    "duration": 351,
    "start_time": "2023-06-03T18:32:24.001Z"
   },
   {
    "duration": 377,
    "start_time": "2023-06-03T18:32:24.361Z"
   },
   {
    "duration": 22,
    "start_time": "2023-06-03T18:32:24.740Z"
   },
   {
    "duration": 18,
    "start_time": "2023-06-03T18:32:24.766Z"
   },
   {
    "duration": 12,
    "start_time": "2023-06-03T18:32:24.787Z"
   },
   {
    "duration": 38,
    "start_time": "2023-06-03T18:32:24.800Z"
   },
   {
    "duration": 733,
    "start_time": "2023-06-03T18:32:24.840Z"
   },
   {
    "duration": 49,
    "start_time": "2023-06-03T18:32:25.578Z"
   },
   {
    "duration": 3,
    "start_time": "2023-06-03T18:32:25.629Z"
   },
   {
    "duration": 325,
    "start_time": "2023-06-03T18:32:25.634Z"
   },
   {
    "duration": 22,
    "start_time": "2023-06-03T18:32:25.960Z"
   },
   {
    "duration": 5,
    "start_time": "2023-06-03T18:32:25.984Z"
   },
   {
    "duration": 9,
    "start_time": "2023-06-03T18:32:25.991Z"
   },
   {
    "duration": 8,
    "start_time": "2023-06-03T18:32:26.002Z"
   },
   {
    "duration": 5,
    "start_time": "2023-06-03T18:32:26.013Z"
   },
   {
    "duration": 292,
    "start_time": "2023-06-03T18:32:26.020Z"
   },
   {
    "duration": 14,
    "start_time": "2023-06-03T18:32:26.314Z"
   },
   {
    "duration": 13,
    "start_time": "2023-06-03T18:32:40.275Z"
   },
   {
    "duration": 12,
    "start_time": "2023-06-03T18:32:44.921Z"
   },
   {
    "duration": 18,
    "start_time": "2023-06-03T18:32:55.442Z"
   },
   {
    "duration": 12,
    "start_time": "2023-06-03T18:33:02.803Z"
   },
   {
    "duration": 12,
    "start_time": "2023-06-03T18:33:21.343Z"
   },
   {
    "duration": 9,
    "start_time": "2023-06-03T18:33:32.511Z"
   },
   {
    "duration": 167,
    "start_time": "2023-06-03T18:33:34.980Z"
   },
   {
    "duration": 278,
    "start_time": "2023-06-03T18:33:48.320Z"
   },
   {
    "duration": 185,
    "start_time": "2023-06-03T18:34:10.808Z"
   },
   {
    "duration": 214,
    "start_time": "2023-06-03T18:34:24.227Z"
   },
   {
    "duration": 13,
    "start_time": "2023-06-03T18:35:13.907Z"
   },
   {
    "duration": 18,
    "start_time": "2023-06-03T18:35:24.973Z"
   },
   {
    "duration": 227,
    "start_time": "2023-06-03T18:51:28.317Z"
   },
   {
    "duration": 303,
    "start_time": "2023-06-03T18:51:32.543Z"
   },
   {
    "duration": 537,
    "start_time": "2023-06-03T18:52:28.080Z"
   },
   {
    "duration": 119,
    "start_time": "2023-06-03T19:33:39.391Z"
   },
   {
    "duration": 6,
    "start_time": "2023-06-03T19:33:58.340Z"
   },
   {
    "duration": 644,
    "start_time": "2023-06-03T19:34:12.245Z"
   },
   {
    "duration": 17,
    "start_time": "2023-06-03T19:37:31.368Z"
   },
   {
    "duration": 413,
    "start_time": "2023-06-03T19:37:41.854Z"
   },
   {
    "duration": 385,
    "start_time": "2023-06-03T19:38:18.224Z"
   },
   {
    "duration": 406,
    "start_time": "2023-06-03T19:41:52.837Z"
   },
   {
    "duration": 451,
    "start_time": "2023-06-03T19:42:07.714Z"
   },
   {
    "duration": 44,
    "start_time": "2023-06-03T19:42:30.276Z"
   },
   {
    "duration": 39,
    "start_time": "2023-06-03T19:42:49.411Z"
   },
   {
    "duration": 577,
    "start_time": "2023-06-03T19:42:56.206Z"
   },
   {
    "duration": 438,
    "start_time": "2023-06-03T19:42:59.016Z"
   },
   {
    "duration": 148,
    "start_time": "2023-06-03T19:43:08.783Z"
   },
   {
    "duration": 52,
    "start_time": "2023-06-03T19:43:17.645Z"
   },
   {
    "duration": 586,
    "start_time": "2023-06-03T19:43:28.455Z"
   },
   {
    "duration": 468,
    "start_time": "2023-06-03T19:43:58.903Z"
   },
   {
    "duration": 408,
    "start_time": "2023-06-03T19:45:01.430Z"
   },
   {
    "duration": 347,
    "start_time": "2023-06-03T19:45:07.695Z"
   },
   {
    "duration": 299,
    "start_time": "2023-06-03T19:51:29.839Z"
   },
   {
    "duration": 514,
    "start_time": "2023-06-03T19:51:49.416Z"
   },
   {
    "duration": 438,
    "start_time": "2023-06-03T19:53:14.631Z"
   },
   {
    "duration": 302,
    "start_time": "2023-06-03T19:53:19.202Z"
   },
   {
    "duration": 334,
    "start_time": "2023-06-03T19:53:22.976Z"
   },
   {
    "duration": 14,
    "start_time": "2023-06-03T20:03:02.390Z"
   },
   {
    "duration": 13,
    "start_time": "2023-06-03T20:03:15.679Z"
   },
   {
    "duration": 12,
    "start_time": "2023-06-03T20:03:56.015Z"
   },
   {
    "duration": 5,
    "start_time": "2023-06-03T20:05:20.504Z"
   },
   {
    "duration": 21,
    "start_time": "2023-06-03T20:05:48.284Z"
   },
   {
    "duration": 16,
    "start_time": "2023-06-03T20:06:00.752Z"
   },
   {
    "duration": 5,
    "start_time": "2023-06-03T20:10:48.779Z"
   },
   {
    "duration": 12,
    "start_time": "2023-06-03T20:10:52.486Z"
   },
   {
    "duration": 7,
    "start_time": "2023-06-03T20:11:05.341Z"
   },
   {
    "duration": 12,
    "start_time": "2023-06-03T20:11:13.127Z"
   },
   {
    "duration": 65,
    "start_time": "2023-06-03T20:11:25.272Z"
   },
   {
    "duration": 7,
    "start_time": "2023-06-03T20:11:40.103Z"
   },
   {
    "duration": 6,
    "start_time": "2023-06-03T20:12:22.532Z"
   },
   {
    "duration": 15,
    "start_time": "2023-06-03T20:12:54.871Z"
   },
   {
    "duration": 5,
    "start_time": "2023-06-03T20:13:57.014Z"
   },
   {
    "duration": 6,
    "start_time": "2023-06-03T20:14:16.300Z"
   },
   {
    "duration": 7,
    "start_time": "2023-06-03T20:14:22.536Z"
   },
   {
    "duration": 42,
    "start_time": "2023-06-03T20:15:11.774Z"
   },
   {
    "duration": 151,
    "start_time": "2023-06-03T20:16:05.623Z"
   },
   {
    "duration": 29,
    "start_time": "2023-06-03T20:17:48.299Z"
   },
   {
    "duration": 281,
    "start_time": "2023-06-03T20:18:02.720Z"
   },
   {
    "duration": 372,
    "start_time": "2023-06-03T20:18:19.187Z"
   },
   {
    "duration": 271,
    "start_time": "2023-06-03T20:24:50.975Z"
   },
   {
    "duration": 18,
    "start_time": "2023-06-03T20:25:00.676Z"
   },
   {
    "duration": 421,
    "start_time": "2023-06-03T20:25:06.100Z"
   },
   {
    "duration": 11,
    "start_time": "2023-06-03T20:25:08.035Z"
   },
   {
    "duration": 1445,
    "start_time": "2023-06-03T20:26:01.265Z"
   },
   {
    "duration": 30,
    "start_time": "2023-06-03T20:26:02.713Z"
   },
   {
    "duration": 49,
    "start_time": "2023-06-03T20:26:02.746Z"
   },
   {
    "duration": 15,
    "start_time": "2023-06-03T20:26:02.802Z"
   },
   {
    "duration": 13,
    "start_time": "2023-06-03T20:26:02.819Z"
   },
   {
    "duration": 44,
    "start_time": "2023-06-03T20:26:02.834Z"
   },
   {
    "duration": 286,
    "start_time": "2023-06-03T20:26:02.880Z"
   },
   {
    "duration": 10,
    "start_time": "2023-06-03T20:26:03.167Z"
   },
   {
    "duration": 21,
    "start_time": "2023-06-03T20:26:03.179Z"
   },
   {
    "duration": 585,
    "start_time": "2023-06-03T20:26:03.203Z"
   },
   {
    "duration": 9,
    "start_time": "2023-06-03T20:26:03.790Z"
   },
   {
    "duration": 8,
    "start_time": "2023-06-03T20:26:03.801Z"
   },
   {
    "duration": 8,
    "start_time": "2023-06-03T20:26:03.810Z"
   },
   {
    "duration": 13,
    "start_time": "2023-06-03T20:26:03.820Z"
   },
   {
    "duration": 27,
    "start_time": "2023-06-03T20:26:03.834Z"
   },
   {
    "duration": 16,
    "start_time": "2023-06-03T20:26:03.872Z"
   },
   {
    "duration": 224,
    "start_time": "2023-06-03T20:26:03.890Z"
   },
   {
    "duration": 219,
    "start_time": "2023-06-03T20:26:04.118Z"
   },
   {
    "duration": 28,
    "start_time": "2023-06-03T20:26:04.340Z"
   },
   {
    "duration": 8,
    "start_time": "2023-06-03T20:26:04.371Z"
   },
   {
    "duration": 35,
    "start_time": "2023-06-03T20:26:04.381Z"
   },
   {
    "duration": 22,
    "start_time": "2023-06-03T20:26:04.418Z"
   },
   {
    "duration": 22,
    "start_time": "2023-06-03T20:26:04.442Z"
   },
   {
    "duration": 32,
    "start_time": "2023-06-03T20:26:04.473Z"
   },
   {
    "duration": 157,
    "start_time": "2023-06-03T20:26:04.507Z"
   },
   {
    "duration": 462,
    "start_time": "2023-06-03T20:26:04.666Z"
   },
   {
    "duration": 342,
    "start_time": "2023-06-03T20:26:05.130Z"
   },
   {
    "duration": 284,
    "start_time": "2023-06-03T20:26:05.477Z"
   },
   {
    "duration": 11,
    "start_time": "2023-06-03T20:26:05.763Z"
   },
   {
    "duration": 52,
    "start_time": "2023-06-03T20:26:05.780Z"
   },
   {
    "duration": 8,
    "start_time": "2023-06-03T20:26:05.834Z"
   },
   {
    "duration": 10,
    "start_time": "2023-06-03T20:26:05.844Z"
   },
   {
    "duration": 755,
    "start_time": "2023-06-03T20:26:05.859Z"
   },
   {
    "duration": 72,
    "start_time": "2023-06-03T20:26:06.616Z"
   },
   {
    "duration": 4,
    "start_time": "2023-06-03T20:26:06.690Z"
   },
   {
    "duration": 340,
    "start_time": "2023-06-03T20:26:06.696Z"
   },
   {
    "duration": 30,
    "start_time": "2023-06-03T20:26:07.037Z"
   },
   {
    "duration": 13,
    "start_time": "2023-06-03T20:26:07.072Z"
   },
   {
    "duration": 11,
    "start_time": "2023-06-03T20:26:07.087Z"
   },
   {
    "duration": 8,
    "start_time": "2023-06-03T20:26:07.100Z"
   },
   {
    "duration": 5,
    "start_time": "2023-06-03T20:26:07.110Z"
   },
   {
    "duration": 281,
    "start_time": "2023-06-03T20:26:07.117Z"
   },
   {
    "duration": 12,
    "start_time": "2023-06-03T20:26:07.400Z"
   },
   {
    "duration": 415,
    "start_time": "2023-06-03T20:26:07.414Z"
   },
   {
    "duration": 348,
    "start_time": "2023-06-03T20:26:07.831Z"
   },
   {
    "duration": 135,
    "start_time": "2023-06-03T20:26:08.181Z"
   },
   {
    "duration": 0,
    "start_time": "2023-06-03T20:26:08.318Z"
   },
   {
    "duration": 0,
    "start_time": "2023-06-03T20:26:08.320Z"
   },
   {
    "duration": 0,
    "start_time": "2023-06-03T20:26:08.321Z"
   },
   {
    "duration": 287,
    "start_time": "2023-06-03T20:28:28.421Z"
   },
   {
    "duration": 14,
    "start_time": "2023-06-03T20:28:42.991Z"
   },
   {
    "duration": 14,
    "start_time": "2023-06-03T20:29:03.249Z"
   },
   {
    "duration": 13,
    "start_time": "2023-06-03T20:30:22.368Z"
   },
   {
    "duration": 6,
    "start_time": "2023-06-03T20:30:38.139Z"
   },
   {
    "duration": 6,
    "start_time": "2023-06-03T20:31:04.026Z"
   },
   {
    "duration": 7,
    "start_time": "2023-06-03T20:31:10.183Z"
   },
   {
    "duration": 310,
    "start_time": "2023-06-03T20:31:36.849Z"
   },
   {
    "duration": 140,
    "start_time": "2023-06-03T20:32:03.342Z"
   },
   {
    "duration": 10,
    "start_time": "2023-06-03T20:32:18.706Z"
   },
   {
    "duration": 5,
    "start_time": "2023-06-03T20:32:29.498Z"
   },
   {
    "duration": 7,
    "start_time": "2023-06-03T20:50:48.175Z"
   },
   {
    "duration": 6,
    "start_time": "2023-06-03T20:50:55.271Z"
   },
   {
    "duration": 269,
    "start_time": "2023-06-03T20:52:54.308Z"
   },
   {
    "duration": 9,
    "start_time": "2023-06-03T20:53:08.289Z"
   },
   {
    "duration": 12,
    "start_time": "2023-06-03T20:53:26.631Z"
   },
   {
    "duration": 12,
    "start_time": "2023-06-03T20:54:28.698Z"
   },
   {
    "duration": 4,
    "start_time": "2023-06-03T20:54:39.128Z"
   },
   {
    "duration": 7,
    "start_time": "2023-06-03T20:54:45.273Z"
   },
   {
    "duration": 22,
    "start_time": "2023-06-03T20:56:00.099Z"
   },
   {
    "duration": 23,
    "start_time": "2023-06-03T20:56:04.677Z"
   },
   {
    "duration": 448,
    "start_time": "2023-06-03T20:56:08.118Z"
   },
   {
    "duration": 14,
    "start_time": "2023-06-03T20:56:19.178Z"
   },
   {
    "duration": 6,
    "start_time": "2023-06-03T20:56:25.638Z"
   },
   {
    "duration": 11,
    "start_time": "2023-06-03T20:56:39.518Z"
   },
   {
    "duration": 16,
    "start_time": "2023-06-03T20:57:07.343Z"
   },
   {
    "duration": 3,
    "start_time": "2023-06-03T20:57:23.541Z"
   },
   {
    "duration": 8,
    "start_time": "2023-06-03T20:57:27.371Z"
   },
   {
    "duration": 1860,
    "start_time": "2023-06-03T21:00:48.003Z"
   },
   {
    "duration": 853,
    "start_time": "2023-06-03T21:01:25.077Z"
   },
   {
    "duration": 1772,
    "start_time": "2023-06-03T21:01:36.223Z"
   },
   {
    "duration": 149,
    "start_time": "2023-06-03T21:01:56.288Z"
   },
   {
    "duration": 151,
    "start_time": "2023-06-03T21:02:11.481Z"
   },
   {
    "duration": 136,
    "start_time": "2023-06-03T21:02:30.910Z"
   },
   {
    "duration": 352,
    "start_time": "2023-06-03T21:02:42.045Z"
   },
   {
    "duration": 117,
    "start_time": "2023-06-03T21:02:50.074Z"
   },
   {
    "duration": 3691,
    "start_time": "2023-06-03T21:03:29.936Z"
   },
   {
    "duration": 158,
    "start_time": "2023-06-03T21:03:47.847Z"
   },
   {
    "duration": 128,
    "start_time": "2023-06-03T21:04:07.281Z"
   },
   {
    "duration": 10,
    "start_time": "2023-06-03T21:05:47.073Z"
   },
   {
    "duration": 20,
    "start_time": "2023-06-03T21:05:58.485Z"
   },
   {
    "duration": 6,
    "start_time": "2023-06-03T21:06:03.117Z"
   },
   {
    "duration": 7,
    "start_time": "2023-06-03T21:06:07.671Z"
   },
   {
    "duration": 7,
    "start_time": "2023-06-03T21:06:11.785Z"
   },
   {
    "duration": 143,
    "start_time": "2023-06-03T21:06:29.397Z"
   },
   {
    "duration": 135,
    "start_time": "2023-06-03T21:06:34.697Z"
   },
   {
    "duration": 150,
    "start_time": "2023-06-03T21:06:35.016Z"
   },
   {
    "duration": 135,
    "start_time": "2023-06-03T21:06:49.095Z"
   },
   {
    "duration": 218,
    "start_time": "2023-06-03T21:06:54.019Z"
   },
   {
    "duration": 178,
    "start_time": "2023-06-03T21:07:00.777Z"
   },
   {
    "duration": 176,
    "start_time": "2023-06-03T21:07:01.713Z"
   },
   {
    "duration": 163,
    "start_time": "2023-06-03T21:07:12.524Z"
   },
   {
    "duration": 174,
    "start_time": "2023-06-03T21:07:27.046Z"
   },
   {
    "duration": 11,
    "start_time": "2023-06-03T21:09:16.889Z"
   },
   {
    "duration": 5,
    "start_time": "2023-06-03T21:09:23.918Z"
   },
   {
    "duration": 5,
    "start_time": "2023-06-03T21:09:38.496Z"
   },
   {
    "duration": 6,
    "start_time": "2023-06-03T21:17:04.494Z"
   },
   {
    "duration": 6,
    "start_time": "2023-06-03T21:17:11.841Z"
   },
   {
    "duration": 27,
    "start_time": "2023-06-03T21:19:04.641Z"
   },
   {
    "duration": 21,
    "start_time": "2023-06-03T21:19:06.597Z"
   },
   {
    "duration": 122,
    "start_time": "2023-06-03T21:19:07.574Z"
   },
   {
    "duration": 133,
    "start_time": "2023-06-03T21:19:13.501Z"
   },
   {
    "duration": 164,
    "start_time": "2023-06-03T21:19:17.729Z"
   },
   {
    "duration": 8,
    "start_time": "2023-06-03T21:20:25.177Z"
   },
   {
    "duration": 7,
    "start_time": "2023-06-03T21:20:36.280Z"
   },
   {
    "duration": 12,
    "start_time": "2023-06-03T21:20:47.892Z"
   },
   {
    "duration": 6,
    "start_time": "2023-06-03T21:20:52.279Z"
   },
   {
    "duration": 195,
    "start_time": "2023-06-03T21:21:57.192Z"
   },
   {
    "duration": 177,
    "start_time": "2023-06-03T21:22:02.332Z"
   },
   {
    "duration": 149,
    "start_time": "2023-06-03T21:22:03.192Z"
   },
   {
    "duration": 149,
    "start_time": "2023-06-03T21:22:11.978Z"
   },
   {
    "duration": 167,
    "start_time": "2023-06-03T21:22:19.593Z"
   },
   {
    "duration": 7,
    "start_time": "2023-06-03T21:26:32.498Z"
   },
   {
    "duration": 13,
    "start_time": "2023-06-03T21:31:37.423Z"
   },
   {
    "duration": 4,
    "start_time": "2023-06-03T21:32:18.379Z"
   },
   {
    "duration": 862,
    "start_time": "2023-06-03T21:32:23.535Z"
   },
   {
    "duration": 202,
    "start_time": "2023-06-03T21:35:20.677Z"
   },
   {
    "duration": 133,
    "start_time": "2023-06-03T21:36:56.091Z"
   },
   {
    "duration": 129,
    "start_time": "2023-06-03T21:36:56.584Z"
   },
   {
    "duration": 171,
    "start_time": "2023-06-03T21:36:58.583Z"
   },
   {
    "duration": 175,
    "start_time": "2023-06-03T21:37:01.513Z"
   },
   {
    "duration": 134,
    "start_time": "2023-06-03T21:37:03.049Z"
   },
   {
    "duration": 6,
    "start_time": "2023-06-03T21:37:11.237Z"
   },
   {
    "duration": 6,
    "start_time": "2023-06-03T21:37:18.176Z"
   },
   {
    "duration": 8,
    "start_time": "2023-06-03T21:37:23.257Z"
   },
   {
    "duration": 10,
    "start_time": "2023-06-03T21:37:27.947Z"
   },
   {
    "duration": 8,
    "start_time": "2023-06-03T21:37:32.063Z"
   },
   {
    "duration": 8,
    "start_time": "2023-06-03T21:37:37.890Z"
   },
   {
    "duration": 156,
    "start_time": "2023-06-03T21:37:47.163Z"
   },
   {
    "duration": 149,
    "start_time": "2023-06-03T21:37:47.562Z"
   },
   {
    "duration": 8,
    "start_time": "2023-06-03T21:37:48.208Z"
   },
   {
    "duration": 158,
    "start_time": "2023-06-03T21:37:57.865Z"
   },
   {
    "duration": 147,
    "start_time": "2023-06-03T21:37:58.200Z"
   },
   {
    "duration": 6,
    "start_time": "2023-06-03T21:37:58.508Z"
   },
   {
    "duration": 154,
    "start_time": "2023-06-03T21:38:07.964Z"
   },
   {
    "duration": 149,
    "start_time": "2023-06-03T21:38:08.228Z"
   },
   {
    "duration": 6,
    "start_time": "2023-06-03T21:38:08.579Z"
   },
   {
    "duration": 175,
    "start_time": "2023-06-03T21:38:19.210Z"
   },
   {
    "duration": 141,
    "start_time": "2023-06-03T21:38:19.438Z"
   },
   {
    "duration": 6,
    "start_time": "2023-06-03T21:38:19.595Z"
   },
   {
    "duration": 195,
    "start_time": "2023-06-03T21:38:34.064Z"
   },
   {
    "duration": 147,
    "start_time": "2023-06-03T21:38:34.261Z"
   },
   {
    "duration": 6,
    "start_time": "2023-06-03T21:38:34.411Z"
   },
   {
    "duration": 180,
    "start_time": "2023-06-03T21:38:39.426Z"
   },
   {
    "duration": 169,
    "start_time": "2023-06-03T21:38:39.607Z"
   },
   {
    "duration": 6,
    "start_time": "2023-06-03T21:38:39.778Z"
   },
   {
    "duration": 144,
    "start_time": "2023-06-03T21:38:48.878Z"
   },
   {
    "duration": 172,
    "start_time": "2023-06-03T21:38:51.623Z"
   },
   {
    "duration": 141,
    "start_time": "2023-06-03T21:38:52.932Z"
   },
   {
    "duration": 6,
    "start_time": "2023-06-03T21:38:53.872Z"
   },
   {
    "duration": 154,
    "start_time": "2023-06-03T21:39:50.683Z"
   },
   {
    "duration": 166,
    "start_time": "2023-06-03T21:39:53.846Z"
   },
   {
    "duration": 191,
    "start_time": "2023-06-03T21:39:55.512Z"
   },
   {
    "duration": 137,
    "start_time": "2023-06-03T21:39:55.858Z"
   },
   {
    "duration": 6,
    "start_time": "2023-06-03T21:39:56.869Z"
   },
   {
    "duration": 154,
    "start_time": "2023-06-03T21:40:06.260Z"
   },
   {
    "duration": 150,
    "start_time": "2023-06-03T21:40:07.086Z"
   },
   {
    "duration": 177,
    "start_time": "2023-06-03T21:40:08.143Z"
   },
   {
    "duration": 136,
    "start_time": "2023-06-03T21:40:09.235Z"
   },
   {
    "duration": 6,
    "start_time": "2023-06-03T21:40:10.127Z"
   },
   {
    "duration": 114,
    "start_time": "2023-06-03T21:43:15.133Z"
   },
   {
    "duration": 5,
    "start_time": "2023-06-03T21:43:18.992Z"
   },
   {
    "duration": 5,
    "start_time": "2023-06-03T21:43:27.535Z"
   },
   {
    "duration": 144,
    "start_time": "2023-06-03T21:45:07.176Z"
   },
   {
    "duration": 187,
    "start_time": "2023-06-03T21:45:07.992Z"
   },
   {
    "duration": 149,
    "start_time": "2023-06-03T21:45:08.850Z"
   },
   {
    "duration": 8,
    "start_time": "2023-06-03T21:45:09.079Z"
   },
   {
    "duration": 35220,
    "start_time": "2023-06-03T21:48:00.599Z"
   },
   {
    "duration": 1090,
    "start_time": "2023-06-03T21:48:52.790Z"
   },
   {
    "duration": 242,
    "start_time": "2023-06-03T21:49:08.681Z"
   },
   {
    "duration": 106,
    "start_time": "2023-06-03T21:50:28.705Z"
   },
   {
    "duration": 176,
    "start_time": "2023-06-03T21:50:42.948Z"
   },
   {
    "duration": 168,
    "start_time": "2023-06-03T21:50:53.144Z"
   },
   {
    "duration": 571,
    "start_time": "2023-06-03T21:51:22.444Z"
   },
   {
    "duration": 145,
    "start_time": "2023-06-03T21:51:38.444Z"
   },
   {
    "duration": 163,
    "start_time": "2023-06-03T21:51:48.645Z"
   },
   {
    "duration": 146,
    "start_time": "2023-06-03T21:53:12.565Z"
   },
   {
    "duration": 169,
    "start_time": "2023-06-03T21:53:23.043Z"
   },
   {
    "duration": 162,
    "start_time": "2023-06-03T21:59:24.530Z"
   },
   {
    "duration": 5,
    "start_time": "2023-06-03T21:59:30.514Z"
   },
   {
    "duration": 6,
    "start_time": "2023-06-03T21:59:39.945Z"
   },
   {
    "duration": 8,
    "start_time": "2023-06-03T22:00:17.558Z"
   },
   {
    "duration": 159,
    "start_time": "2023-06-03T22:00:49.307Z"
   },
   {
    "duration": 1141,
    "start_time": "2023-06-03T22:00:56.421Z"
   },
   {
    "duration": 28,
    "start_time": "2023-06-03T22:00:57.564Z"
   },
   {
    "duration": 25,
    "start_time": "2023-06-03T22:00:57.593Z"
   },
   {
    "duration": 14,
    "start_time": "2023-06-03T22:00:57.620Z"
   },
   {
    "duration": 10,
    "start_time": "2023-06-03T22:00:57.636Z"
   },
   {
    "duration": 21,
    "start_time": "2023-06-03T22:00:57.648Z"
   },
   {
    "duration": 226,
    "start_time": "2023-06-03T22:00:57.670Z"
   },
   {
    "duration": 9,
    "start_time": "2023-06-03T22:00:57.897Z"
   },
   {
    "duration": 15,
    "start_time": "2023-06-03T22:00:57.907Z"
   },
   {
    "duration": 489,
    "start_time": "2023-06-03T22:00:57.923Z"
   },
   {
    "duration": 6,
    "start_time": "2023-06-03T22:00:58.414Z"
   },
   {
    "duration": 66,
    "start_time": "2023-06-03T22:00:58.422Z"
   },
   {
    "duration": 34,
    "start_time": "2023-06-03T22:00:58.490Z"
   },
   {
    "duration": 51,
    "start_time": "2023-06-03T22:00:58.527Z"
   },
   {
    "duration": 38,
    "start_time": "2023-06-03T22:00:58.580Z"
   },
   {
    "duration": 37,
    "start_time": "2023-06-03T22:00:58.620Z"
   },
   {
    "duration": 176,
    "start_time": "2023-06-03T22:00:58.659Z"
   },
   {
    "duration": 170,
    "start_time": "2023-06-03T22:00:58.836Z"
   },
   {
    "duration": 9,
    "start_time": "2023-06-03T22:00:59.008Z"
   },
   {
    "duration": 2,
    "start_time": "2023-06-03T22:00:59.018Z"
   },
   {
    "duration": 10,
    "start_time": "2023-06-03T22:00:59.021Z"
   },
   {
    "duration": 40,
    "start_time": "2023-06-03T22:00:59.033Z"
   },
   {
    "duration": 5,
    "start_time": "2023-06-03T22:00:59.074Z"
   },
   {
    "duration": 24,
    "start_time": "2023-06-03T22:00:59.080Z"
   },
   {
    "duration": 113,
    "start_time": "2023-06-03T22:00:59.106Z"
   },
   {
    "duration": 342,
    "start_time": "2023-06-03T22:00:59.221Z"
   },
   {
    "duration": 247,
    "start_time": "2023-06-03T22:00:59.564Z"
   },
   {
    "duration": 270,
    "start_time": "2023-06-03T22:00:59.814Z"
   },
   {
    "duration": 10,
    "start_time": "2023-06-03T22:01:00.086Z"
   },
   {
    "duration": 42,
    "start_time": "2023-06-03T22:01:00.098Z"
   },
   {
    "duration": 36,
    "start_time": "2023-06-03T22:01:00.142Z"
   },
   {
    "duration": 40,
    "start_time": "2023-06-03T22:01:00.180Z"
   },
   {
    "duration": 679,
    "start_time": "2023-06-03T22:01:00.221Z"
   },
   {
    "duration": 38,
    "start_time": "2023-06-03T22:01:00.902Z"
   },
   {
    "duration": 6,
    "start_time": "2023-06-03T22:01:00.958Z"
   },
   {
    "duration": 318,
    "start_time": "2023-06-03T22:01:00.966Z"
   },
   {
    "duration": 12,
    "start_time": "2023-06-03T22:01:01.286Z"
   },
   {
    "duration": 35,
    "start_time": "2023-06-03T22:01:01.301Z"
   },
   {
    "duration": 37,
    "start_time": "2023-06-03T22:01:01.338Z"
   },
   {
    "duration": 21,
    "start_time": "2023-06-03T22:01:01.378Z"
   },
   {
    "duration": 60,
    "start_time": "2023-06-03T22:01:01.404Z"
   },
   {
    "duration": 281,
    "start_time": "2023-06-03T22:01:01.466Z"
   },
   {
    "duration": 16,
    "start_time": "2023-06-03T22:01:01.750Z"
   },
   {
    "duration": 394,
    "start_time": "2023-06-03T22:01:01.768Z"
   },
   {
    "duration": 199,
    "start_time": "2023-06-03T22:01:02.164Z"
   },
   {
    "duration": 158,
    "start_time": "2023-06-03T22:01:02.365Z"
   },
   {
    "duration": 5,
    "start_time": "2023-06-03T22:01:02.525Z"
   },
   {
    "duration": 163,
    "start_time": "2023-06-03T22:01:02.532Z"
   },
   {
    "duration": 5,
    "start_time": "2023-06-03T22:01:02.696Z"
   },
   {
    "duration": 183,
    "start_time": "2023-06-03T22:02:28.000Z"
   },
   {
    "duration": 5,
    "start_time": "2023-06-03T22:02:28.542Z"
   },
   {
    "duration": 5,
    "start_time": "2023-06-03T22:02:39.798Z"
   },
   {
    "duration": 191,
    "start_time": "2023-06-03T22:02:48.568Z"
   },
   {
    "duration": 5,
    "start_time": "2023-06-03T22:03:03.821Z"
   },
   {
    "duration": 4,
    "start_time": "2023-06-03T22:03:35.710Z"
   },
   {
    "duration": 176,
    "start_time": "2023-06-03T22:04:56.053Z"
   },
   {
    "duration": 11,
    "start_time": "2023-06-03T22:05:14.429Z"
   },
   {
    "duration": 205,
    "start_time": "2023-06-03T22:05:20.334Z"
   },
   {
    "duration": 158,
    "start_time": "2023-06-03T22:05:27.748Z"
   },
   {
    "duration": 276,
    "start_time": "2023-06-03T22:05:56.641Z"
   },
   {
    "duration": 175,
    "start_time": "2023-06-03T22:06:06.440Z"
   },
   {
    "duration": 5,
    "start_time": "2023-06-03T22:08:04.496Z"
   },
   {
    "duration": 5,
    "start_time": "2023-06-03T22:08:13.099Z"
   },
   {
    "duration": 112,
    "start_time": "2023-06-03T22:10:20.924Z"
   },
   {
    "duration": 148,
    "start_time": "2023-06-03T22:11:10.517Z"
   },
   {
    "duration": 99,
    "start_time": "2023-06-03T22:11:16.963Z"
   },
   {
    "duration": 109,
    "start_time": "2023-06-03T22:11:22.993Z"
   },
   {
    "duration": 158,
    "start_time": "2023-06-03T22:12:01.431Z"
   },
   {
    "duration": 117,
    "start_time": "2023-06-03T22:15:06.316Z"
   },
   {
    "duration": 1129,
    "start_time": "2023-06-03T22:19:10.065Z"
   },
   {
    "duration": 27,
    "start_time": "2023-06-03T22:19:11.196Z"
   },
   {
    "duration": 25,
    "start_time": "2023-06-03T22:19:11.224Z"
   },
   {
    "duration": 18,
    "start_time": "2023-06-03T22:19:11.255Z"
   },
   {
    "duration": 11,
    "start_time": "2023-06-03T22:19:11.274Z"
   },
   {
    "duration": 11,
    "start_time": "2023-06-03T22:19:11.286Z"
   },
   {
    "duration": 245,
    "start_time": "2023-06-03T22:19:11.299Z"
   },
   {
    "duration": 18,
    "start_time": "2023-06-03T22:19:11.552Z"
   },
   {
    "duration": 11,
    "start_time": "2023-06-03T22:19:11.571Z"
   },
   {
    "duration": 497,
    "start_time": "2023-06-03T22:19:11.584Z"
   },
   {
    "duration": 7,
    "start_time": "2023-06-03T22:19:12.083Z"
   },
   {
    "duration": 7,
    "start_time": "2023-06-03T22:19:12.091Z"
   },
   {
    "duration": 5,
    "start_time": "2023-06-03T22:19:12.099Z"
   },
   {
    "duration": 8,
    "start_time": "2023-06-03T22:19:12.105Z"
   },
   {
    "duration": 7,
    "start_time": "2023-06-03T22:19:12.115Z"
   },
   {
    "duration": 6,
    "start_time": "2023-06-03T22:19:12.153Z"
   },
   {
    "duration": 175,
    "start_time": "2023-06-03T22:19:12.161Z"
   },
   {
    "duration": 169,
    "start_time": "2023-06-03T22:19:12.338Z"
   },
   {
    "duration": 8,
    "start_time": "2023-06-03T22:19:12.508Z"
   },
   {
    "duration": 3,
    "start_time": "2023-06-03T22:19:12.517Z"
   },
   {
    "duration": 6,
    "start_time": "2023-06-03T22:19:12.521Z"
   },
   {
    "duration": 40,
    "start_time": "2023-06-03T22:19:12.529Z"
   },
   {
    "duration": 5,
    "start_time": "2023-06-03T22:19:12.571Z"
   },
   {
    "duration": 18,
    "start_time": "2023-06-03T22:19:12.578Z"
   },
   {
    "duration": 125,
    "start_time": "2023-06-03T22:19:12.597Z"
   },
   {
    "duration": 325,
    "start_time": "2023-06-03T22:19:12.724Z"
   },
   {
    "duration": 263,
    "start_time": "2023-06-03T22:19:13.051Z"
   },
   {
    "duration": 254,
    "start_time": "2023-06-03T22:19:13.317Z"
   },
   {
    "duration": 8,
    "start_time": "2023-06-03T22:19:13.573Z"
   },
   {
    "duration": 8,
    "start_time": "2023-06-03T22:19:13.583Z"
   },
   {
    "duration": 8,
    "start_time": "2023-06-03T22:19:13.592Z"
   },
   {
    "duration": 6,
    "start_time": "2023-06-03T22:19:13.601Z"
   },
   {
    "duration": 710,
    "start_time": "2023-06-03T22:19:13.608Z"
   },
   {
    "duration": 46,
    "start_time": "2023-06-03T22:19:14.320Z"
   },
   {
    "duration": 3,
    "start_time": "2023-06-03T22:19:14.368Z"
   },
   {
    "duration": 308,
    "start_time": "2023-06-03T22:19:14.372Z"
   },
   {
    "duration": 10,
    "start_time": "2023-06-03T22:19:14.681Z"
   },
   {
    "duration": 6,
    "start_time": "2023-06-03T22:19:14.693Z"
   },
   {
    "duration": 9,
    "start_time": "2023-06-03T22:19:14.700Z"
   },
   {
    "duration": 7,
    "start_time": "2023-06-03T22:19:14.710Z"
   },
   {
    "duration": 4,
    "start_time": "2023-06-03T22:19:14.719Z"
   },
   {
    "duration": 241,
    "start_time": "2023-06-03T22:19:14.754Z"
   },
   {
    "duration": 13,
    "start_time": "2023-06-03T22:19:14.996Z"
   },
   {
    "duration": 353,
    "start_time": "2023-06-03T22:19:15.010Z"
   },
   {
    "duration": 157,
    "start_time": "2023-06-03T22:19:15.365Z"
   },
   {
    "duration": 158,
    "start_time": "2023-06-03T22:19:15.524Z"
   },
   {
    "duration": 5,
    "start_time": "2023-06-03T22:19:15.683Z"
   },
   {
    "duration": 187,
    "start_time": "2023-06-03T22:19:15.689Z"
   },
   {
    "duration": 5,
    "start_time": "2023-06-03T22:19:15.878Z"
   },
   {
    "duration": 6,
    "start_time": "2023-06-03T22:20:35.694Z"
   },
   {
    "duration": 92,
    "start_time": "2023-06-03T22:21:46.284Z"
   },
   {
    "duration": 7,
    "start_time": "2023-06-03T22:21:52.759Z"
   },
   {
    "duration": 1109,
    "start_time": "2023-06-03T22:22:00.454Z"
   },
   {
    "duration": 29,
    "start_time": "2023-06-03T22:22:01.565Z"
   },
   {
    "duration": 37,
    "start_time": "2023-06-03T22:22:01.596Z"
   },
   {
    "duration": 41,
    "start_time": "2023-06-03T22:22:01.635Z"
   },
   {
    "duration": 38,
    "start_time": "2023-06-03T22:22:01.678Z"
   },
   {
    "duration": 37,
    "start_time": "2023-06-03T22:22:01.717Z"
   },
   {
    "duration": 265,
    "start_time": "2023-06-03T22:22:01.761Z"
   },
   {
    "duration": 9,
    "start_time": "2023-06-03T22:22:02.028Z"
   },
   {
    "duration": 38,
    "start_time": "2023-06-03T22:22:02.039Z"
   },
   {
    "duration": 522,
    "start_time": "2023-06-03T22:22:02.079Z"
   },
   {
    "duration": 7,
    "start_time": "2023-06-03T22:22:02.603Z"
   },
   {
    "duration": 7,
    "start_time": "2023-06-03T22:22:02.611Z"
   },
   {
    "duration": 4,
    "start_time": "2023-06-03T22:22:02.620Z"
   },
   {
    "duration": 38,
    "start_time": "2023-06-03T22:22:02.625Z"
   },
   {
    "duration": 9,
    "start_time": "2023-06-03T22:22:02.664Z"
   },
   {
    "duration": 5,
    "start_time": "2023-06-03T22:22:02.674Z"
   },
   {
    "duration": 186,
    "start_time": "2023-06-03T22:22:02.680Z"
   },
   {
    "duration": 167,
    "start_time": "2023-06-03T22:22:02.868Z"
   },
   {
    "duration": 18,
    "start_time": "2023-06-03T22:22:03.037Z"
   },
   {
    "duration": 2,
    "start_time": "2023-06-03T22:22:03.061Z"
   },
   {
    "duration": 8,
    "start_time": "2023-06-03T22:22:03.064Z"
   },
   {
    "duration": 16,
    "start_time": "2023-06-03T22:22:03.073Z"
   },
   {
    "duration": 5,
    "start_time": "2023-06-03T22:22:03.091Z"
   },
   {
    "duration": 23,
    "start_time": "2023-06-03T22:22:03.097Z"
   },
   {
    "duration": 114,
    "start_time": "2023-06-03T22:22:03.122Z"
   },
   {
    "duration": 336,
    "start_time": "2023-06-03T22:22:03.238Z"
   },
   {
    "duration": 256,
    "start_time": "2023-06-03T22:22:03.575Z"
   },
   {
    "duration": 274,
    "start_time": "2023-06-03T22:22:03.835Z"
   },
   {
    "duration": 11,
    "start_time": "2023-06-03T22:22:04.111Z"
   },
   {
    "duration": 34,
    "start_time": "2023-06-03T22:22:04.124Z"
   },
   {
    "duration": 12,
    "start_time": "2023-06-03T22:22:04.160Z"
   },
   {
    "duration": 7,
    "start_time": "2023-06-03T22:22:04.174Z"
   },
   {
    "duration": 690,
    "start_time": "2023-06-03T22:22:04.183Z"
   },
   {
    "duration": 35,
    "start_time": "2023-06-03T22:22:04.874Z"
   },
   {
    "duration": 3,
    "start_time": "2023-06-03T22:22:04.911Z"
   },
   {
    "duration": 297,
    "start_time": "2023-06-03T22:22:04.915Z"
   },
   {
    "duration": 11,
    "start_time": "2023-06-03T22:22:05.214Z"
   },
   {
    "duration": 36,
    "start_time": "2023-06-03T22:22:05.226Z"
   },
   {
    "duration": 23,
    "start_time": "2023-06-03T22:22:05.264Z"
   },
   {
    "duration": 7,
    "start_time": "2023-06-03T22:22:05.288Z"
   },
   {
    "duration": 4,
    "start_time": "2023-06-03T22:22:05.297Z"
   },
   {
    "duration": 236,
    "start_time": "2023-06-03T22:22:05.303Z"
   },
   {
    "duration": 28,
    "start_time": "2023-06-03T22:22:05.540Z"
   },
   {
    "duration": 334,
    "start_time": "2023-06-03T22:22:05.570Z"
   },
   {
    "duration": 154,
    "start_time": "2023-06-03T22:22:05.905Z"
   },
   {
    "duration": 126,
    "start_time": "2023-06-03T22:22:06.062Z"
   },
   {
    "duration": 5,
    "start_time": "2023-06-03T22:22:06.189Z"
   },
   {
    "duration": 194,
    "start_time": "2023-06-03T22:22:06.196Z"
   },
   {
    "duration": 5,
    "start_time": "2023-06-03T22:22:06.392Z"
   },
   {
    "duration": 1097,
    "start_time": "2023-06-04T05:49:15.836Z"
   },
   {
    "duration": 31,
    "start_time": "2023-06-04T05:49:16.935Z"
   },
   {
    "duration": 29,
    "start_time": "2023-06-04T05:49:16.968Z"
   },
   {
    "duration": 16,
    "start_time": "2023-06-04T05:49:17.000Z"
   },
   {
    "duration": 15,
    "start_time": "2023-06-04T05:49:17.018Z"
   },
   {
    "duration": 16,
    "start_time": "2023-06-04T05:49:17.035Z"
   },
   {
    "duration": 240,
    "start_time": "2023-06-04T05:49:17.053Z"
   },
   {
    "duration": 9,
    "start_time": "2023-06-04T05:49:17.294Z"
   },
   {
    "duration": 13,
    "start_time": "2023-06-04T05:49:17.305Z"
   },
   {
    "duration": 472,
    "start_time": "2023-06-04T05:49:17.321Z"
   },
   {
    "duration": 7,
    "start_time": "2023-06-04T05:49:17.795Z"
   },
   {
    "duration": 12,
    "start_time": "2023-06-04T05:49:17.803Z"
   },
   {
    "duration": 6,
    "start_time": "2023-06-04T05:49:17.816Z"
   },
   {
    "duration": 9,
    "start_time": "2023-06-04T05:49:17.824Z"
   },
   {
    "duration": 7,
    "start_time": "2023-06-04T05:49:17.834Z"
   },
   {
    "duration": 34,
    "start_time": "2023-06-04T05:49:17.843Z"
   },
   {
    "duration": 174,
    "start_time": "2023-06-04T05:49:17.879Z"
   },
   {
    "duration": 168,
    "start_time": "2023-06-04T05:49:18.055Z"
   },
   {
    "duration": 7,
    "start_time": "2023-06-04T05:49:18.224Z"
   },
   {
    "duration": 4,
    "start_time": "2023-06-04T05:49:18.233Z"
   },
   {
    "duration": 11,
    "start_time": "2023-06-04T05:49:18.239Z"
   },
   {
    "duration": 26,
    "start_time": "2023-06-04T05:49:18.251Z"
   },
   {
    "duration": 5,
    "start_time": "2023-06-04T05:49:18.279Z"
   },
   {
    "duration": 26,
    "start_time": "2023-06-04T05:49:18.285Z"
   },
   {
    "duration": 112,
    "start_time": "2023-06-04T05:49:18.313Z"
   },
   {
    "duration": 295,
    "start_time": "2023-06-04T05:49:18.427Z"
   },
   {
    "duration": 245,
    "start_time": "2023-06-04T05:49:18.724Z"
   },
   {
    "duration": 222,
    "start_time": "2023-06-04T05:49:18.977Z"
   },
   {
    "duration": 9,
    "start_time": "2023-06-04T05:49:19.200Z"
   },
   {
    "duration": 8,
    "start_time": "2023-06-04T05:49:19.210Z"
   },
   {
    "duration": 8,
    "start_time": "2023-06-04T05:49:19.220Z"
   },
   {
    "duration": 6,
    "start_time": "2023-06-04T05:49:19.230Z"
   },
   {
    "duration": 612,
    "start_time": "2023-06-04T05:49:19.238Z"
   },
   {
    "duration": 41,
    "start_time": "2023-06-04T05:49:19.851Z"
   },
   {
    "duration": 2,
    "start_time": "2023-06-04T05:49:19.894Z"
   },
   {
    "duration": 287,
    "start_time": "2023-06-04T05:49:19.898Z"
   },
   {
    "duration": 11,
    "start_time": "2023-06-04T05:49:20.187Z"
   },
   {
    "duration": 14,
    "start_time": "2023-06-04T05:49:20.199Z"
   },
   {
    "duration": 8,
    "start_time": "2023-06-04T05:49:20.215Z"
   },
   {
    "duration": 7,
    "start_time": "2023-06-04T05:49:20.225Z"
   },
   {
    "duration": 5,
    "start_time": "2023-06-04T05:49:20.234Z"
   },
   {
    "duration": 250,
    "start_time": "2023-06-04T05:49:20.241Z"
   },
   {
    "duration": 12,
    "start_time": "2023-06-04T05:49:20.493Z"
   },
   {
    "duration": 318,
    "start_time": "2023-06-04T05:49:20.507Z"
   },
   {
    "duration": 162,
    "start_time": "2023-06-04T05:49:20.827Z"
   },
   {
    "duration": 131,
    "start_time": "2023-06-04T05:49:20.991Z"
   },
   {
    "duration": 5,
    "start_time": "2023-06-04T05:49:21.123Z"
   },
   {
    "duration": 175,
    "start_time": "2023-06-04T05:49:21.130Z"
   },
   {
    "duration": 4,
    "start_time": "2023-06-04T05:49:21.307Z"
   },
   {
    "duration": 6,
    "start_time": "2023-06-04T06:06:30.459Z"
   },
   {
    "duration": 1303,
    "start_time": "2023-06-04T06:14:33.195Z"
   },
   {
    "duration": 30,
    "start_time": "2023-06-04T06:14:34.500Z"
   },
   {
    "duration": 28,
    "start_time": "2023-06-04T06:14:34.532Z"
   },
   {
    "duration": 16,
    "start_time": "2023-06-04T06:14:34.562Z"
   },
   {
    "duration": 13,
    "start_time": "2023-06-04T06:14:34.579Z"
   },
   {
    "duration": 17,
    "start_time": "2023-06-04T06:14:34.593Z"
   },
   {
    "duration": 272,
    "start_time": "2023-06-04T06:14:34.611Z"
   },
   {
    "duration": 10,
    "start_time": "2023-06-04T06:14:34.885Z"
   },
   {
    "duration": 17,
    "start_time": "2023-06-04T06:14:34.897Z"
   },
   {
    "duration": 540,
    "start_time": "2023-06-04T06:14:34.917Z"
   },
   {
    "duration": 17,
    "start_time": "2023-06-04T06:14:35.459Z"
   },
   {
    "duration": 12,
    "start_time": "2023-06-04T06:14:35.479Z"
   },
   {
    "duration": 14,
    "start_time": "2023-06-04T06:14:35.493Z"
   },
   {
    "duration": 11,
    "start_time": "2023-06-04T06:14:35.510Z"
   },
   {
    "duration": 10,
    "start_time": "2023-06-04T06:14:35.522Z"
   },
   {
    "duration": 6,
    "start_time": "2023-06-04T06:14:35.534Z"
   },
   {
    "duration": 246,
    "start_time": "2023-06-04T06:14:35.542Z"
   },
   {
    "duration": 175,
    "start_time": "2023-06-04T06:14:35.790Z"
   },
   {
    "duration": 15,
    "start_time": "2023-06-04T06:14:35.967Z"
   },
   {
    "duration": 7,
    "start_time": "2023-06-04T06:14:35.984Z"
   },
   {
    "duration": 13,
    "start_time": "2023-06-04T06:14:35.993Z"
   },
   {
    "duration": 21,
    "start_time": "2023-06-04T06:14:36.008Z"
   },
   {
    "duration": 10,
    "start_time": "2023-06-04T06:14:36.030Z"
   },
   {
    "duration": 40,
    "start_time": "2023-06-04T06:14:36.042Z"
   },
   {
    "duration": 139,
    "start_time": "2023-06-04T06:14:36.083Z"
   },
   {
    "duration": 429,
    "start_time": "2023-06-04T06:14:36.224Z"
   },
   {
    "duration": 323,
    "start_time": "2023-06-04T06:14:36.655Z"
   },
   {
    "duration": 309,
    "start_time": "2023-06-04T06:14:36.982Z"
   },
   {
    "duration": 13,
    "start_time": "2023-06-04T06:14:37.293Z"
   },
   {
    "duration": 20,
    "start_time": "2023-06-04T06:14:37.309Z"
   },
   {
    "duration": 11,
    "start_time": "2023-06-04T06:14:37.331Z"
   },
   {
    "duration": 33,
    "start_time": "2023-06-04T06:14:37.344Z"
   },
   {
    "duration": 784,
    "start_time": "2023-06-04T06:14:37.379Z"
   },
   {
    "duration": 47,
    "start_time": "2023-06-04T06:14:38.165Z"
   },
   {
    "duration": 4,
    "start_time": "2023-06-04T06:14:38.214Z"
   },
   {
    "duration": 306,
    "start_time": "2023-06-04T06:14:38.219Z"
   },
   {
    "duration": 11,
    "start_time": "2023-06-04T06:14:38.527Z"
   },
   {
    "duration": 11,
    "start_time": "2023-06-04T06:14:38.540Z"
   },
   {
    "duration": 26,
    "start_time": "2023-06-04T06:14:38.553Z"
   },
   {
    "duration": 18,
    "start_time": "2023-06-04T06:14:38.581Z"
   },
   {
    "duration": 12,
    "start_time": "2023-06-04T06:14:38.600Z"
   },
   {
    "duration": 255,
    "start_time": "2023-06-04T06:14:38.614Z"
   },
   {
    "duration": 16,
    "start_time": "2023-06-04T06:14:38.876Z"
   },
   {
    "duration": 380,
    "start_time": "2023-06-04T06:14:38.894Z"
   },
   {
    "duration": 223,
    "start_time": "2023-06-04T06:14:39.277Z"
   },
   {
    "duration": 170,
    "start_time": "2023-06-04T06:14:39.502Z"
   },
   {
    "duration": 5,
    "start_time": "2023-06-04T06:14:39.676Z"
   },
   {
    "duration": 222,
    "start_time": "2023-06-04T06:14:39.683Z"
   },
   {
    "duration": 6,
    "start_time": "2023-06-04T06:14:39.908Z"
   },
   {
    "duration": 47,
    "start_time": "2023-06-04T09:06:08.346Z"
   },
   {
    "duration": 1322,
    "start_time": "2023-06-04T09:06:15.799Z"
   },
   {
    "duration": 89,
    "start_time": "2023-06-04T09:06:17.123Z"
   },
   {
    "duration": 151,
    "start_time": "2023-06-04T09:06:17.215Z"
   },
   {
    "duration": 59,
    "start_time": "2023-06-04T09:06:17.367Z"
   },
   {
    "duration": 14,
    "start_time": "2023-06-04T09:06:17.429Z"
   },
   {
    "duration": 12,
    "start_time": "2023-06-04T09:06:17.444Z"
   },
   {
    "duration": 239,
    "start_time": "2023-06-04T09:06:17.458Z"
   },
   {
    "duration": 9,
    "start_time": "2023-06-04T09:06:17.698Z"
   },
   {
    "duration": 25,
    "start_time": "2023-06-04T09:06:17.709Z"
   },
   {
    "duration": 510,
    "start_time": "2023-06-04T09:06:17.736Z"
   },
   {
    "duration": 8,
    "start_time": "2023-06-04T09:06:18.248Z"
   },
   {
    "duration": 8,
    "start_time": "2023-06-04T09:06:18.258Z"
   },
   {
    "duration": 5,
    "start_time": "2023-06-04T09:06:18.267Z"
   },
   {
    "duration": 17,
    "start_time": "2023-06-04T09:06:18.275Z"
   },
   {
    "duration": 156,
    "start_time": "2023-06-04T09:06:34.575Z"
   },
   {
    "duration": 31,
    "start_time": "2023-06-04T09:06:40.119Z"
   },
   {
    "duration": 26,
    "start_time": "2023-06-04T09:07:24.233Z"
   },
   {
    "duration": 94,
    "start_time": "2023-06-04T09:07:50.699Z"
   },
   {
    "duration": 31,
    "start_time": "2023-06-04T09:08:05.269Z"
   },
   {
    "duration": 2,
    "start_time": "2023-06-04T09:22:33.357Z"
   },
   {
    "duration": 115,
    "start_time": "2023-06-04T09:26:13.149Z"
   },
   {
    "duration": 4,
    "start_time": "2023-06-04T09:26:19.544Z"
   },
   {
    "duration": 30,
    "start_time": "2023-06-04T09:26:19.554Z"
   },
   {
    "duration": 30,
    "start_time": "2023-06-04T09:26:19.586Z"
   },
   {
    "duration": 17,
    "start_time": "2023-06-04T09:26:19.617Z"
   },
   {
    "duration": 11,
    "start_time": "2023-06-04T09:26:19.636Z"
   },
   {
    "duration": 21,
    "start_time": "2023-06-04T09:26:19.649Z"
   },
   {
    "duration": 320,
    "start_time": "2023-06-04T09:26:19.671Z"
   },
   {
    "duration": 7,
    "start_time": "2023-06-04T09:26:19.993Z"
   },
   {
    "duration": 30,
    "start_time": "2023-06-04T09:26:20.002Z"
   },
   {
    "duration": 528,
    "start_time": "2023-06-04T09:26:20.033Z"
   },
   {
    "duration": 7,
    "start_time": "2023-06-04T09:26:20.563Z"
   },
   {
    "duration": 30,
    "start_time": "2023-06-04T09:26:20.572Z"
   },
   {
    "duration": 10,
    "start_time": "2023-06-04T09:26:20.603Z"
   },
   {
    "duration": 27,
    "start_time": "2023-06-04T09:26:20.615Z"
   },
   {
    "duration": 9,
    "start_time": "2023-06-04T09:26:20.645Z"
   },
   {
    "duration": 7,
    "start_time": "2023-06-04T09:26:20.655Z"
   },
   {
    "duration": 5,
    "start_time": "2023-06-04T09:26:20.663Z"
   },
   {
    "duration": 211,
    "start_time": "2023-06-04T09:26:20.669Z"
   },
   {
    "duration": 158,
    "start_time": "2023-06-04T09:26:20.882Z"
   },
   {
    "duration": 6,
    "start_time": "2023-06-04T09:26:21.042Z"
   },
   {
    "duration": 5,
    "start_time": "2023-06-04T09:26:21.050Z"
   },
   {
    "duration": 7,
    "start_time": "2023-06-04T09:26:21.057Z"
   },
   {
    "duration": 15,
    "start_time": "2023-06-04T09:26:21.066Z"
   },
   {
    "duration": 4,
    "start_time": "2023-06-04T09:26:21.082Z"
   },
   {
    "duration": 38,
    "start_time": "2023-06-04T09:26:21.088Z"
   },
   {
    "duration": 112,
    "start_time": "2023-06-04T09:26:21.128Z"
   },
   {
    "duration": 111,
    "start_time": "2023-06-04T09:28:15.240Z"
   },
   {
    "duration": 99,
    "start_time": "2023-06-04T09:28:19.937Z"
   },
   {
    "duration": 100,
    "start_time": "2023-06-04T09:28:38.529Z"
   },
   {
    "duration": 185,
    "start_time": "2023-06-04T09:28:49.097Z"
   },
   {
    "duration": 109,
    "start_time": "2023-06-04T09:28:55.397Z"
   },
   {
    "duration": 95,
    "start_time": "2023-06-04T09:29:07.102Z"
   },
   {
    "duration": 107,
    "start_time": "2023-06-04T09:29:15.999Z"
   },
   {
    "duration": 149,
    "start_time": "2023-06-04T09:29:26.719Z"
   },
   {
    "duration": 121,
    "start_time": "2023-06-04T09:29:38.596Z"
   },
   {
    "duration": 98,
    "start_time": "2023-06-04T09:32:10.984Z"
   },
   {
    "duration": 239,
    "start_time": "2023-06-04T09:34:52.208Z"
   },
   {
    "duration": 273,
    "start_time": "2023-06-04T09:35:13.359Z"
   },
   {
    "duration": 323,
    "start_time": "2023-06-04T09:35:27.469Z"
   },
   {
    "duration": 262,
    "start_time": "2023-06-04T09:36:08.218Z"
   },
   {
    "duration": 246,
    "start_time": "2023-06-04T09:36:18.098Z"
   },
   {
    "duration": 240,
    "start_time": "2023-06-04T09:36:27.029Z"
   },
   {
    "duration": 10,
    "start_time": "2023-06-04T09:37:27.439Z"
   },
   {
    "duration": 10,
    "start_time": "2023-06-04T09:37:33.909Z"
   },
   {
    "duration": 12,
    "start_time": "2023-06-04T09:37:34.233Z"
   },
   {
    "duration": 8,
    "start_time": "2023-06-04T09:37:35.419Z"
   },
   {
    "duration": 6,
    "start_time": "2023-06-04T09:37:35.730Z"
   },
   {
    "duration": 722,
    "start_time": "2023-06-04T09:37:37.390Z"
   },
   {
    "duration": 3,
    "start_time": "2023-06-04T09:39:32.919Z"
   },
   {
    "duration": 4,
    "start_time": "2023-06-04T09:39:46.108Z"
   },
   {
    "duration": 4,
    "start_time": "2023-06-04T09:42:31.538Z"
   },
   {
    "duration": 34,
    "start_time": "2023-06-04T09:42:40.436Z"
   },
   {
    "duration": 3,
    "start_time": "2023-06-04T09:42:57.149Z"
   },
   {
    "duration": 38,
    "start_time": "2023-06-04T09:42:58.234Z"
   },
   {
    "duration": 268,
    "start_time": "2023-06-04T09:44:06.541Z"
   },
   {
    "duration": 11,
    "start_time": "2023-06-04T09:44:25.707Z"
   },
   {
    "duration": 5,
    "start_time": "2023-06-04T09:44:36.539Z"
   },
   {
    "duration": 8,
    "start_time": "2023-06-04T09:44:37.116Z"
   },
   {
    "duration": 8,
    "start_time": "2023-06-04T09:44:37.515Z"
   },
   {
    "duration": 5,
    "start_time": "2023-06-04T09:46:23.446Z"
   },
   {
    "duration": 9,
    "start_time": "2023-06-04T09:46:23.930Z"
   },
   {
    "duration": 8,
    "start_time": "2023-06-04T09:46:24.458Z"
   },
   {
    "duration": 5,
    "start_time": "2023-06-04T09:47:48.571Z"
   },
   {
    "duration": 5,
    "start_time": "2023-06-04T09:47:53.496Z"
   },
   {
    "duration": 6,
    "start_time": "2023-06-04T09:48:10.789Z"
   },
   {
    "duration": 5,
    "start_time": "2023-06-04T09:49:25.478Z"
   },
   {
    "duration": 5,
    "start_time": "2023-06-04T09:49:48.356Z"
   },
   {
    "duration": 6,
    "start_time": "2023-06-04T09:52:33.967Z"
   },
   {
    "duration": 7,
    "start_time": "2023-06-04T09:53:03.908Z"
   },
   {
    "duration": 6,
    "start_time": "2023-06-04T09:54:08.189Z"
   },
   {
    "duration": 322,
    "start_time": "2023-06-04T09:54:45.628Z"
   },
   {
    "duration": 12,
    "start_time": "2023-06-04T09:58:19.096Z"
   },
   {
    "duration": 13,
    "start_time": "2023-06-04T09:58:41.090Z"
   },
   {
    "duration": 351,
    "start_time": "2023-06-04T09:58:44.182Z"
   },
   {
    "duration": 21,
    "start_time": "2023-06-04T09:59:06.028Z"
   },
   {
    "duration": 22,
    "start_time": "2023-06-04T09:59:13.658Z"
   },
   {
    "duration": 12,
    "start_time": "2023-06-04T09:59:20.458Z"
   },
   {
    "duration": 244,
    "start_time": "2023-06-04T09:59:21.528Z"
   },
   {
    "duration": 13,
    "start_time": "2023-06-04T10:00:07.852Z"
   },
   {
    "duration": 326,
    "start_time": "2023-06-04T10:00:08.226Z"
   },
   {
    "duration": 354,
    "start_time": "2023-06-04T10:01:53.199Z"
   },
   {
    "duration": 457,
    "start_time": "2023-06-04T10:02:00.968Z"
   },
   {
    "duration": 12,
    "start_time": "2023-06-04T10:08:26.599Z"
   },
   {
    "duration": 214,
    "start_time": "2023-06-04T10:08:29.770Z"
   },
   {
    "duration": 168,
    "start_time": "2023-06-04T10:08:30.788Z"
   },
   {
    "duration": 162,
    "start_time": "2023-06-04T10:08:55.149Z"
   },
   {
    "duration": 134,
    "start_time": "2023-06-04T10:10:06.078Z"
   },
   {
    "duration": 153,
    "start_time": "2023-06-04T10:10:16.288Z"
   },
   {
    "duration": 100,
    "start_time": "2023-06-04T10:35:07.698Z"
   },
   {
    "duration": 1152,
    "start_time": "2023-06-04T10:37:17.671Z"
   },
   {
    "duration": 30,
    "start_time": "2023-06-04T10:37:18.824Z"
   },
   {
    "duration": 28,
    "start_time": "2023-06-04T10:37:18.856Z"
   },
   {
    "duration": 15,
    "start_time": "2023-06-04T10:37:18.886Z"
   },
   {
    "duration": 22,
    "start_time": "2023-06-04T10:37:18.903Z"
   },
   {
    "duration": 24,
    "start_time": "2023-06-04T10:37:18.926Z"
   },
   {
    "duration": 230,
    "start_time": "2023-06-04T10:37:18.951Z"
   },
   {
    "duration": 9,
    "start_time": "2023-06-04T10:37:19.182Z"
   },
   {
    "duration": 36,
    "start_time": "2023-06-04T10:37:19.192Z"
   },
   {
    "duration": 464,
    "start_time": "2023-06-04T10:37:19.229Z"
   },
   {
    "duration": 9,
    "start_time": "2023-06-04T10:37:19.695Z"
   },
   {
    "duration": 29,
    "start_time": "2023-06-04T10:37:19.706Z"
   },
   {
    "duration": 29,
    "start_time": "2023-06-04T10:37:19.738Z"
   },
   {
    "duration": 131,
    "start_time": "2023-06-04T10:37:19.771Z"
   },
   {
    "duration": 21,
    "start_time": "2023-06-04T10:37:19.905Z"
   },
   {
    "duration": 21,
    "start_time": "2023-06-04T10:37:19.928Z"
   },
   {
    "duration": 18,
    "start_time": "2023-06-04T10:37:19.951Z"
   },
   {
    "duration": 174,
    "start_time": "2023-06-04T10:37:19.970Z"
   },
   {
    "duration": 150,
    "start_time": "2023-06-04T10:37:20.145Z"
   },
   {
    "duration": 7,
    "start_time": "2023-06-04T10:37:20.297Z"
   },
   {
    "duration": 25,
    "start_time": "2023-06-04T10:37:20.306Z"
   },
   {
    "duration": 21,
    "start_time": "2023-06-04T10:37:20.333Z"
   },
   {
    "duration": 31,
    "start_time": "2023-06-04T10:37:20.356Z"
   },
   {
    "duration": 14,
    "start_time": "2023-06-04T10:37:20.389Z"
   },
   {
    "duration": 10,
    "start_time": "2023-06-04T10:37:20.405Z"
   },
   {
    "duration": 115,
    "start_time": "2023-06-04T10:37:20.416Z"
   },
   {
    "duration": 237,
    "start_time": "2023-06-04T10:37:20.533Z"
   },
   {
    "duration": 292,
    "start_time": "2023-06-04T10:37:20.772Z"
   },
   {
    "duration": 246,
    "start_time": "2023-06-04T10:37:21.066Z"
   },
   {
    "duration": 20,
    "start_time": "2023-06-04T10:37:21.313Z"
   },
   {
    "duration": 9,
    "start_time": "2023-06-04T10:37:21.335Z"
   },
   {
    "duration": 16,
    "start_time": "2023-06-04T10:37:21.346Z"
   },
   {
    "duration": 43,
    "start_time": "2023-06-04T10:37:21.363Z"
   },
   {
    "duration": 19,
    "start_time": "2023-06-04T10:37:21.407Z"
   },
   {
    "duration": 734,
    "start_time": "2023-06-04T10:37:21.428Z"
   },
   {
    "duration": 4,
    "start_time": "2023-06-04T10:37:22.164Z"
   },
   {
    "duration": 45,
    "start_time": "2023-06-04T10:37:22.170Z"
   },
   {
    "duration": 187,
    "start_time": "2023-06-04T10:37:22.217Z"
   },
   {
    "duration": 11,
    "start_time": "2023-06-04T10:37:22.405Z"
   },
   {
    "duration": 11,
    "start_time": "2023-06-04T10:37:22.425Z"
   },
   {
    "duration": 16,
    "start_time": "2023-06-04T10:37:22.439Z"
   },
   {
    "duration": 11,
    "start_time": "2023-06-04T10:37:22.456Z"
   },
   {
    "duration": 11,
    "start_time": "2023-06-04T10:37:22.468Z"
   },
   {
    "duration": 249,
    "start_time": "2023-06-04T10:37:22.480Z"
   },
   {
    "duration": 22,
    "start_time": "2023-06-04T10:37:22.730Z"
   },
   {
    "duration": 12,
    "start_time": "2023-06-04T10:37:22.753Z"
   },
   {
    "duration": 361,
    "start_time": "2023-06-04T10:37:22.766Z"
   },
   {
    "duration": 158,
    "start_time": "2023-06-04T10:37:23.129Z"
   },
   {
    "duration": 141,
    "start_time": "2023-06-04T10:37:23.289Z"
   },
   {
    "duration": 5,
    "start_time": "2023-06-04T10:37:23.432Z"
   },
   {
    "duration": 189,
    "start_time": "2023-06-04T10:37:23.438Z"
   },
   {
    "duration": 4,
    "start_time": "2023-06-04T10:37:23.629Z"
   },
   {
    "duration": 1396,
    "start_time": "2023-06-04T15:36:03.565Z"
   },
   {
    "duration": 40,
    "start_time": "2023-06-04T15:36:04.970Z"
   },
   {
    "duration": 71,
    "start_time": "2023-06-04T15:36:05.012Z"
   },
   {
    "duration": 17,
    "start_time": "2023-06-04T15:36:05.086Z"
   },
   {
    "duration": 16,
    "start_time": "2023-06-04T15:36:05.105Z"
   },
   {
    "duration": 54,
    "start_time": "2023-06-04T15:36:05.123Z"
   },
   {
    "duration": 281,
    "start_time": "2023-06-04T15:36:05.182Z"
   },
   {
    "duration": 9,
    "start_time": "2023-06-04T15:36:05.465Z"
   },
   {
    "duration": 14,
    "start_time": "2023-06-04T15:36:05.476Z"
   },
   {
    "duration": 626,
    "start_time": "2023-06-04T15:36:05.492Z"
   },
   {
    "duration": 37,
    "start_time": "2023-06-04T15:36:06.120Z"
   },
   {
    "duration": 31,
    "start_time": "2023-06-04T15:36:06.162Z"
   },
   {
    "duration": 19,
    "start_time": "2023-06-04T15:36:06.195Z"
   },
   {
    "duration": 177,
    "start_time": "2023-06-04T15:36:06.217Z"
   },
   {
    "duration": 10,
    "start_time": "2023-06-04T15:36:06.396Z"
   },
   {
    "duration": 34,
    "start_time": "2023-06-04T15:36:06.407Z"
   },
   {
    "duration": 7,
    "start_time": "2023-06-04T15:36:06.466Z"
   },
   {
    "duration": 314,
    "start_time": "2023-06-04T15:36:06.476Z"
   },
   {
    "duration": 206,
    "start_time": "2023-06-04T15:36:06.792Z"
   },
   {
    "duration": 7,
    "start_time": "2023-06-04T15:36:07.000Z"
   },
   {
    "duration": 28,
    "start_time": "2023-06-04T15:36:07.009Z"
   },
   {
    "duration": 25,
    "start_time": "2023-06-04T15:36:07.046Z"
   },
   {
    "duration": 29,
    "start_time": "2023-06-04T15:36:07.073Z"
   },
   {
    "duration": 5,
    "start_time": "2023-06-04T15:36:07.104Z"
   },
   {
    "duration": 4,
    "start_time": "2023-06-04T15:36:07.111Z"
   },
   {
    "duration": 162,
    "start_time": "2023-06-04T15:36:07.117Z"
   },
   {
    "duration": 371,
    "start_time": "2023-06-04T15:36:07.283Z"
   },
   {
    "duration": 353,
    "start_time": "2023-06-04T15:36:07.656Z"
   },
   {
    "duration": 384,
    "start_time": "2023-06-04T15:36:08.010Z"
   },
   {
    "duration": 11,
    "start_time": "2023-06-04T15:36:08.396Z"
   },
   {
    "duration": 32,
    "start_time": "2023-06-04T15:36:08.409Z"
   },
   {
    "duration": 20,
    "start_time": "2023-06-04T15:36:08.443Z"
   },
   {
    "duration": 29,
    "start_time": "2023-06-04T15:36:08.464Z"
   },
   {
    "duration": 9,
    "start_time": "2023-06-04T15:36:08.495Z"
   },
   {
    "duration": 1167,
    "start_time": "2023-06-04T15:36:08.506Z"
   },
   {
    "duration": 9,
    "start_time": "2023-06-04T15:36:09.675Z"
   },
   {
    "duration": 88,
    "start_time": "2023-06-04T15:36:09.690Z"
   },
   {
    "duration": 303,
    "start_time": "2023-06-04T15:36:09.783Z"
   },
   {
    "duration": 20,
    "start_time": "2023-06-04T15:36:10.090Z"
   },
   {
    "duration": 28,
    "start_time": "2023-06-04T15:36:10.113Z"
   },
   {
    "duration": 36,
    "start_time": "2023-06-04T15:36:10.146Z"
   },
   {
    "duration": 16,
    "start_time": "2023-06-04T15:36:10.184Z"
   },
   {
    "duration": 5,
    "start_time": "2023-06-04T15:36:10.204Z"
   },
   {
    "duration": 474,
    "start_time": "2023-06-04T15:36:10.211Z"
   },
   {
    "duration": 23,
    "start_time": "2023-06-04T15:36:10.691Z"
   },
   {
    "duration": 44,
    "start_time": "2023-06-04T15:36:10.716Z"
   },
   {
    "duration": 483,
    "start_time": "2023-06-04T15:36:10.774Z"
   },
   {
    "duration": 205,
    "start_time": "2023-06-04T15:36:11.266Z"
   },
   {
    "duration": 161,
    "start_time": "2023-06-04T15:36:11.477Z"
   },
   {
    "duration": 7,
    "start_time": "2023-06-04T15:36:11.640Z"
   },
   {
    "duration": 248,
    "start_time": "2023-06-04T15:36:11.648Z"
   },
   {
    "duration": 6,
    "start_time": "2023-06-04T15:36:11.898Z"
   },
   {
    "duration": 1633,
    "start_time": "2023-06-04T15:45:13.848Z"
   },
   {
    "duration": 66,
    "start_time": "2023-06-04T15:45:15.483Z"
   },
   {
    "duration": 50,
    "start_time": "2023-06-04T15:45:15.551Z"
   },
   {
    "duration": 21,
    "start_time": "2023-06-04T15:45:15.607Z"
   },
   {
    "duration": 16,
    "start_time": "2023-06-04T15:45:15.630Z"
   },
   {
    "duration": 21,
    "start_time": "2023-06-04T15:45:15.651Z"
   },
   {
    "duration": 365,
    "start_time": "2023-06-04T15:45:15.677Z"
   },
   {
    "duration": 20,
    "start_time": "2023-06-04T15:45:16.050Z"
   },
   {
    "duration": 18,
    "start_time": "2023-06-04T15:45:16.075Z"
   },
   {
    "duration": 791,
    "start_time": "2023-06-04T15:45:16.102Z"
   },
   {
    "duration": 26,
    "start_time": "2023-06-04T15:45:16.899Z"
   },
   {
    "duration": 14,
    "start_time": "2023-06-04T15:45:16.931Z"
   },
   {
    "duration": 10,
    "start_time": "2023-06-04T15:45:16.951Z"
   },
   {
    "duration": 166,
    "start_time": "2023-06-04T15:45:16.966Z"
   },
   {
    "duration": 24,
    "start_time": "2023-06-04T15:45:17.137Z"
   },
   {
    "duration": 19,
    "start_time": "2023-06-04T15:45:17.166Z"
   },
   {
    "duration": 9,
    "start_time": "2023-06-04T15:45:17.190Z"
   },
   {
    "duration": 382,
    "start_time": "2023-06-04T15:45:17.204Z"
   },
   {
    "duration": 262,
    "start_time": "2023-06-04T15:45:17.587Z"
   },
   {
    "duration": 11,
    "start_time": "2023-06-04T15:45:17.853Z"
   },
   {
    "duration": 31,
    "start_time": "2023-06-04T15:45:17.869Z"
   },
   {
    "duration": 28,
    "start_time": "2023-06-04T15:45:17.905Z"
   },
   {
    "duration": 29,
    "start_time": "2023-06-04T15:45:17.939Z"
   },
   {
    "duration": 28,
    "start_time": "2023-06-04T15:45:17.979Z"
   },
   {
    "duration": 8,
    "start_time": "2023-06-04T15:45:18.008Z"
   },
   {
    "duration": 215,
    "start_time": "2023-06-04T15:45:18.018Z"
   },
   {
    "duration": 366,
    "start_time": "2023-06-04T15:45:18.235Z"
   },
   {
    "duration": 399,
    "start_time": "2023-06-04T15:45:18.605Z"
   },
   {
    "duration": 379,
    "start_time": "2023-06-04T15:45:19.013Z"
   },
   {
    "duration": 20,
    "start_time": "2023-06-04T15:45:19.401Z"
   },
   {
    "duration": 16,
    "start_time": "2023-06-04T15:45:19.426Z"
   },
   {
    "duration": 7,
    "start_time": "2023-06-04T15:45:19.448Z"
   },
   {
    "duration": 12,
    "start_time": "2023-06-04T15:45:19.460Z"
   },
   {
    "duration": 9,
    "start_time": "2023-06-04T15:45:19.478Z"
   },
   {
    "duration": 1139,
    "start_time": "2023-06-04T15:45:19.493Z"
   },
   {
    "duration": 4,
    "start_time": "2023-06-04T15:45:20.635Z"
   },
   {
    "duration": 76,
    "start_time": "2023-06-04T15:45:20.640Z"
   },
   {
    "duration": 337,
    "start_time": "2023-06-04T15:45:20.724Z"
   },
   {
    "duration": 28,
    "start_time": "2023-06-04T15:45:21.073Z"
   },
   {
    "duration": 11,
    "start_time": "2023-06-04T15:45:21.104Z"
   },
   {
    "duration": 30,
    "start_time": "2023-06-04T15:45:21.117Z"
   },
   {
    "duration": 21,
    "start_time": "2023-06-04T15:45:21.153Z"
   },
   {
    "duration": 13,
    "start_time": "2023-06-04T15:45:21.177Z"
   },
   {
    "duration": 444,
    "start_time": "2023-06-04T15:45:21.197Z"
   },
   {
    "duration": 49,
    "start_time": "2023-06-04T15:45:21.644Z"
   },
   {
    "duration": 15,
    "start_time": "2023-06-04T15:45:21.695Z"
   },
   {
    "duration": 669,
    "start_time": "2023-06-04T15:45:21.712Z"
   },
   {
    "duration": 247,
    "start_time": "2023-06-04T15:45:22.385Z"
   },
   {
    "duration": 161,
    "start_time": "2023-06-04T15:45:22.650Z"
   },
   {
    "duration": 11,
    "start_time": "2023-06-04T15:45:22.814Z"
   },
   {
    "duration": 257,
    "start_time": "2023-06-04T15:45:22.831Z"
   },
   {
    "duration": 11,
    "start_time": "2023-06-04T15:45:23.089Z"
   },
   {
    "duration": 44,
    "start_time": "2023-06-04T18:39:31.089Z"
   },
   {
    "duration": 1312,
    "start_time": "2023-06-04T18:39:33.789Z"
   },
   {
    "duration": 103,
    "start_time": "2023-06-04T18:39:35.103Z"
   },
   {
    "duration": 372,
    "start_time": "2023-06-04T18:39:35.208Z"
   },
   {
    "duration": 55,
    "start_time": "2023-06-04T18:39:35.583Z"
   },
   {
    "duration": 11,
    "start_time": "2023-06-04T18:39:35.640Z"
   },
   {
    "duration": 18,
    "start_time": "2023-06-04T18:39:35.653Z"
   },
   {
    "duration": 271,
    "start_time": "2023-06-04T18:39:35.673Z"
   },
   {
    "duration": 9,
    "start_time": "2023-06-04T18:39:35.946Z"
   },
   {
    "duration": 36,
    "start_time": "2023-06-04T18:39:35.956Z"
   },
   {
    "duration": 455,
    "start_time": "2023-06-04T18:39:35.996Z"
   },
   {
    "duration": 7,
    "start_time": "2023-06-04T18:39:36.453Z"
   },
   {
    "duration": 36,
    "start_time": "2023-06-04T18:39:36.462Z"
   },
   {
    "duration": 29,
    "start_time": "2023-06-04T18:39:36.500Z"
   },
   {
    "duration": 126,
    "start_time": "2023-06-04T18:39:36.531Z"
   },
   {
    "duration": 22,
    "start_time": "2023-06-04T18:39:36.658Z"
   },
   {
    "duration": 8,
    "start_time": "2023-06-04T18:39:36.682Z"
   },
   {
    "duration": 13,
    "start_time": "2023-06-04T18:39:36.692Z"
   },
   {
    "duration": 184,
    "start_time": "2023-06-04T18:39:36.707Z"
   },
   {
    "duration": 170,
    "start_time": "2023-06-04T18:39:36.893Z"
   },
   {
    "duration": 14,
    "start_time": "2023-06-04T18:39:37.064Z"
   },
   {
    "duration": 5,
    "start_time": "2023-06-04T18:39:37.080Z"
   },
   {
    "duration": 28,
    "start_time": "2023-06-04T18:39:37.087Z"
   },
   {
    "duration": 20,
    "start_time": "2023-06-04T18:39:37.117Z"
   },
   {
    "duration": 24,
    "start_time": "2023-06-04T18:39:37.138Z"
   },
   {
    "duration": 27,
    "start_time": "2023-06-04T18:39:37.164Z"
   },
   {
    "duration": 26,
    "start_time": "2023-06-04T18:39:55.843Z"
   },
   {
    "duration": 105,
    "start_time": "2023-06-04T18:51:02.275Z"
   },
   {
    "duration": 103,
    "start_time": "2023-06-04T18:51:14.048Z"
   },
   {
    "duration": 96,
    "start_time": "2023-06-04T18:51:23.619Z"
   },
   {
    "duration": 102,
    "start_time": "2023-06-04T18:51:38.833Z"
   },
   {
    "duration": 101,
    "start_time": "2023-06-04T18:51:57.939Z"
   },
   {
    "duration": 130,
    "start_time": "2023-06-04T18:53:01.363Z"
   },
   {
    "duration": 19,
    "start_time": "2023-06-04T18:53:07.911Z"
   },
   {
    "duration": 177,
    "start_time": "2023-06-04T18:54:16.930Z"
   },
   {
    "duration": 150,
    "start_time": "2023-06-04T18:54:27.822Z"
   },
   {
    "duration": 251,
    "start_time": "2023-06-04T18:56:12.844Z"
   },
   {
    "duration": 405,
    "start_time": "2023-06-04T19:01:27.999Z"
   },
   {
    "duration": 81,
    "start_time": "2023-06-04T19:01:34.115Z"
   },
   {
    "duration": 456,
    "start_time": "2023-06-04T19:01:36.910Z"
   },
   {
    "duration": 299,
    "start_time": "2023-06-04T19:01:48.486Z"
   },
   {
    "duration": 12,
    "start_time": "2023-06-04T19:02:24.464Z"
   },
   {
    "duration": 14,
    "start_time": "2023-06-04T19:03:39.621Z"
   },
   {
    "duration": 230,
    "start_time": "2023-06-04T19:03:46.362Z"
   },
   {
    "duration": 13,
    "start_time": "2023-06-04T19:03:54.861Z"
   },
   {
    "duration": 8,
    "start_time": "2023-06-04T19:04:10.225Z"
   },
   {
    "duration": 13,
    "start_time": "2023-06-04T19:04:14.918Z"
   },
   {
    "duration": 11,
    "start_time": "2023-06-04T19:04:26.812Z"
   },
   {
    "duration": 164,
    "start_time": "2023-06-04T19:04:49.069Z"
   },
   {
    "duration": 156,
    "start_time": "2023-06-04T19:05:05.174Z"
   },
   {
    "duration": 129,
    "start_time": "2023-06-04T19:05:59.616Z"
   },
   {
    "duration": 209,
    "start_time": "2023-06-04T19:06:06.123Z"
   },
   {
    "duration": 167,
    "start_time": "2023-06-04T19:16:38.823Z"
   },
   {
    "duration": 27,
    "start_time": "2023-06-04T19:19:18.102Z"
   },
   {
    "duration": 173,
    "start_time": "2023-06-04T19:19:29.169Z"
   },
   {
    "duration": 165,
    "start_time": "2023-06-04T19:22:22.139Z"
   },
   {
    "duration": 102,
    "start_time": "2023-06-04T19:22:32.947Z"
   },
   {
    "duration": 151,
    "start_time": "2023-06-04T19:22:37.062Z"
   },
   {
    "duration": 183,
    "start_time": "2023-06-04T19:22:50.150Z"
   },
   {
    "duration": 153,
    "start_time": "2023-06-04T19:22:54.138Z"
   },
   {
    "duration": 126,
    "start_time": "2023-06-04T19:25:23.874Z"
   },
   {
    "duration": 144,
    "start_time": "2023-06-04T19:25:27.718Z"
   },
   {
    "duration": 115,
    "start_time": "2023-06-04T19:26:01.145Z"
   },
   {
    "duration": 154,
    "start_time": "2023-06-04T19:26:14.353Z"
   },
   {
    "duration": 12,
    "start_time": "2023-06-04T19:26:18.843Z"
   },
   {
    "duration": 1702,
    "start_time": "2023-06-04T19:26:58.272Z"
   },
   {
    "duration": 1631,
    "start_time": "2023-06-04T19:27:13.692Z"
   },
   {
    "duration": 140,
    "start_time": "2023-06-04T19:27:32.255Z"
   },
   {
    "duration": 22,
    "start_time": "2023-06-04T19:27:55.786Z"
   },
   {
    "duration": 1743,
    "start_time": "2023-06-04T19:27:59.452Z"
   },
   {
    "duration": 143,
    "start_time": "2023-06-04T19:28:07.104Z"
   },
   {
    "duration": 153,
    "start_time": "2023-06-04T19:28:46.755Z"
   },
   {
    "duration": 156,
    "start_time": "2023-06-04T19:29:47.147Z"
   },
   {
    "duration": 261,
    "start_time": "2023-06-04T19:30:03.447Z"
   },
   {
    "duration": 130,
    "start_time": "2023-06-04T19:30:14.853Z"
   },
   {
    "duration": 3,
    "start_time": "2023-06-04T19:32:44.556Z"
   },
   {
    "duration": 15,
    "start_time": "2023-06-04T19:33:19.313Z"
   },
   {
    "duration": 14,
    "start_time": "2023-06-04T19:38:48.178Z"
   },
   {
    "duration": 143,
    "start_time": "2023-06-04T19:38:51.173Z"
   },
   {
    "duration": 126,
    "start_time": "2023-06-04T19:39:44.422Z"
   },
   {
    "duration": 138,
    "start_time": "2023-06-04T19:42:19.911Z"
   },
   {
    "duration": 124,
    "start_time": "2023-06-04T19:42:28.287Z"
   },
   {
    "duration": 1211,
    "start_time": "2023-06-04T20:06:54.768Z"
   },
   {
    "duration": 28,
    "start_time": "2023-06-04T20:06:55.981Z"
   },
   {
    "duration": 33,
    "start_time": "2023-06-04T20:06:56.011Z"
   },
   {
    "duration": 15,
    "start_time": "2023-06-04T20:06:56.046Z"
   },
   {
    "duration": 11,
    "start_time": "2023-06-04T20:06:56.063Z"
   },
   {
    "duration": 11,
    "start_time": "2023-06-04T20:06:56.076Z"
   },
   {
    "duration": 241,
    "start_time": "2023-06-04T20:06:56.088Z"
   },
   {
    "duration": 10,
    "start_time": "2023-06-04T20:06:56.330Z"
   },
   {
    "duration": 12,
    "start_time": "2023-06-04T20:06:56.341Z"
   },
   {
    "duration": 516,
    "start_time": "2023-06-04T20:06:56.356Z"
   },
   {
    "duration": 8,
    "start_time": "2023-06-04T20:06:56.874Z"
   },
   {
    "duration": 9,
    "start_time": "2023-06-04T20:06:56.885Z"
   },
   {
    "duration": 6,
    "start_time": "2023-06-04T20:06:56.896Z"
   },
   {
    "duration": 130,
    "start_time": "2023-06-04T20:06:56.904Z"
   },
   {
    "duration": 9,
    "start_time": "2023-06-04T20:06:57.036Z"
   },
   {
    "duration": 8,
    "start_time": "2023-06-04T20:06:57.047Z"
   },
   {
    "duration": 23,
    "start_time": "2023-06-04T20:06:57.057Z"
   },
   {
    "duration": 185,
    "start_time": "2023-06-04T20:06:57.082Z"
   },
   {
    "duration": 202,
    "start_time": "2023-06-04T20:06:57.269Z"
   },
   {
    "duration": 11,
    "start_time": "2023-06-04T20:06:57.473Z"
   },
   {
    "duration": 6,
    "start_time": "2023-06-04T20:06:57.485Z"
   },
   {
    "duration": 9,
    "start_time": "2023-06-04T20:06:57.492Z"
   },
   {
    "duration": 16,
    "start_time": "2023-06-04T20:06:57.503Z"
   },
   {
    "duration": 192,
    "start_time": "2023-06-04T20:06:57.522Z"
   },
   {
    "duration": 5,
    "start_time": "2023-06-04T20:06:57.715Z"
   },
   {
    "duration": 158,
    "start_time": "2023-06-04T20:06:57.722Z"
   },
   {
    "duration": 121,
    "start_time": "2023-06-04T20:06:57.883Z"
   },
   {
    "duration": 230,
    "start_time": "2023-06-04T20:06:58.007Z"
   },
   {
    "duration": 250,
    "start_time": "2023-06-04T20:06:58.239Z"
   },
   {
    "duration": 322,
    "start_time": "2023-06-04T20:06:58.491Z"
   },
   {
    "duration": 9,
    "start_time": "2023-06-04T20:06:58.814Z"
   },
   {
    "duration": 10,
    "start_time": "2023-06-04T20:06:58.824Z"
   },
   {
    "duration": 3,
    "start_time": "2023-06-04T20:06:58.836Z"
   },
   {
    "duration": 18,
    "start_time": "2023-06-04T20:06:58.840Z"
   },
   {
    "duration": 21,
    "start_time": "2023-06-04T20:06:58.860Z"
   },
   {
    "duration": 627,
    "start_time": "2023-06-04T20:06:58.883Z"
   },
   {
    "duration": 4,
    "start_time": "2023-06-04T20:06:59.512Z"
   },
   {
    "duration": 94,
    "start_time": "2023-06-04T20:06:59.519Z"
   },
   {
    "duration": 196,
    "start_time": "2023-06-04T20:06:59.615Z"
   },
   {
    "duration": 12,
    "start_time": "2023-06-04T20:06:59.813Z"
   },
   {
    "duration": 8,
    "start_time": "2023-06-04T20:06:59.827Z"
   },
   {
    "duration": 10,
    "start_time": "2023-06-04T20:06:59.837Z"
   },
   {
    "duration": 31,
    "start_time": "2023-06-04T20:06:59.849Z"
   },
   {
    "duration": 6,
    "start_time": "2023-06-04T20:06:59.882Z"
   },
   {
    "duration": 288,
    "start_time": "2023-06-04T20:06:59.890Z"
   },
   {
    "duration": 26,
    "start_time": "2023-06-04T20:07:00.181Z"
   },
   {
    "duration": 14,
    "start_time": "2023-06-04T20:07:00.209Z"
   },
   {
    "duration": 379,
    "start_time": "2023-06-04T20:07:00.226Z"
   },
   {
    "duration": 183,
    "start_time": "2023-06-04T20:07:00.607Z"
   },
   {
    "duration": 134,
    "start_time": "2023-06-04T20:07:00.792Z"
   },
   {
    "duration": 5,
    "start_time": "2023-06-04T20:07:00.928Z"
   },
   {
    "duration": 286,
    "start_time": "2023-06-04T20:07:00.935Z"
   },
   {
    "duration": 6,
    "start_time": "2023-06-04T20:07:01.223Z"
   },
   {
    "duration": 1084,
    "start_time": "2023-06-05T13:53:00.091Z"
   },
   {
    "duration": 28,
    "start_time": "2023-06-05T13:53:01.177Z"
   },
   {
    "duration": 44,
    "start_time": "2023-06-05T13:53:01.207Z"
   },
   {
    "duration": 25,
    "start_time": "2023-06-05T13:53:01.253Z"
   },
   {
    "duration": 60,
    "start_time": "2023-06-05T13:53:01.280Z"
   },
   {
    "duration": 52,
    "start_time": "2023-06-05T13:53:01.342Z"
   },
   {
    "duration": 284,
    "start_time": "2023-06-05T13:53:01.396Z"
   },
   {
    "duration": 10,
    "start_time": "2023-06-05T13:53:01.681Z"
   },
   {
    "duration": 50,
    "start_time": "2023-06-05T13:53:01.693Z"
   },
   {
    "duration": 513,
    "start_time": "2023-06-05T13:53:01.746Z"
   },
   {
    "duration": 6,
    "start_time": "2023-06-05T13:53:02.260Z"
   },
   {
    "duration": 37,
    "start_time": "2023-06-05T13:53:02.268Z"
   },
   {
    "duration": 22,
    "start_time": "2023-06-05T13:53:02.306Z"
   },
   {
    "duration": 98,
    "start_time": "2023-06-05T13:53:02.329Z"
   },
   {
    "duration": 9,
    "start_time": "2023-06-05T13:53:02.428Z"
   },
   {
    "duration": 9,
    "start_time": "2023-06-05T13:53:02.439Z"
   },
   {
    "duration": 7,
    "start_time": "2023-06-05T13:53:02.450Z"
   },
   {
    "duration": 183,
    "start_time": "2023-06-05T13:53:02.458Z"
   },
   {
    "duration": 138,
    "start_time": "2023-06-05T13:53:02.643Z"
   },
   {
    "duration": 7,
    "start_time": "2023-06-05T13:53:02.784Z"
   },
   {
    "duration": 17,
    "start_time": "2023-06-05T13:53:02.792Z"
   },
   {
    "duration": 19,
    "start_time": "2023-06-05T13:53:02.811Z"
   },
   {
    "duration": 24,
    "start_time": "2023-06-05T13:53:02.831Z"
   },
   {
    "duration": 164,
    "start_time": "2023-06-05T13:53:02.857Z"
   },
   {
    "duration": 5,
    "start_time": "2023-06-05T13:53:03.023Z"
   },
   {
    "duration": 132,
    "start_time": "2023-06-05T13:53:03.029Z"
   },
   {
    "duration": 95,
    "start_time": "2023-06-05T13:53:03.162Z"
   },
   {
    "duration": 224,
    "start_time": "2023-06-05T13:53:03.260Z"
   },
   {
    "duration": 221,
    "start_time": "2023-06-05T13:53:03.486Z"
   },
   {
    "duration": 277,
    "start_time": "2023-06-05T13:53:03.709Z"
   },
   {
    "duration": 9,
    "start_time": "2023-06-05T13:53:03.987Z"
   },
   {
    "duration": 14,
    "start_time": "2023-06-05T13:53:03.997Z"
   },
   {
    "duration": 10,
    "start_time": "2023-06-05T13:53:04.013Z"
   },
   {
    "duration": 13,
    "start_time": "2023-06-05T13:53:04.025Z"
   },
   {
    "duration": 14,
    "start_time": "2023-06-05T13:53:04.039Z"
   },
   {
    "duration": 559,
    "start_time": "2023-06-05T13:53:04.055Z"
   },
   {
    "duration": 3,
    "start_time": "2023-06-05T13:53:04.615Z"
   },
   {
    "duration": 58,
    "start_time": "2023-06-05T13:53:04.619Z"
   },
   {
    "duration": 169,
    "start_time": "2023-06-05T13:53:04.678Z"
   },
   {
    "duration": 9,
    "start_time": "2023-06-05T13:53:04.849Z"
   },
   {
    "duration": 17,
    "start_time": "2023-06-05T13:53:04.859Z"
   },
   {
    "duration": 94,
    "start_time": "2023-06-05T13:53:04.877Z"
   },
   {
    "duration": 32,
    "start_time": "2023-06-05T13:53:04.972Z"
   },
   {
    "duration": 27,
    "start_time": "2023-06-05T13:53:05.006Z"
   },
   {
    "duration": 233,
    "start_time": "2023-06-05T13:53:05.035Z"
   },
   {
    "duration": 24,
    "start_time": "2023-06-05T13:53:05.269Z"
   },
   {
    "duration": 10,
    "start_time": "2023-06-05T13:53:05.294Z"
   },
   {
    "duration": 297,
    "start_time": "2023-06-05T13:53:05.305Z"
   },
   {
    "duration": 156,
    "start_time": "2023-06-05T13:53:05.603Z"
   },
   {
    "duration": 125,
    "start_time": "2023-06-05T13:53:05.760Z"
   },
   {
    "duration": 5,
    "start_time": "2023-06-05T13:53:05.886Z"
   },
   {
    "duration": 245,
    "start_time": "2023-06-05T13:53:05.892Z"
   },
   {
    "duration": 5,
    "start_time": "2023-06-05T13:53:06.138Z"
   }
  ],
  "kernelspec": {
   "display_name": "Python 3 (ipykernel)",
   "language": "python",
   "name": "python3"
  },
  "language_info": {
   "codemirror_mode": {
    "name": "ipython",
    "version": 3
   },
   "file_extension": ".py",
   "mimetype": "text/x-python",
   "name": "python",
   "nbconvert_exporter": "python",
   "pygments_lexer": "ipython3",
   "version": "3.10.9"
  },
  "toc": {
   "base_numbering": 1,
   "nav_menu": {},
   "number_sections": true,
   "sideBar": true,
   "skip_h1_title": true,
   "title_cell": "Table of Contents",
   "title_sidebar": "Contents",
   "toc_cell": false,
   "toc_position": {
    "height": "calc(100% - 180px)",
    "left": "10px",
    "top": "150px",
    "width": "311.025px"
   },
   "toc_section_display": true,
   "toc_window_display": false
  }
 },
 "nbformat": 4,
 "nbformat_minor": 5
}
